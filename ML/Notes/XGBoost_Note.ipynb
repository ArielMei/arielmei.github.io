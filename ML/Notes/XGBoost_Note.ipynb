{
 "cells": [
  {
   "cell_type": "markdown",
   "metadata": {},
   "source": [
    "# XGBoost\n",
    "https://xgboost.readthedocs.io/en/latest/tutorials/index.html\n",
    "\n",
    "https://www.programcreek.com/python/example/99824/xgboost.XGBClassifier\n",
    "\n",
    "https://www.datacamp.com/community/tutorials/xgboost-in-python\n",
    "\n",
    "https://xgboost.readthedocs.io/en/latest/tutorials/index.html\n",
    "\n",
    "- XGBoost stands for “Extreme Gradient Boosting”, where the term “Gradient Boosting” originates from the paper Greedy Function Approximation: A Gradient Boosting Machine, by Friedman. \n",
    "- XGBoost decision tree ensembles"
   ]
  },
  {
   "cell_type": "markdown",
   "metadata": {},
   "source": [
    "# Housing Regression\n",
    "https://campus.datacamp.com/courses/extreme-gradient-boosting-with-xgboost/fine-tuning-your-xgboost-model?ex=11"
   ]
  },
  {
   "cell_type": "code",
   "execution_count": 1,
   "metadata": {},
   "outputs": [],
   "source": [
    "import pandas as pd\n",
    "import xgboost as xgb\n",
    "import numpy as np\n",
    "\n",
    "import warnings\n",
    "warnings.filterwarnings(action=\"ignore\")"
   ]
  },
  {
   "cell_type": "code",
   "execution_count": 2,
   "metadata": {},
   "outputs": [],
   "source": [
    "housing_data = pd.read_excel('Kaggle_house _price/house_data.xls')\n",
    "X,y = housing_data[housing_data.columns.tolist()[:-1]], housing_data[housing_data.columns.tolist()[-1]]"
   ]
  },
  {
   "cell_type": "code",
   "execution_count": 3,
   "metadata": {},
   "outputs": [],
   "source": [
    "housing_dmatrix = xgb.DMatrix(data=X,label=y)"
   ]
  },
  {
   "cell_type": "markdown",
   "metadata": {},
   "source": [
    "## Untuned Model"
   ]
  },
  {
   "cell_type": "code",
   "execution_count": 4,
   "metadata": {},
   "outputs": [],
   "source": [
    "untuned_params = {\"objective\":\"reg:linear\"}"
   ]
  },
  {
   "cell_type": "code",
   "execution_count": null,
   "metadata": {
    "scrolled": true
   },
   "outputs": [],
   "source": [
    "untuned_cv_results_rmse = xgb.cv(dtrain=housing_dmatrix, params=untuned_params, nfold=4,\n",
    "                                 metrics=\"rmse\", as_pandas=True,seed=123)"
   ]
  },
  {
   "cell_type": "code",
   "execution_count": 6,
   "metadata": {},
   "outputs": [
    {
     "data": {
      "text/html": [
       "<div>\n",
       "<style scoped>\n",
       "    .dataframe tbody tr th:only-of-type {\n",
       "        vertical-align: middle;\n",
       "    }\n",
       "\n",
       "    .dataframe tbody tr th {\n",
       "        vertical-align: top;\n",
       "    }\n",
       "\n",
       "    .dataframe thead th {\n",
       "        text-align: right;\n",
       "    }\n",
       "</style>\n",
       "<table border=\"1\" class=\"dataframe\">\n",
       "  <thead>\n",
       "    <tr style=\"text-align: right;\">\n",
       "      <th></th>\n",
       "      <th>train-rmse-mean</th>\n",
       "      <th>train-rmse-std</th>\n",
       "      <th>test-rmse-mean</th>\n",
       "      <th>test-rmse-std</th>\n",
       "    </tr>\n",
       "  </thead>\n",
       "  <tbody>\n",
       "    <tr>\n",
       "      <th>5</th>\n",
       "      <td>153562.953125</td>\n",
       "      <td>1470.085523</td>\n",
       "      <td>174172.757812</td>\n",
       "      <td>1954.420486</td>\n",
       "    </tr>\n",
       "    <tr>\n",
       "      <th>6</th>\n",
       "      <td>138731.914062</td>\n",
       "      <td>1248.845910</td>\n",
       "      <td>162730.710938</td>\n",
       "      <td>2889.229530</td>\n",
       "    </tr>\n",
       "    <tr>\n",
       "      <th>7</th>\n",
       "      <td>129082.476562</td>\n",
       "      <td>1157.934699</td>\n",
       "      <td>156195.765625</td>\n",
       "      <td>3593.305448</td>\n",
       "    </tr>\n",
       "    <tr>\n",
       "      <th>8</th>\n",
       "      <td>122845.099610</td>\n",
       "      <td>1131.079535</td>\n",
       "      <td>152798.160156</td>\n",
       "      <td>4520.309356</td>\n",
       "    </tr>\n",
       "    <tr>\n",
       "      <th>9</th>\n",
       "      <td>117486.644532</td>\n",
       "      <td>1237.595302</td>\n",
       "      <td>150277.082031</td>\n",
       "      <td>4307.187923</td>\n",
       "    </tr>\n",
       "  </tbody>\n",
       "</table>\n",
       "</div>"
      ],
      "text/plain": [
       "   train-rmse-mean  train-rmse-std  test-rmse-mean  test-rmse-std\n",
       "5    153562.953125     1470.085523   174172.757812    1954.420486\n",
       "6    138731.914062     1248.845910   162730.710938    2889.229530\n",
       "7    129082.476562     1157.934699   156195.765625    3593.305448\n",
       "8    122845.099610     1131.079535   152798.160156    4520.309356\n",
       "9    117486.644532     1237.595302   150277.082031    4307.187923"
      ]
     },
     "execution_count": 6,
     "metadata": {},
     "output_type": "execute_result"
    }
   ],
   "source": [
    "untuned_cv_results_rmse.tail()"
   ]
  },
  {
   "cell_type": "code",
   "execution_count": 7,
   "metadata": {},
   "outputs": [
    {
     "name": "stdout",
     "output_type": "stream",
     "text": [
      "Untuned rmse: 9    150277.082031\n",
      "Name: test-rmse-mean, dtype: float64\n"
     ]
    }
   ],
   "source": [
    "print(\"Untuned rmse: {}\".format(untuned_cv_results_rmse[\"test-rmse-mean\"].tail(1)))"
   ]
  },
  {
   "cell_type": "markdown",
   "metadata": {},
   "source": [
    "## Tuned Model"
   ]
  },
  {
   "cell_type": "code",
   "execution_count": 8,
   "metadata": {},
   "outputs": [],
   "source": [
    "tuned_params = {\"objective\":\"reg:linear\", \"colsample_bytree\":0.3,\n",
    "               \"learning_rate\":0.1, \"max_depth\":5}"
   ]
  },
  {
   "cell_type": "code",
   "execution_count": null,
   "metadata": {},
   "outputs": [],
   "source": [
    "tuned_cv_results_rmse = xgb.cv(dtrain=housing_dmatrix, params=tuned_params, nfold=4,\n",
    "                                metrics=\"rmse\", as_pandas=True,seed=123,\n",
    "                                num_boost_round=200)"
   ]
  },
  {
   "cell_type": "code",
   "execution_count": 10,
   "metadata": {},
   "outputs": [
    {
     "name": "stdout",
     "output_type": "stream",
     "text": [
      "Tuned rmse: 199    137991.195312\n",
      "Name: test-rmse-mean, dtype: float64\n"
     ]
    }
   ],
   "source": [
    "print(\"Tuned rmse: {}\".format(tuned_cv_results_rmse[\"test-rmse-mean\"].tail(1)))"
   ]
  },
  {
   "cell_type": "markdown",
   "metadata": {},
   "source": [
    "## Common tree tunable parameters\n",
    "- **learning rate**: learning rate/eta\n",
    "- **gamma**: min loss reduction to create new tree split\n",
    "- **lambda**:L2 reg on leaf weights\n",
    "- **alpha**:L1 reg on leaf weights\n",
    "- **max_depth**: max depth per tree\n",
    "- **subsample**: % samples used per tree\n",
    "- **colsample_bytree**: % features used per tree\n",
    "\n",
    "## Linear tunable parameters\n",
    "- **lambda**:L2 reg on leaf weights\n",
    "- **alpha**:L1 reg on leaf weights\n",
    "- **lambda_bias**: L2 reg term on bias"
   ]
  },
  {
   "cell_type": "markdown",
   "metadata": {},
   "source": [
    "## Grid Search"
   ]
  },
  {
   "cell_type": "code",
   "execution_count": 11,
   "metadata": {},
   "outputs": [],
   "source": [
    "from sklearn.model_selection import GridSearchCV"
   ]
  },
  {
   "cell_type": "code",
   "execution_count": 12,
   "metadata": {},
   "outputs": [],
   "source": [
    "gbm_param_grid = {'learning_rate':[0.01,0.1,0.5,0.9],\n",
    "                  'n_estimators':[200],\n",
    "                  'subsample':[0.3,0.5,0.9]}"
   ]
  },
  {
   "cell_type": "code",
   "execution_count": 13,
   "metadata": {},
   "outputs": [
    {
     "name": "stdout",
     "output_type": "stream",
     "text": [
      "Fitting 4 folds for each of 12 candidates, totalling 48 fits\n"
     ]
    },
    {
     "name": "stderr",
     "output_type": "stream",
     "text": [
      "[Parallel(n_jobs=1)]: Done  48 out of  48 | elapsed:  2.2min finished\n"
     ]
    }
   ],
   "source": [
    "gbm = xgb.XGBRegressor()\n",
    "grid_mse = GridSearchCV(estimator=gbm, \n",
    "                        param_grid=gbm_param_grid,\n",
    "                        scoring='neg_mean_squared_error',\n",
    "                        cv=4,\n",
    "                        verbose=1).fit(X,y)"
   ]
  },
  {
   "cell_type": "code",
   "execution_count": 14,
   "metadata": {},
   "outputs": [
    {
     "name": "stdout",
     "output_type": "stream",
     "text": [
      "Best parameters found: {'learning_rate': 0.1, 'n_estimators': 200, 'subsample': 0.9}\n"
     ]
    }
   ],
   "source": [
    "print(\"Best parameters found:\", grid_mse.best_params_)"
   ]
  },
  {
   "cell_type": "code",
   "execution_count": 15,
   "metadata": {},
   "outputs": [
    {
     "name": "stdout",
     "output_type": "stream",
     "text": [
      "Lowest RMSE found: 148320.0431300591\n"
     ]
    }
   ],
   "source": [
    "print(\"Lowest RMSE found:\", np.sqrt(np.abs(grid_mse.best_score_)))"
   ]
  },
  {
   "cell_type": "markdown",
   "metadata": {},
   "source": [
    "# Heart Disease Classification"
   ]
  },
  {
   "cell_type": "code",
   "execution_count": 16,
   "metadata": {},
   "outputs": [
    {
     "data": {
      "text/html": [
       "<div>\n",
       "<style scoped>\n",
       "    .dataframe tbody tr th:only-of-type {\n",
       "        vertical-align: middle;\n",
       "    }\n",
       "\n",
       "    .dataframe tbody tr th {\n",
       "        vertical-align: top;\n",
       "    }\n",
       "\n",
       "    .dataframe thead th {\n",
       "        text-align: right;\n",
       "    }\n",
       "</style>\n",
       "<table border=\"1\" class=\"dataframe\">\n",
       "  <thead>\n",
       "    <tr style=\"text-align: right;\">\n",
       "      <th></th>\n",
       "      <th>age</th>\n",
       "      <th>sex</th>\n",
       "      <th>chest_pain_type</th>\n",
       "      <th>resting_blood_pressure</th>\n",
       "      <th>cholesterol</th>\n",
       "      <th>fasting_blood_sugar</th>\n",
       "      <th>rest_ecg</th>\n",
       "      <th>max_heart_rate</th>\n",
       "      <th>exercise_indeced_angina</th>\n",
       "      <th>ST_depression</th>\n",
       "      <th>ST_slope</th>\n",
       "      <th>num_major_vessels</th>\n",
       "      <th>thalassemia</th>\n",
       "      <th>target</th>\n",
       "    </tr>\n",
       "  </thead>\n",
       "  <tbody>\n",
       "    <tr>\n",
       "      <th>0</th>\n",
       "      <td>0.592593</td>\n",
       "      <td>male</td>\n",
       "      <td>non-anginal pain</td>\n",
       "      <td>0.75</td>\n",
       "      <td>-0.110236</td>\n",
       "      <td>greater than 120mg/dl</td>\n",
       "      <td>normal</td>\n",
       "      <td>-0.092308</td>\n",
       "      <td>No</td>\n",
       "      <td>0.9375</td>\n",
       "      <td>upsloping</td>\n",
       "      <td>0</td>\n",
       "      <td>normal</td>\n",
       "      <td>1</td>\n",
       "    </tr>\n",
       "    <tr>\n",
       "      <th>1</th>\n",
       "      <td>-1.333333</td>\n",
       "      <td>male</td>\n",
       "      <td>atypical angina</td>\n",
       "      <td>0.00</td>\n",
       "      <td>0.157480</td>\n",
       "      <td>lower than 120mg/dl</td>\n",
       "      <td>ST-T wave abnormality</td>\n",
       "      <td>1.046154</td>\n",
       "      <td>No</td>\n",
       "      <td>1.6875</td>\n",
       "      <td>upsloping</td>\n",
       "      <td>0</td>\n",
       "      <td>fixed defect</td>\n",
       "      <td>1</td>\n",
       "    </tr>\n",
       "    <tr>\n",
       "      <th>2</th>\n",
       "      <td>-1.037037</td>\n",
       "      <td>female</td>\n",
       "      <td>typical angina</td>\n",
       "      <td>0.00</td>\n",
       "      <td>-0.566929</td>\n",
       "      <td>lower than 120mg/dl</td>\n",
       "      <td>normal</td>\n",
       "      <td>0.584615</td>\n",
       "      <td>No</td>\n",
       "      <td>0.3750</td>\n",
       "      <td>downsloping</td>\n",
       "      <td>0</td>\n",
       "      <td>fixed defect</td>\n",
       "      <td>1</td>\n",
       "    </tr>\n",
       "    <tr>\n",
       "      <th>3</th>\n",
       "      <td>0.074074</td>\n",
       "      <td>male</td>\n",
       "      <td>typical angina</td>\n",
       "      <td>-0.50</td>\n",
       "      <td>-0.062992</td>\n",
       "      <td>lower than 120mg/dl</td>\n",
       "      <td>ST-T wave abnormality</td>\n",
       "      <td>0.769231</td>\n",
       "      <td>No</td>\n",
       "      <td>0.0000</td>\n",
       "      <td>downsloping</td>\n",
       "      <td>0</td>\n",
       "      <td>fixed defect</td>\n",
       "      <td>1</td>\n",
       "    </tr>\n",
       "    <tr>\n",
       "      <th>4</th>\n",
       "      <td>0.148148</td>\n",
       "      <td>female</td>\n",
       "      <td>Unknown</td>\n",
       "      <td>-0.50</td>\n",
       "      <td>1.795276</td>\n",
       "      <td>lower than 120mg/dl</td>\n",
       "      <td>ST-T wave abnormality</td>\n",
       "      <td>0.307692</td>\n",
       "      <td>Yes</td>\n",
       "      <td>-0.1250</td>\n",
       "      <td>downsloping</td>\n",
       "      <td>0</td>\n",
       "      <td>fixed defect</td>\n",
       "      <td>1</td>\n",
       "    </tr>\n",
       "  </tbody>\n",
       "</table>\n",
       "</div>"
      ],
      "text/plain": [
       "        age     sex   chest_pain_type  resting_blood_pressure  cholesterol  \\\n",
       "0  0.592593    male  non-anginal pain                    0.75    -0.110236   \n",
       "1 -1.333333    male   atypical angina                    0.00     0.157480   \n",
       "2 -1.037037  female    typical angina                    0.00    -0.566929   \n",
       "3  0.074074    male    typical angina                   -0.50    -0.062992   \n",
       "4  0.148148  female           Unknown                   -0.50     1.795276   \n",
       "\n",
       "     fasting_blood_sugar               rest_ecg  max_heart_rate  \\\n",
       "0  greater than 120mg/dl                 normal       -0.092308   \n",
       "1    lower than 120mg/dl  ST-T wave abnormality        1.046154   \n",
       "2    lower than 120mg/dl                 normal        0.584615   \n",
       "3    lower than 120mg/dl  ST-T wave abnormality        0.769231   \n",
       "4    lower than 120mg/dl  ST-T wave abnormality        0.307692   \n",
       "\n",
       "  exercise_indeced_angina  ST_depression     ST_slope  num_major_vessels  \\\n",
       "0                      No         0.9375    upsloping                  0   \n",
       "1                      No         1.6875    upsloping                  0   \n",
       "2                      No         0.3750  downsloping                  0   \n",
       "3                      No         0.0000  downsloping                  0   \n",
       "4                     Yes        -0.1250  downsloping                  0   \n",
       "\n",
       "    thalassemia  target  \n",
       "0        normal       1  \n",
       "1  fixed defect       1  \n",
       "2  fixed defect       1  \n",
       "3  fixed defect       1  \n",
       "4  fixed defect       1  "
      ]
     },
     "execution_count": 16,
     "metadata": {},
     "output_type": "execute_result"
    }
   ],
   "source": [
    "heartD = pd.read_csv('Kaggle_Heart_Disease/heartD_Nor.csv')\n",
    "heartD.head()"
   ]
  },
  {
   "cell_type": "code",
   "execution_count": 17,
   "metadata": {},
   "outputs": [
    {
     "data": {
      "text/html": [
       "<div>\n",
       "<style scoped>\n",
       "    .dataframe tbody tr th:only-of-type {\n",
       "        vertical-align: middle;\n",
       "    }\n",
       "\n",
       "    .dataframe tbody tr th {\n",
       "        vertical-align: top;\n",
       "    }\n",
       "\n",
       "    .dataframe thead th {\n",
       "        text-align: right;\n",
       "    }\n",
       "</style>\n",
       "<table border=\"1\" class=\"dataframe\">\n",
       "  <thead>\n",
       "    <tr style=\"text-align: right;\">\n",
       "      <th></th>\n",
       "      <th>age</th>\n",
       "      <th>resting_blood_pressure</th>\n",
       "      <th>cholesterol</th>\n",
       "      <th>max_heart_rate</th>\n",
       "      <th>ST_depression</th>\n",
       "      <th>num_major_vessels</th>\n",
       "      <th>target</th>\n",
       "      <th>sex_male</th>\n",
       "      <th>chest_pain_type_atypical angina</th>\n",
       "      <th>chest_pain_type_non-anginal pain</th>\n",
       "      <th>chest_pain_type_typical angina</th>\n",
       "      <th>fasting_blood_sugar_lower than 120mg/dl</th>\n",
       "      <th>rest_ecg_left ventricular hypertrophy</th>\n",
       "      <th>rest_ecg_normal</th>\n",
       "      <th>exercise_indeced_angina_Yes</th>\n",
       "      <th>ST_slope_flat</th>\n",
       "      <th>ST_slope_upsloping</th>\n",
       "      <th>thalassemia_normal</th>\n",
       "      <th>thalassemia_reversable defect</th>\n",
       "      <th>thalassemia_unknown</th>\n",
       "    </tr>\n",
       "  </thead>\n",
       "  <tbody>\n",
       "    <tr>\n",
       "      <th>0</th>\n",
       "      <td>0.592593</td>\n",
       "      <td>0.75</td>\n",
       "      <td>-0.110236</td>\n",
       "      <td>-0.092308</td>\n",
       "      <td>0.9375</td>\n",
       "      <td>0</td>\n",
       "      <td>1</td>\n",
       "      <td>1</td>\n",
       "      <td>0</td>\n",
       "      <td>1</td>\n",
       "      <td>0</td>\n",
       "      <td>0</td>\n",
       "      <td>0</td>\n",
       "      <td>1</td>\n",
       "      <td>0</td>\n",
       "      <td>0</td>\n",
       "      <td>1</td>\n",
       "      <td>1</td>\n",
       "      <td>0</td>\n",
       "      <td>0</td>\n",
       "    </tr>\n",
       "    <tr>\n",
       "      <th>1</th>\n",
       "      <td>-1.333333</td>\n",
       "      <td>0.00</td>\n",
       "      <td>0.157480</td>\n",
       "      <td>1.046154</td>\n",
       "      <td>1.6875</td>\n",
       "      <td>0</td>\n",
       "      <td>1</td>\n",
       "      <td>1</td>\n",
       "      <td>1</td>\n",
       "      <td>0</td>\n",
       "      <td>0</td>\n",
       "      <td>1</td>\n",
       "      <td>0</td>\n",
       "      <td>0</td>\n",
       "      <td>0</td>\n",
       "      <td>0</td>\n",
       "      <td>1</td>\n",
       "      <td>0</td>\n",
       "      <td>0</td>\n",
       "      <td>0</td>\n",
       "    </tr>\n",
       "    <tr>\n",
       "      <th>2</th>\n",
       "      <td>-1.037037</td>\n",
       "      <td>0.00</td>\n",
       "      <td>-0.566929</td>\n",
       "      <td>0.584615</td>\n",
       "      <td>0.3750</td>\n",
       "      <td>0</td>\n",
       "      <td>1</td>\n",
       "      <td>0</td>\n",
       "      <td>0</td>\n",
       "      <td>0</td>\n",
       "      <td>1</td>\n",
       "      <td>1</td>\n",
       "      <td>0</td>\n",
       "      <td>1</td>\n",
       "      <td>0</td>\n",
       "      <td>0</td>\n",
       "      <td>0</td>\n",
       "      <td>0</td>\n",
       "      <td>0</td>\n",
       "      <td>0</td>\n",
       "    </tr>\n",
       "    <tr>\n",
       "      <th>3</th>\n",
       "      <td>0.074074</td>\n",
       "      <td>-0.50</td>\n",
       "      <td>-0.062992</td>\n",
       "      <td>0.769231</td>\n",
       "      <td>0.0000</td>\n",
       "      <td>0</td>\n",
       "      <td>1</td>\n",
       "      <td>1</td>\n",
       "      <td>0</td>\n",
       "      <td>0</td>\n",
       "      <td>1</td>\n",
       "      <td>1</td>\n",
       "      <td>0</td>\n",
       "      <td>0</td>\n",
       "      <td>0</td>\n",
       "      <td>0</td>\n",
       "      <td>0</td>\n",
       "      <td>0</td>\n",
       "      <td>0</td>\n",
       "      <td>0</td>\n",
       "    </tr>\n",
       "    <tr>\n",
       "      <th>4</th>\n",
       "      <td>0.148148</td>\n",
       "      <td>-0.50</td>\n",
       "      <td>1.795276</td>\n",
       "      <td>0.307692</td>\n",
       "      <td>-0.1250</td>\n",
       "      <td>0</td>\n",
       "      <td>1</td>\n",
       "      <td>0</td>\n",
       "      <td>0</td>\n",
       "      <td>0</td>\n",
       "      <td>0</td>\n",
       "      <td>1</td>\n",
       "      <td>0</td>\n",
       "      <td>0</td>\n",
       "      <td>1</td>\n",
       "      <td>0</td>\n",
       "      <td>0</td>\n",
       "      <td>0</td>\n",
       "      <td>0</td>\n",
       "      <td>0</td>\n",
       "    </tr>\n",
       "  </tbody>\n",
       "</table>\n",
       "</div>"
      ],
      "text/plain": [
       "        age  resting_blood_pressure  cholesterol  max_heart_rate  \\\n",
       "0  0.592593                    0.75    -0.110236       -0.092308   \n",
       "1 -1.333333                    0.00     0.157480        1.046154   \n",
       "2 -1.037037                    0.00    -0.566929        0.584615   \n",
       "3  0.074074                   -0.50    -0.062992        0.769231   \n",
       "4  0.148148                   -0.50     1.795276        0.307692   \n",
       "\n",
       "   ST_depression  num_major_vessels  target  sex_male  \\\n",
       "0         0.9375                  0       1         1   \n",
       "1         1.6875                  0       1         1   \n",
       "2         0.3750                  0       1         0   \n",
       "3         0.0000                  0       1         1   \n",
       "4        -0.1250                  0       1         0   \n",
       "\n",
       "   chest_pain_type_atypical angina  chest_pain_type_non-anginal pain  \\\n",
       "0                                0                                 1   \n",
       "1                                1                                 0   \n",
       "2                                0                                 0   \n",
       "3                                0                                 0   \n",
       "4                                0                                 0   \n",
       "\n",
       "   chest_pain_type_typical angina  fasting_blood_sugar_lower than 120mg/dl  \\\n",
       "0                               0                                        0   \n",
       "1                               0                                        1   \n",
       "2                               1                                        1   \n",
       "3                               1                                        1   \n",
       "4                               0                                        1   \n",
       "\n",
       "   rest_ecg_left ventricular hypertrophy  rest_ecg_normal  \\\n",
       "0                                      0                1   \n",
       "1                                      0                0   \n",
       "2                                      0                1   \n",
       "3                                      0                0   \n",
       "4                                      0                0   \n",
       "\n",
       "   exercise_indeced_angina_Yes  ST_slope_flat  ST_slope_upsloping  \\\n",
       "0                            0              0                   1   \n",
       "1                            0              0                   1   \n",
       "2                            0              0                   0   \n",
       "3                            0              0                   0   \n",
       "4                            1              0                   0   \n",
       "\n",
       "   thalassemia_normal  thalassemia_reversable defect  thalassemia_unknown  \n",
       "0                   1                              0                    0  \n",
       "1                   0                              0                    0  \n",
       "2                   0                              0                    0  \n",
       "3                   0                              0                    0  \n",
       "4                   0                              0                    0  "
      ]
     },
     "execution_count": 17,
     "metadata": {},
     "output_type": "execute_result"
    }
   ],
   "source": [
    "heartD = pd.get_dummies(heartD,drop_first=True)\n",
    "heartD.head()"
   ]
  },
  {
   "cell_type": "code",
   "execution_count": 18,
   "metadata": {},
   "outputs": [],
   "source": [
    "from sklearn.model_selection import train_test_split\n",
    "from sklearn.pipeline import make_pipeline\n",
    "from sklearn.preprocessing import RobustScaler\n",
    "\n",
    "X_train, X_test, y_train, y_test = train_test_split(heartD.drop('target',1), heartD['target'], \n",
    "                                                    test_size = 0.2, random_state = 42)"
   ]
  },
  {
   "cell_type": "code",
   "execution_count": 19,
   "metadata": {},
   "outputs": [],
   "source": [
    "import xgboost as xgb\n",
    "from xgboost import XGBClassifier\n",
    "\n",
    "import matplotlib.pyplot as plt\n",
    "import itertools\n",
    "from sklearn.metrics import precision_score,recall_score,f1_score,jaccard_similarity_score,log_loss\n",
    "from sklearn.metrics import classification_report,confusion_matrix\n",
    "from sklearn.metrics import precision_recall_curve, roc_curve, auc, roc_auc_score, average_precision_score\n",
    "\n",
    "from sklearn.model_selection import cross_val_predict,cross_val_score"
   ]
  },
  {
   "cell_type": "markdown",
   "metadata": {},
   "source": [
    "## Model"
   ]
  },
  {
   "cell_type": "code",
   "execution_count": 20,
   "metadata": {},
   "outputs": [
    {
     "name": "stdout",
     "output_type": "stream",
     "text": [
      "[0]\tvalidation_0-auc:0.899462\tvalidation_1-auc:0.839978\n",
      "Multiple eval metrics have been passed: 'validation_1-auc' will be used for early stopping.\n",
      "\n",
      "Will train until validation_1-auc hasn't improved in 200 rounds.\n",
      "[100]\tvalidation_0-auc:0.998689\tvalidation_1-auc:0.885776\n",
      "[200]\tvalidation_0-auc:1\tvalidation_1-auc:0.884698\n",
      "Stopping. Best iteration:\n",
      "[18]\tvalidation_0-auc:0.969132\tvalidation_1-auc:0.904095\n",
      "\n",
      "Test set AUC: 0.9040948275862069\n",
      "Test set accuracy: 0.8524590163934426\n"
     ]
    },
    {
     "data": {
      "image/png": "[encoded data removed]",
      "text/plain": [
       "<Figure size 432x288 with 1 Axes>"
      ]
     },
     "metadata": {},
     "output_type": "display_data"
    }
   ],
   "source": [
    "eval_set = [[X_train, y_train],[X_test, y_test]]\n",
    "xgb_clf = xgb.XGBClassifier(n_estimators=1000,random_state=42)\n",
    "xgb_clf.fit(X_train, y_train, eval_metric='auc', verbose=100,\n",
    "            eval_set=eval_set, early_stopping_rounds=200)\n",
    "    \n",
    "print(\"Test set AUC:\", roc_auc_score(y_test, xgb_clf.predict_proba(X_test)[:,1])) \n",
    "print(\"Test set accuracy:\", xgb_clf.score(X_test, y_test))\n",
    "\n",
    "ax = xgb.plot_importance(xgb_clf, height=0.7, xlabel='F score', \n",
    "                         importance_type='weight', \n",
    "                         max_num_features=20, grid=True, show_values=True,color='green')\n",
    "plt.rcParams['figure.figsize'] = [7, 5]\n",
    "plt.rcParams['font.size'] = 13\n",
    "plt.show()"
   ]
  },
  {
   "cell_type": "markdown",
   "metadata": {},
   "source": [
    "## Grid Search Xgboost"
   ]
  },
  {
   "cell_type": "code",
   "execution_count": null,
   "metadata": {},
   "outputs": [],
   "source": [
    "from sklearn.model_selection import GridSearchCV\n",
    "from sklearn.model_selection import KFold\n",
    "\n",
    "kfold = KFold(n_splits = 3, shuffle = True, random_state = 0)\n",
    "\n",
    "\n",
    "gbm_param_grid = {'learning_rate':[0.4,0.5,0.6],\n",
    "                  'n_estimators':[400,500,600],\n",
    "                  'max_depth': [5, 6, 7,8]}\n",
    "\n",
    "grid = GridSearchCV(estimator = xgb.XGBClassifier(objective='binary:logistic',random_state=42),  \n",
    "                    param_grid=gbm_param_grid,\n",
    "                    scoring='roc_auc',\n",
    "                    cv=kfold,\n",
    "                    verbose=100).fit(X_train,y_train)\n",
    "\n",
    "print(\"Best parameters found:\", grid.best_params_)\n",
    "\n",
    "xgb_cv_clf = grid.best_estimator_"
   ]
  },
  {
   "cell_type": "code",
   "execution_count": 22,
   "metadata": {},
   "outputs": [
    {
     "name": "stdout",
     "output_type": "stream",
     "text": [
      "Test set AUC: 0.8922413793103449\n",
      "Test set accuracy: 0.8524590163934426\n"
     ]
    },
    {
     "data": {
      "image/png": "[encoded data removed]",
      "text/plain": [
       "<Figure size 504x360 with 1 Axes>"
      ]
     },
     "metadata": {},
     "output_type": "display_data"
    }
   ],
   "source": [
    "print(\"Test set AUC:\", roc_auc_score(y_test, xgb_cv_clf.predict_proba(X_test)[:,1])) \n",
    "print(\"Test set accuracy:\", xgb_cv_clf.score(X_test, y_test))\n",
    "\n",
    "ax = xgb.plot_importance(xgb_cv_clf, height=0.7, xlabel='F score', \n",
    "                         importance_type='weight', \n",
    "                         max_num_features=20, grid=True, show_values=True,color='green')\n",
    "plt.rcParams['figure.figsize'] = [7, 5]\n",
    "plt.rcParams['font.size'] = 13\n",
    "plt.show()"
   ]
  },
  {
   "cell_type": "code",
   "execution_count": null,
   "metadata": {},
   "outputs": [],
   "source": []
  }
 ],
 "metadata": {
  "kernelspec": {
   "display_name": "Python 3",
   "language": "python",
   "name": "python3"
  },
  "language_info": {
   "codemirror_mode": {
    "name": "ipython",
    "version": 3
   },
   "file_extension": ".py",
   "mimetype": "text/x-python",
   "name": "python",
   "nbconvert_exporter": "python",
   "pygments_lexer": "ipython3",
   "version": "3.6.5"
  },
  "latex_envs": {
   "LaTeX_envs_menu_present": true,
   "autoclose": false,
   "autocomplete": true,
   "bibliofile": "biblio.bib",
   "cite_by": "apalike",
   "current_citInitial": 1,
   "eqLabelWithNumbers": true,
   "eqNumInitial": 1,
   "hotkeys": {
    "equation": "Ctrl-E",
    "itemize": "Ctrl-I"
   },
   "labels_anchors": false,
   "latex_user_defs": false,
   "report_style_numbering": false,
   "user_envs_cfg": false
  },
  "toc": {
   "base_numbering": 1,
   "nav_menu": {},
   "number_sections": true,
   "sideBar": true,
   "skip_h1_title": false,
   "title_cell": "Table of Contents",
   "title_sidebar": "Contents",
   "toc_cell": false,
   "toc_position": {},
   "toc_section_display": true,
   "toc_window_display": true
  }
 },
 "nbformat": 4,
 "nbformat_minor": 2
}
