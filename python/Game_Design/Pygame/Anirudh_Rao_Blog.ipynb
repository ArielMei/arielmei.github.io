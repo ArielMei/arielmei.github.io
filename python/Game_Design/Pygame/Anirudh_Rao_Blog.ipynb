{
 "cells": [
  {
   "cell_type": "markdown",
   "metadata": {
    "slideshow": {
     "slide_type": "slide"
    }
   },
   "source": [
    "https://www.edureka.co/blog/pygame-tutorial"
   ]
  },
  {
   "cell_type": "markdown",
   "metadata": {
    "slideshow": {
     "slide_type": "slide"
    }
   },
   "source": [
    "## Prerequisites\n",
    "For making a game of your choice there are 3 main questions that need answering. They are as follows:\n",
    "\n",
    "- *What sort of game do you want to build?*\n",
    "- *What sort of language do you want to program in?*\n",
    "- *What sort of platform do you want to deploy your game to?*\n",
    "\n",
    "Most of the time you can answer each of these questions and find a perfect framework that fits your requirements. Other times, it might not be possible. Consider for example, there aren’t many HTML5 frameworks that allow you to write a high-performance 3D game that you can build. \n",
    "\n",
    "For PyGame, let’s  assume you gave the following answers to the previous 3 questions:\n",
    "\n",
    "- The game you want to create is **graphical**, but not 3D.\n",
    "- You want to program in Python. Also, you already know a little bit of Python\n",
    "- You want to create a client application that can potentially be wrapped in a standalone executable.\n",
    "\n",
    "So, next up on this PyGame Tutorial blog let us look at how we can set up PyGame."
   ]
  },
  {
   "cell_type": "markdown",
   "metadata": {
    "slideshow": {
     "slide_type": "slide"
    }
   },
   "source": [
    "## Installing PyGame\n",
    "- The first prerequisite is to install Python.\n",
    "- Download the official PyGame installer and run the corresponding files and follow the on-screen instructions.\n",
    "\n",
    "Steps for install\n",
    "- open terminal\n",
    "- curl https://bootstrap.pypa.io/get-pip.py > get-pip.py\n",
    "- sudo pip install pygame\n",
    "\n",
    "(In my case, I just use the command of:  **sudo pip install pygame**)"
   ]
  },
  {
   "cell_type": "markdown",
   "metadata": {
    "slideshow": {
     "slide_type": "slide"
    }
   },
   "source": [
    "## Pygame \n",
    "### Pygame Window\n",
    "\n",
    "```Python\n",
    "import pygame                                     # Access the PyGame framework\n",
    " \n",
    "pygame.init()                                     # Initializes all the modules required for PyGame.\n",
    "screen = pygame.display.set_mode((400, 300))      # Launch a window of the desired size(width, height)\n",
    "done = False                                      # \n",
    " \n",
    "while not done:\n",
    "        for event in pygame.event.get():\n",
    "                if event.type == pygame.QUIT:     # pygame.QUIT: click on the close button in the corner of the window.\n",
    "                        done = True\n",
    "        pygame.draw.rect(screen, (0, 128, 255), pygame.Rect(30, 30, 60, 60))\n",
    "        pygame.display.flip()                     # Swaping the game screen to update.\n",
    "```\n",
    "- The first argument **screen** is the surface instance to draw the rectangle to.\n",
    "- The second argument is the (red, green, blue) **(0, 128, 255)** tuple that represents the color to draw with.\n",
    "- The third argument is a pygame.Rect instance. The arguments for this constructor are the x and y coordinates of the top left corner **30, 30**, the width **60**, and the height **60**. \n",
    "- **pygame.display.flip():** PyGame is double-buffered so this swaps the buffers. All you need to know is that this call is required in order for any updates that you make to the game screen to become visible.\n"
   ]
  },
  {
   "cell_type": "markdown",
   "metadata": {
    "slideshow": {
     "slide_type": "slide"
    }
   },
   "source": [
    "### Interactivity\n",
    "The point of a game is to be interactive. \n",
    "Right now, the only thing you can interact with is the close button. \n",
    "Which isn’t a very fun game, right? \n",
    "All user input events come through the event queue. \n",
    "Simply add more if statements to that for loop to add more interactivity. \n",
    "```Python\n",
    "# Pressing the space key to change the color of the box!\n",
    "import pygame\n",
    " \n",
    "pygame.init()\n",
    "screen = pygame.display.set_mode((400, 300))\n",
    "done = False\n",
    "is_blue = True      # \n",
    "\n",
    "while not done:\n",
    "        for event in pygame.event.get():\n",
    "                #---------------\n",
    "                if event.type == pygame.KEYDOWN and event.key == pygame.K_SPACE:     \n",
    "                        is_blue = not is_blue                                       \n",
    "                if is_blue: color = (0, 128, 255)\n",
    "                else: color = (255, 100, 0)\n",
    "                #---------------\n",
    "                if event.type == pygame.QUIT:\n",
    "                        done = True\n",
    "    \n",
    "        pygame.draw.rect(screen, color, pygame.Rect(30, 30, 60, 60))        \n",
    "        pygame.display.flip()\n",
    "```        "
   ]
  },
  {
   "cell_type": "markdown",
   "metadata": {},
   "source": [
    "### Adding Functionality\n",
    "```python\n",
    "import pygame\n",
    " \n",
    "pygame.init()\n",
    "screen = pygame.display.set_mode((400, 300))\n",
    "done = False\n",
    "is_blue = True\n",
    "x = 30\n",
    "y = 30\n",
    "  \n",
    "while not done:\n",
    "        for event in pygame.event.get():\n",
    "                if event.type == pygame.QUIT:\n",
    "                        done = True\n",
    "                if event.type == pygame.KEYDOWN and event.key == pygame.K_SPACE:\n",
    "                        is_blue = not is_blue\n",
    "        \n",
    "        pressed = pygame.key.get_pressed()\n",
    "        if pressed[pygame.K_UP]: y -= 3\n",
    "        if pressed[pygame.K_DOWN]: y += 3\n",
    "        if pressed[pygame.K_LEFT]: x -= 3\n",
    "        if pressed[pygame.K_RIGHT]: x += 3\n",
    "        \n",
    "        screen.fill((0, 0, 0))\n",
    "        if is_blue: color = (0, 128, 255)\n",
    "        else: color = (255, 100, 0)\n",
    "        pygame.draw.rect(screen, color, pygame.Rect(x, y, 60, 60))\n",
    "        \n",
    "        pygame.display.flip()\n",
    "        pygame.time.Clock().tick(60)\n",
    "```"
   ]
  },
  {
   "cell_type": "markdown",
   "metadata": {},
   "source": [
    "\n",
    "- <font color='red'>**screen.fill((0, 0, 0))**</font>: Reset the screen to black before you draw the rectangle \n",
    "- <font color='red'>**clock = pygame.time.Clock()**</font>: Track amount of time or to manage framerate.http://pygametutorials.wikidot.com/book-time \n",
    "- <font color='red'>**pygame.time.Clock().tick(number)**</font>: Order pygame to render only number times per second 每秒按确定次数渲染  **pygame.time.Clock.tick(60)** will cause rendering only 60 times per second and then pygame will automaticly call <font color='red'>**pygame.time.wait()**</font>."
   ]
  },
  {
   "cell_type": "markdown",
   "metadata": {},
   "source": [
    "### Adding Images\n",
    "https://www.pygame.org/docs/ref/image.html#comment_pygame_image_load\n",
    "- <font color='red'>**pygame.image.load()**</font>: Load new image from a file \n",
    "```Python\n",
    "[image_name] = pygame.image.load(os.path.join('file_name'))\n",
    "screen.blit([image_name], ([Xposition],[Yposition]))\n",
    "```\n",
    "- <font color='red'>**pygame.image.save()**</font>: Save an image to disk\n",
    "- <font color='red'>**pygame.image.get_extended()**</font>: Test if extended image formats can be loaded\n",
    "\n",
    "```Python\n",
    "import pygame\n",
    "import os\n",
    " \n",
    "pygame.init()\n",
    "screen = pygame.display.set_mode((400, 300))\n",
    "done = False\n",
    "clock = pygame.time.Clock()\n",
    " \n",
    "while not done:\n",
    "        for event in pygame.event.get():\n",
    "                if event.type == pygame.QUIT:\n",
    "                        done = True\n",
    "        \n",
    "        screen.fill((255, 255, 255))\n",
    "        screen.blit(pygame.image.load('ball.png'), (20, 20))\n",
    "        \n",
    "        pygame.display.flip()\n",
    "        clock.tick(60)\n",
    "```\n"
   ]
  },
  {
   "cell_type": "markdown",
   "metadata": {},
   "source": [
    "### Add Sound and Music\n",
    "https://www.pygame.org/docs/ref/music.html#comment_pygame_mixer_music_load\n",
    "#### Using pygame.time.Clock().tick(10) to forbid project be destroyed\n",
    "```Python\n",
    "import pygame\n",
    "\n",
    "pygame.init()\n",
    "pygame.mixer.init()\n",
    "pygame.mixer.music.load('song1.mp3')\n",
    "pygame.mixer.music.play()\n",
    "\n",
    "while pygame.mixer.music.get_busy():\n",
    "    pygame.time.Clock().tick(10)\n",
    "```\n",
    "\n",
    "#### Using pygame.event.wait() to forbid project be destroyed\n",
    "```Python\n",
    "import pygame\n",
    "\n",
    "pygame.init()\n",
    "pygame.mixer.init()\n",
    "pygame.mixer.music.load('song1.mp3')\n",
    "pygame.mixer.music.play() # 0(by default):Playing once, -1:Playing infinitely\n",
    "pygame.event.wait()       # wait for all asynchronous events to end\n",
    "```\n",
    "- <font color='red'>**pygame.event.wait()**</font>: it'll wait for all asynchronous异步 events to end.\n",
    "\n",
    "#### Example\n",
    "```Python\n",
    "import pygame\n",
    "\n",
    "def pmusic(file):\n",
    "    pygame.init()\n",
    "    pygame.mixer.init()\n",
    "    clock = pygame.time.Clock()\n",
    "    pygame.mixer.music.load(file)\n",
    "    pygame.mixer.music.play()\n",
    "    while pygame.mixer.music.get_busy():\n",
    "        print(\"Playing...\")\n",
    "        clock.tick(1000)\n",
    "\n",
    "def stopmusic():\n",
    "    pygame.mixer.music.stop()\n",
    "\n",
    "def getmixerargs():\n",
    "    pygame.mixer.init()\n",
    "    freq, size, chan = pygame.mixer.get_init()\n",
    "    return freq, size, chan\n",
    "\n",
    "\n",
    "def initMixer():\n",
    "    BUFFER = 3072  # audio buffer size, number of samples since pygame 1.8.\n",
    "    FREQ, SIZE, CHAN = getmixerargs()\n",
    "    pygame.mixer.init(FREQ, SIZE, CHAN, BUFFER)\n",
    "\n",
    "try:\n",
    "    initMixer()\n",
    "    file = 'song1.mp3'\n",
    "    pmusic(file)\n",
    "except KeyboardInterrupt:  # to stop playing, press \"ctrl-c\"\n",
    "    stopmusic()\n",
    "    print(\"\\nPlay Stopped by user\")\n",
    "except Exception:\n",
    "    print(\"unknown error\")\n",
    "\n",
    "print(\"Done\")\n",
    "```"
   ]
  },
  {
   "cell_type": "code",
   "execution_count": null,
   "metadata": {},
   "outputs": [],
   "source": []
  }
 ],
 "metadata": {
  "celltoolbar": "Slideshow",
  "kernelspec": {
   "display_name": "Python 3",
   "language": "python",
   "name": "python3"
  },
  "language_info": {
   "codemirror_mode": {
    "name": "ipython",
    "version": 3
   },
   "file_extension": ".py",
   "mimetype": "text/x-python",
   "name": "python",
   "nbconvert_exporter": "python",
   "pygments_lexer": "ipython3",
   "version": "3.6.5"
  },
  "latex_envs": {
   "LaTeX_envs_menu_present": true,
   "autoclose": false,
   "autocomplete": true,
   "bibliofile": "biblio.bib",
   "cite_by": "apalike",
   "current_citInitial": 1,
   "eqLabelWithNumbers": true,
   "eqNumInitial": 1,
   "hotkeys": {
    "equation": "Ctrl-E",
    "itemize": "Ctrl-I"
   },
   "labels_anchors": false,
   "latex_user_defs": false,
   "report_style_numbering": false,
   "user_envs_cfg": false
  },
  "toc": {
   "base_numbering": 1,
   "nav_menu": {},
   "number_sections": true,
   "sideBar": true,
   "skip_h1_title": false,
   "title_cell": "Table of Contents",
   "title_sidebar": "Contents",
   "toc_cell": false,
   "toc_position": {},
   "toc_section_display": true,
   "toc_window_display": false
  }
 },
 "nbformat": 4,
 "nbformat_minor": 2
}
