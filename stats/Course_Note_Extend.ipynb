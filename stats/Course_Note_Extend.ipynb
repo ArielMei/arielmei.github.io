{
 "cells": [
  {
   "cell_type": "code",
   "execution_count": 1,
   "metadata": {},
   "outputs": [],
   "source": [
    "import pandas as pd\n",
    "import numpy as np\n",
    "import matplotlib\n",
    "matplotlib.use('Agg')\n",
    "import seaborn as sns\n",
    "%matplotlib inline\n",
    "import matplotlib.pyplot as plt\n",
    "\n",
    "import statsmodels.api as sm\n",
    "import statsmodels.stats.weightstats as smw\n",
    "import scipy.stats as ss\n",
    "import scikit_posthocs as sp\n",
    "\n",
    "import warnings\n",
    "warnings.filterwarnings(\"ignore\")"
   ]
  },
  {
   "cell_type": "code",
   "execution_count": 2,
   "metadata": {},
   "outputs": [
    {
     "data": {
      "text/html": [
       "<div>\n",
       "<style scoped>\n",
       "    .dataframe tbody tr th:only-of-type {\n",
       "        vertical-align: middle;\n",
       "    }\n",
       "\n",
       "    .dataframe tbody tr th {\n",
       "        vertical-align: top;\n",
       "    }\n",
       "\n",
       "    .dataframe thead th {\n",
       "        text-align: right;\n",
       "    }\n",
       "</style>\n",
       "<table border=\"1\" class=\"dataframe\">\n",
       "  <thead>\n",
       "    <tr style=\"text-align: right;\">\n",
       "      <th></th>\n",
       "      <th>SEQN</th>\n",
       "      <th>ALQ101</th>\n",
       "      <th>ALQ110</th>\n",
       "      <th>ALQ130</th>\n",
       "      <th>SMQ020</th>\n",
       "      <th>RIAGENDR</th>\n",
       "      <th>RIDAGEYR</th>\n",
       "      <th>RIDRETH1</th>\n",
       "      <th>DMDCITZN</th>\n",
       "      <th>DMDEDUC2</th>\n",
       "      <th>...</th>\n",
       "      <th>BPXSY2</th>\n",
       "      <th>BPXDI2</th>\n",
       "      <th>BMXWT</th>\n",
       "      <th>BMXHT</th>\n",
       "      <th>BMXBMI</th>\n",
       "      <th>BMXLEG</th>\n",
       "      <th>BMXARML</th>\n",
       "      <th>BMXARMC</th>\n",
       "      <th>BMXWAIST</th>\n",
       "      <th>HIQ210</th>\n",
       "    </tr>\n",
       "  </thead>\n",
       "  <tbody>\n",
       "    <tr>\n",
       "      <th>0</th>\n",
       "      <td>83732</td>\n",
       "      <td>1.0</td>\n",
       "      <td>NaN</td>\n",
       "      <td>1.0</td>\n",
       "      <td>1</td>\n",
       "      <td>1</td>\n",
       "      <td>62</td>\n",
       "      <td>3</td>\n",
       "      <td>1.0</td>\n",
       "      <td>5.0</td>\n",
       "      <td>...</td>\n",
       "      <td>124.0</td>\n",
       "      <td>64.0</td>\n",
       "      <td>94.8</td>\n",
       "      <td>184.5</td>\n",
       "      <td>27.8</td>\n",
       "      <td>43.3</td>\n",
       "      <td>43.6</td>\n",
       "      <td>35.9</td>\n",
       "      <td>101.1</td>\n",
       "      <td>2.0</td>\n",
       "    </tr>\n",
       "    <tr>\n",
       "      <th>1</th>\n",
       "      <td>83733</td>\n",
       "      <td>1.0</td>\n",
       "      <td>NaN</td>\n",
       "      <td>6.0</td>\n",
       "      <td>1</td>\n",
       "      <td>1</td>\n",
       "      <td>53</td>\n",
       "      <td>3</td>\n",
       "      <td>2.0</td>\n",
       "      <td>3.0</td>\n",
       "      <td>...</td>\n",
       "      <td>140.0</td>\n",
       "      <td>88.0</td>\n",
       "      <td>90.4</td>\n",
       "      <td>171.4</td>\n",
       "      <td>30.8</td>\n",
       "      <td>38.0</td>\n",
       "      <td>40.0</td>\n",
       "      <td>33.2</td>\n",
       "      <td>107.9</td>\n",
       "      <td>NaN</td>\n",
       "    </tr>\n",
       "    <tr>\n",
       "      <th>2</th>\n",
       "      <td>83734</td>\n",
       "      <td>1.0</td>\n",
       "      <td>NaN</td>\n",
       "      <td>NaN</td>\n",
       "      <td>1</td>\n",
       "      <td>1</td>\n",
       "      <td>78</td>\n",
       "      <td>3</td>\n",
       "      <td>1.0</td>\n",
       "      <td>3.0</td>\n",
       "      <td>...</td>\n",
       "      <td>132.0</td>\n",
       "      <td>44.0</td>\n",
       "      <td>83.4</td>\n",
       "      <td>170.1</td>\n",
       "      <td>28.8</td>\n",
       "      <td>35.6</td>\n",
       "      <td>37.0</td>\n",
       "      <td>31.0</td>\n",
       "      <td>116.5</td>\n",
       "      <td>2.0</td>\n",
       "    </tr>\n",
       "    <tr>\n",
       "      <th>3</th>\n",
       "      <td>83735</td>\n",
       "      <td>2.0</td>\n",
       "      <td>1.0</td>\n",
       "      <td>1.0</td>\n",
       "      <td>2</td>\n",
       "      <td>2</td>\n",
       "      <td>56</td>\n",
       "      <td>3</td>\n",
       "      <td>1.0</td>\n",
       "      <td>5.0</td>\n",
       "      <td>...</td>\n",
       "      <td>134.0</td>\n",
       "      <td>68.0</td>\n",
       "      <td>109.8</td>\n",
       "      <td>160.9</td>\n",
       "      <td>42.4</td>\n",
       "      <td>38.5</td>\n",
       "      <td>37.7</td>\n",
       "      <td>38.3</td>\n",
       "      <td>110.1</td>\n",
       "      <td>2.0</td>\n",
       "    </tr>\n",
       "    <tr>\n",
       "      <th>4</th>\n",
       "      <td>83736</td>\n",
       "      <td>2.0</td>\n",
       "      <td>1.0</td>\n",
       "      <td>1.0</td>\n",
       "      <td>2</td>\n",
       "      <td>2</td>\n",
       "      <td>42</td>\n",
       "      <td>4</td>\n",
       "      <td>1.0</td>\n",
       "      <td>4.0</td>\n",
       "      <td>...</td>\n",
       "      <td>114.0</td>\n",
       "      <td>54.0</td>\n",
       "      <td>55.2</td>\n",
       "      <td>164.9</td>\n",
       "      <td>20.3</td>\n",
       "      <td>37.4</td>\n",
       "      <td>36.0</td>\n",
       "      <td>27.2</td>\n",
       "      <td>80.4</td>\n",
       "      <td>2.0</td>\n",
       "    </tr>\n",
       "  </tbody>\n",
       "</table>\n",
       "<p>5 rows × 28 columns</p>\n",
       "</div>"
      ],
      "text/plain": [
       "    SEQN  ALQ101  ALQ110  ALQ130  SMQ020  RIAGENDR  RIDAGEYR  RIDRETH1  \\\n",
       "0  83732     1.0     NaN     1.0       1         1        62         3   \n",
       "1  83733     1.0     NaN     6.0       1         1        53         3   \n",
       "2  83734     1.0     NaN     NaN       1         1        78         3   \n",
       "3  83735     2.0     1.0     1.0       2         2        56         3   \n",
       "4  83736     2.0     1.0     1.0       2         2        42         4   \n",
       "\n",
       "   DMDCITZN  DMDEDUC2   ...    BPXSY2  BPXDI2  BMXWT  BMXHT  BMXBMI  BMXLEG  \\\n",
       "0       1.0       5.0   ...     124.0    64.0   94.8  184.5    27.8    43.3   \n",
       "1       2.0       3.0   ...     140.0    88.0   90.4  171.4    30.8    38.0   \n",
       "2       1.0       3.0   ...     132.0    44.0   83.4  170.1    28.8    35.6   \n",
       "3       1.0       5.0   ...     134.0    68.0  109.8  160.9    42.4    38.5   \n",
       "4       1.0       4.0   ...     114.0    54.0   55.2  164.9    20.3    37.4   \n",
       "\n",
       "   BMXARML  BMXARMC  BMXWAIST  HIQ210  \n",
       "0     43.6     35.9     101.1     2.0  \n",
       "1     40.0     33.2     107.9     NaN  \n",
       "2     37.0     31.0     116.5     2.0  \n",
       "3     37.7     38.3     110.1     2.0  \n",
       "4     36.0     27.2      80.4     2.0  \n",
       "\n",
       "[5 rows x 28 columns]"
      ]
     },
     "execution_count": 2,
     "metadata": {},
     "output_type": "execute_result"
    }
   ],
   "source": [
    "da = pd.read_csv('CCSS_sample/nhanes_2015_2016.csv')\n",
    "da.head()"
   ]
  },
  {
   "cell_type": "code",
   "execution_count": 3,
   "metadata": {},
   "outputs": [
    {
     "data": {
      "text/html": [
       "<div>\n",
       "<style scoped>\n",
       "    .dataframe tbody tr th:only-of-type {\n",
       "        vertical-align: middle;\n",
       "    }\n",
       "\n",
       "    .dataframe tbody tr th {\n",
       "        vertical-align: top;\n",
       "    }\n",
       "\n",
       "    .dataframe thead th {\n",
       "        text-align: right;\n",
       "    }\n",
       "</style>\n",
       "<table border=\"1\" class=\"dataframe\">\n",
       "  <thead>\n",
       "    <tr style=\"text-align: right;\">\n",
       "      <th></th>\n",
       "      <th>SMQ020x</th>\n",
       "      <th>RIAGENDRx</th>\n",
       "      <th>BMXBMI</th>\n",
       "    </tr>\n",
       "  </thead>\n",
       "  <tbody>\n",
       "    <tr>\n",
       "      <th>0</th>\n",
       "      <td>Yes</td>\n",
       "      <td>Male</td>\n",
       "      <td>27.8</td>\n",
       "    </tr>\n",
       "    <tr>\n",
       "      <th>1</th>\n",
       "      <td>Yes</td>\n",
       "      <td>Male</td>\n",
       "      <td>30.8</td>\n",
       "    </tr>\n",
       "    <tr>\n",
       "      <th>2</th>\n",
       "      <td>Yes</td>\n",
       "      <td>Male</td>\n",
       "      <td>28.8</td>\n",
       "    </tr>\n",
       "    <tr>\n",
       "      <th>3</th>\n",
       "      <td>No</td>\n",
       "      <td>Female</td>\n",
       "      <td>42.4</td>\n",
       "    </tr>\n",
       "    <tr>\n",
       "      <th>4</th>\n",
       "      <td>No</td>\n",
       "      <td>Female</td>\n",
       "      <td>20.3</td>\n",
       "    </tr>\n",
       "  </tbody>\n",
       "</table>\n",
       "</div>"
      ],
      "text/plain": [
       "  SMQ020x RIAGENDRx  BMXBMI\n",
       "0     Yes      Male    27.8\n",
       "1     Yes      Male    30.8\n",
       "2     Yes      Male    28.8\n",
       "3      No    Female    42.4\n",
       "4      No    Female    20.3"
      ]
     },
     "execution_count": 3,
     "metadata": {},
     "output_type": "execute_result"
    }
   ],
   "source": [
    "da[\"SMQ020x\"] = da.SMQ020.replace({1: \"Yes\", 2: \"No\", 7: np.nan, 9: np.nan})\n",
    "da[\"RIAGENDRx\"] = da.RIAGENDR.replace({1: \"Male\", 2: \"Female\"})\n",
    "dx = da[[\"SMQ020x\", \"RIAGENDRx\",\"BMXBMI\"]].dropna()\n",
    "dx.head()"
   ]
  },
  {
   "cell_type": "markdown",
   "metadata": {},
   "source": [
    "# Statistical Inference\n",
    "\n",
    "How to use data to \n",
    "- <font color='blue'>estimate parameters with confidence</font>\n",
    "    - estimate a population **Proportion** with confidence\n",
    "    - estimate a population **Mean** with confidence\n",
    "    - estimate a population **Mean Difference** with confidence\n",
    "- <font color='blue'>test theories about parameters</font>\n",
    "    - test a theory about **two population Means**\n",
    "    - test a theory about **a population proportion**"
   ]
  },
  {
   "cell_type": "markdown",
   "metadata": {},
   "source": [
    "# Statistical Inference with Confidence Intervals\n",
    "- \n",
    "<font color='red'>\n",
    "\\begin{align} Estimate &\\pm t_{\\nu/2} * SE \\nonumber\\\\\n",
    "SE =& \\sqrt{\\frac{p(1-p)}{n}} ~~~~ (Proportion)\\nonumber\\\\\n",
    "SE =& \\frac{\\sigma}{\\sqrt{n}} ~~~~~~~~~~~~~~~~~ (Mean) \\nonumber\\\\\n",
    "SE =& \\sqrt{SE_1^2+SE_2^2} ~~~~ (Two~populations~Difference)\\end{align}</font>\n",
    "\n",
    "## Why Confidence Intervals?\n",
    "\n",
    "**Confidence intervals** are a calculated range or boundary around a parameter or a statistic that is supported mathematically with a certain level of confidence.\n",
    "- 95% confidence level refers to our **confidence in the statistical procedure** that was used to make this interval.\n",
    "\n",
    "## How to Calculate Confidence Intervals?\n",
    "<font color='blue'>$$Best\\ Estimate \\pm Margin\\ of\\ Error$$</font>\n",
    "\n",
    "- Where the *Best Estimate* is the **observed population proportion or mean** and the *Margin of Error* is the **t_multiplier**.\n",
    "\n",
    "- The t-multiplier is calculated based on the degrees of freedom and desired confidence level.  \n",
    "For samples with more than 30 observations and a confidence level of 95%, the t-multiplier is 1.96.\n",
    "\n",
    "The equation to create a 95% confidence interval can also be shown as:\n",
    "<font color='blue'>$$Population\\ Proportion\\ or\\ Mean\\ \\pm (t\\_multiplier *\\ Standard\\ Error)$$</font>\n",
    "\n",
    "- The Standard Error is calculated differently for population proportion and mean:\n",
    "$$Standard\\ Error \\ for\\ Population\\ Proportion = \\sqrt{\\frac{Population\\ Proportion * (1 - Population\\ Proportion)}{Number\\ Of\\ Observations}} = \\sqrt{\\frac{p(1-p)}{n}}$$\n",
    "\n",
    "$$Standard\\ Error \\ for\\ Mean = \\frac{Standard\\ Deviation}{\\sqrt{Number\\ Of\\ Observations}} = \\frac{\\sigma}{\\sqrt{n}}$$"
   ]
  },
  {
   "cell_type": "markdown",
   "metadata": {},
   "source": [
    "## One popution\n",
    "### Confidence intervals for one proportion\n",
    "- statsmodels\n",
    "```Python\n",
    "statsmodels.stats.proportion_confint(     # 二项分布指标的率的可信区间的上下限\n",
    "                count                                # 成功次数\n",
    "                nobs                                 # 样本总数\n",
    "                alpha = 0.5                          \n",
    "                method = 'normal'                    # 可信区间的计算方法，正态近似法\n",
    "                        'agresti_coull'              # Agresti-Coull interval\n",
    "                        'beta'                 # clopper-pearson interval based on Beta distribution\n",
    "                        'wilson'                     # wilson score interval\n",
    "                        'jeffreys'                   # Jeffreys Bayesian interval\n",
    "                        'binom_test')                # experimental, inversion of binom_test\n",
    "``` \n",
    "\n",
    "<font color='blue'>**Question:**</font>\n",
    "A sample of 659 parents with a toddles was taken and asked if they used a car seat for all travel with their toddler. 559 parents reponded Yes to this question. Construct a 95% confidence interval for the population proportion of parents reporting they use a car seat for all travel with their toddler."
   ]
  },
  {
   "cell_type": "code",
   "execution_count": 4,
   "metadata": {},
   "outputs": [
    {
     "name": "stdout",
     "output_type": "stream",
     "text": [
      "between 0.8208622940192611 and 0.8756475694101773\n"
     ]
    }
   ],
   "source": [
    "# Use formular\n",
    "t = 1.96\n",
    "p = 559/659\n",
    "n = 659\n",
    "se = np.sqrt(p*(1-p)/n)\n",
    "\n",
    "lb = p - t*se\n",
    "ub = p + t*se\n",
    "print('between',lb,'and',ub)"
   ]
  },
  {
   "cell_type": "code",
   "execution_count": 5,
   "metadata": {},
   "outputs": [
    {
     "data": {
      "text/plain": [
       "(0.8208627973654069, 0.8756470660640315)"
      ]
     },
     "execution_count": 5,
     "metadata": {},
     "output_type": "execute_result"
    }
   ],
   "source": [
    "sm.stats.proportion_confint(559, 659,alpha = 0.05)"
   ]
  },
  {
   "cell_type": "markdown",
   "metadata": {},
   "source": [
    "- We estimated, with 95% confidence, that the population proportion of parents with a toddler that use a car seat for all travel with their toddler was somewhere between 82.2% and 87.7%.\n",
    "- Essentially, if we repeat this process, **95% of our calculated confidence intervals would contain the true proportion**."
   ]
  },
  {
   "cell_type": "code",
   "execution_count": 6,
   "metadata": {},
   "outputs": [
    {
     "data": {
      "text/plain": [
       "(0.8188081653766461, 0.8742393415165308)"
      ]
     },
     "execution_count": 6,
     "metadata": {},
     "output_type": "execute_result"
    }
   ],
   "source": [
    "sm.stats.proportion_confint(559, 659,alpha = 0.05,method='binom_test')"
   ]
  },
  {
   "cell_type": "code",
   "execution_count": null,
   "metadata": {},
   "outputs": [],
   "source": []
  },
  {
   "cell_type": "markdown",
   "metadata": {},
   "source": [
    "### Mean confidence interval:\n",
    "- statsmodels\n",
    "    - **t CI**\n",
    "```Python\n",
    "sm.stats.DescrStatsW(df[\"CWDistance\"]).tconfint_mean(      # 计算均数的可信区间\n",
    "                        alpha = 0.05\n",
    "                        alternative = 'two-sided'） # 结果输出：可信区间的上下限                         \n",
    "```\n",
    "    - **z CI**\n",
    "```Python\n",
    "sm.stats.DescrStatsW(df[\"CWDistance\"]).zconfint_mean()\n",
    "```\n"
   ]
  },
  {
   "cell_type": "code",
   "execution_count": 7,
   "metadata": {},
   "outputs": [],
   "source": [
    "df = pd.read_csv(\"CCSS_sample/Cartwheeldata.csv\")"
   ]
  },
  {
   "cell_type": "code",
   "execution_count": 8,
   "metadata": {},
   "outputs": [
    {
     "data": {
      "text/html": [
       "<div>\n",
       "<style scoped>\n",
       "    .dataframe tbody tr th:only-of-type {\n",
       "        vertical-align: middle;\n",
       "    }\n",
       "\n",
       "    .dataframe tbody tr th {\n",
       "        vertical-align: top;\n",
       "    }\n",
       "\n",
       "    .dataframe thead th {\n",
       "        text-align: right;\n",
       "    }\n",
       "</style>\n",
       "<table border=\"1\" class=\"dataframe\">\n",
       "  <thead>\n",
       "    <tr style=\"text-align: right;\">\n",
       "      <th></th>\n",
       "      <th>ID</th>\n",
       "      <th>Age</th>\n",
       "      <th>Gender</th>\n",
       "      <th>GenderGroup</th>\n",
       "      <th>Glasses</th>\n",
       "      <th>GlassesGroup</th>\n",
       "      <th>Height</th>\n",
       "      <th>Wingspan</th>\n",
       "      <th>CWDistance</th>\n",
       "      <th>Complete</th>\n",
       "      <th>CompleteGroup</th>\n",
       "      <th>Score</th>\n",
       "    </tr>\n",
       "  </thead>\n",
       "  <tbody>\n",
       "    <tr>\n",
       "      <th>0</th>\n",
       "      <td>1</td>\n",
       "      <td>56</td>\n",
       "      <td>F</td>\n",
       "      <td>1</td>\n",
       "      <td>Y</td>\n",
       "      <td>1</td>\n",
       "      <td>62.0</td>\n",
       "      <td>61.0</td>\n",
       "      <td>79</td>\n",
       "      <td>Y</td>\n",
       "      <td>1</td>\n",
       "      <td>7</td>\n",
       "    </tr>\n",
       "    <tr>\n",
       "      <th>1</th>\n",
       "      <td>2</td>\n",
       "      <td>26</td>\n",
       "      <td>F</td>\n",
       "      <td>1</td>\n",
       "      <td>Y</td>\n",
       "      <td>1</td>\n",
       "      <td>62.0</td>\n",
       "      <td>60.0</td>\n",
       "      <td>70</td>\n",
       "      <td>Y</td>\n",
       "      <td>1</td>\n",
       "      <td>8</td>\n",
       "    </tr>\n",
       "    <tr>\n",
       "      <th>2</th>\n",
       "      <td>3</td>\n",
       "      <td>33</td>\n",
       "      <td>F</td>\n",
       "      <td>1</td>\n",
       "      <td>Y</td>\n",
       "      <td>1</td>\n",
       "      <td>66.0</td>\n",
       "      <td>64.0</td>\n",
       "      <td>85</td>\n",
       "      <td>Y</td>\n",
       "      <td>1</td>\n",
       "      <td>7</td>\n",
       "    </tr>\n",
       "    <tr>\n",
       "      <th>3</th>\n",
       "      <td>4</td>\n",
       "      <td>39</td>\n",
       "      <td>F</td>\n",
       "      <td>1</td>\n",
       "      <td>N</td>\n",
       "      <td>0</td>\n",
       "      <td>64.0</td>\n",
       "      <td>63.0</td>\n",
       "      <td>87</td>\n",
       "      <td>Y</td>\n",
       "      <td>1</td>\n",
       "      <td>10</td>\n",
       "    </tr>\n",
       "    <tr>\n",
       "      <th>4</th>\n",
       "      <td>5</td>\n",
       "      <td>27</td>\n",
       "      <td>M</td>\n",
       "      <td>2</td>\n",
       "      <td>N</td>\n",
       "      <td>0</td>\n",
       "      <td>73.0</td>\n",
       "      <td>75.0</td>\n",
       "      <td>72</td>\n",
       "      <td>N</td>\n",
       "      <td>0</td>\n",
       "      <td>4</td>\n",
       "    </tr>\n",
       "  </tbody>\n",
       "</table>\n",
       "</div>"
      ],
      "text/plain": [
       "   ID  Age Gender  GenderGroup Glasses  GlassesGroup  Height  Wingspan  \\\n",
       "0   1   56      F            1       Y             1    62.0      61.0   \n",
       "1   2   26      F            1       Y             1    62.0      60.0   \n",
       "2   3   33      F            1       Y             1    66.0      64.0   \n",
       "3   4   39      F            1       N             0    64.0      63.0   \n",
       "4   5   27      M            2       N             0    73.0      75.0   \n",
       "\n",
       "   CWDistance Complete  CompleteGroup  Score  \n",
       "0          79        Y              1      7  \n",
       "1          70        Y              1      8  \n",
       "2          85        Y              1      7  \n",
       "3          87        Y              1     10  \n",
       "4          72        N              0      4  "
      ]
     },
     "execution_count": 8,
     "metadata": {},
     "output_type": "execute_result"
    }
   ],
   "source": [
    "df.head()"
   ]
  },
  {
   "cell_type": "code",
   "execution_count": 9,
   "metadata": {},
   "outputs": [
    {
     "data": {
      "text/plain": [
       "(76.26382957453707, 88.69617042546294)"
      ]
     },
     "execution_count": 9,
     "metadata": {},
     "output_type": "execute_result"
    }
   ],
   "source": [
    "mean = df[\"CWDistance\"].mean()\n",
    "sd = df[\"CWDistance\"].std()\n",
    "n = len(df)\n",
    "\n",
    "t = 2.064\n",
    "se = sd/np.sqrt(n)\n",
    "\n",
    "lcb = mean - t * se\n",
    "ucb = mean + t * se\n",
    "(lcb, ucb)"
   ]
  },
  {
   "cell_type": "code",
   "execution_count": 10,
   "metadata": {},
   "outputs": [
    {
     "data": {
      "text/plain": [
       "(76.57715593233026, 88.38284406766975)"
      ]
     },
     "execution_count": 10,
     "metadata": {},
     "output_type": "execute_result"
    }
   ],
   "source": [
    "sm.stats.DescrStatsW(df[\"CWDistance\"]).zconfint_mean()"
   ]
  },
  {
   "cell_type": "code",
   "execution_count": 11,
   "metadata": {},
   "outputs": [
    {
     "data": {
      "text/plain": [
       "(76.26413507754478, 88.69586492245523)"
      ]
     },
     "execution_count": 11,
     "metadata": {},
     "output_type": "execute_result"
    }
   ],
   "source": [
    "sm.stats.DescrStatsW(df[\"CWDistance\"]).tconfint_mean()"
   ]
  },
  {
   "cell_type": "markdown",
   "metadata": {},
   "source": [
    "## Two Population\n",
    "The standard error for difference of population proportions and means is:\n",
    "\n",
    "$$Standard\\ Error\\ for\\ Difference\\ of\\ Two\\ Population\\ Proportions\\ Or\\ Means = \\sqrt{SE_{Proportion\\ 1}^2 + SE_{Proportion\\ 2} ^2}$$"
   ]
  },
  {
   "cell_type": "markdown",
   "metadata": {},
   "source": [
    "### Difference of Two Population Proportions\n",
    "\n",
    "<font color='blue'>**Question:**</font> Analyze the difference of proportion between female and male smokers \"SMQ020\". "
   ]
  },
  {
   "cell_type": "code",
   "execution_count": 12,
   "metadata": {},
   "outputs": [
    {
     "data": {
      "text/html": [
       "<div>\n",
       "<style scoped>\n",
       "    .dataframe tbody tr th:only-of-type {\n",
       "        vertical-align: middle;\n",
       "    }\n",
       "\n",
       "    .dataframe tbody tr th {\n",
       "        vertical-align: top;\n",
       "    }\n",
       "\n",
       "    .dataframe thead th {\n",
       "        text-align: right;\n",
       "    }\n",
       "</style>\n",
       "<table border=\"1\" class=\"dataframe\">\n",
       "  <thead>\n",
       "    <tr style=\"text-align: right;\">\n",
       "      <th>RIAGENDRx</th>\n",
       "      <th>Female</th>\n",
       "      <th>Male</th>\n",
       "    </tr>\n",
       "    <tr>\n",
       "      <th>SMQ020x</th>\n",
       "      <th></th>\n",
       "      <th></th>\n",
       "    </tr>\n",
       "  </thead>\n",
       "  <tbody>\n",
       "    <tr>\n",
       "      <th>No</th>\n",
       "      <td>2044</td>\n",
       "      <td>1322</td>\n",
       "    </tr>\n",
       "    <tr>\n",
       "      <th>Yes</th>\n",
       "      <td>896</td>\n",
       "      <td>1390</td>\n",
       "    </tr>\n",
       "  </tbody>\n",
       "</table>\n",
       "</div>"
      ],
      "text/plain": [
       "RIAGENDRx  Female  Male\n",
       "SMQ020x                \n",
       "No           2044  1322\n",
       "Yes           896  1390"
      ]
     },
     "execution_count": 12,
     "metadata": {},
     "output_type": "execute_result"
    }
   ],
   "source": [
    "pd.crosstab(dx.SMQ020x, dx.RIAGENDRx)"
   ]
  },
  {
   "cell_type": "code",
   "execution_count": 13,
   "metadata": {},
   "outputs": [
    {
     "data": {
      "text/plain": [
       "0.008444152146214435"
      ]
     },
     "execution_count": 13,
     "metadata": {},
     "output_type": "execute_result"
    }
   ],
   "source": [
    "p = 906/2972\n",
    "n = 2972\n",
    "se_female = np.sqrt(p * (1 - p)/n)\n",
    "se_female"
   ]
  },
  {
   "cell_type": "code",
   "execution_count": 14,
   "metadata": {},
   "outputs": [
    {
     "data": {
      "text/plain": [
       "0.009526078653689868"
      ]
     },
     "execution_count": 14,
     "metadata": {},
     "output_type": "execute_result"
    }
   ],
   "source": [
    "p = 1413/2753\n",
    "n = 2753\n",
    "se_male = np.sqrt(p * (1 - p)/ n)\n",
    "se_male"
   ]
  },
  {
   "cell_type": "code",
   "execution_count": 15,
   "metadata": {},
   "outputs": [
    {
     "data": {
      "text/plain": [
       "(-0.2333636091471941, -0.18346247413207697)"
      ]
     },
     "execution_count": 15,
     "metadata": {},
     "output_type": "execute_result"
    }
   ],
   "source": [
    "se_diff = np.sqrt(se_female**2 + se_male**2)\n",
    "\n",
    "d = 906/2972 - 1413/2753\n",
    "lcb = d - 1.96 * se_diff\n",
    "ucb = d + 1.96 * se_diff\n",
    "(lcb, ucb)"
   ]
  },
  {
   "cell_type": "markdown",
   "metadata": {},
   "source": [
    "### Difference of Two Population Mean\n",
    "\n",
    "- **CompareMeans Class**\n",
    "```Python\n",
    "class statsmodels.stats.weightstatsW.CompareMeans(d1,d2) # Both d1,d2 should be DescrStatsW formats\n",
    "```\n",
    "    - **tconfint_diff** & **zconfint_diff** Method\n",
    "```Python\n",
    "CompareMeans.tconfint_diff([alpha,alternative,usevar])      # 基于t-test的均数差值估计95%可信区间，\n",
    "CompareMeans.zconfint_diff([alpha,alternative,usevar])      # 基于z-test的均数差值可信区间\n",
    "```"
   ]
  },
  {
   "cell_type": "markdown",
   "metadata": {},
   "source": [
    "<font color='blue'>**Question:**</font>\n",
    "Analyze the difference of mean of body mass index within our female and male populations \"BMXBMI\". "
   ]
  },
  {
   "cell_type": "code",
   "execution_count": 16,
   "metadata": {},
   "outputs": [
    {
     "data": {
      "text/plain": [
       "0    27.8\n",
       "1    30.8\n",
       "2    28.8\n",
       "3    42.4\n",
       "4    20.3\n",
       "Name: BMXBMI, dtype: float64"
      ]
     },
     "execution_count": 16,
     "metadata": {},
     "output_type": "execute_result"
    }
   ],
   "source": [
    "da[\"BMXBMI\"].head()"
   ]
  },
  {
   "cell_type": "code",
   "execution_count": 17,
   "metadata": {},
   "outputs": [
    {
     "data": {
      "text/html": [
       "<div>\n",
       "<style scoped>\n",
       "    .dataframe tbody tr th:only-of-type {\n",
       "        vertical-align: middle;\n",
       "    }\n",
       "\n",
       "    .dataframe tbody tr th {\n",
       "        vertical-align: top;\n",
       "    }\n",
       "\n",
       "    .dataframe thead tr th {\n",
       "        text-align: left;\n",
       "    }\n",
       "\n",
       "    .dataframe thead tr:last-of-type th {\n",
       "        text-align: right;\n",
       "    }\n",
       "</style>\n",
       "<table border=\"1\" class=\"dataframe\">\n",
       "  <thead>\n",
       "    <tr>\n",
       "      <th></th>\n",
       "      <th colspan=\"3\" halign=\"left\">BMXBMI</th>\n",
       "    </tr>\n",
       "    <tr>\n",
       "      <th></th>\n",
       "      <th>mean</th>\n",
       "      <th>std</th>\n",
       "      <th>size</th>\n",
       "    </tr>\n",
       "    <tr>\n",
       "      <th>RIAGENDRx</th>\n",
       "      <th></th>\n",
       "      <th></th>\n",
       "      <th></th>\n",
       "    </tr>\n",
       "  </thead>\n",
       "  <tbody>\n",
       "    <tr>\n",
       "      <th>Female</th>\n",
       "      <td>29.939946</td>\n",
       "      <td>7.753319</td>\n",
       "      <td>2976.0</td>\n",
       "    </tr>\n",
       "    <tr>\n",
       "      <th>Male</th>\n",
       "      <td>28.778072</td>\n",
       "      <td>6.252568</td>\n",
       "      <td>2759.0</td>\n",
       "    </tr>\n",
       "  </tbody>\n",
       "</table>\n",
       "</div>"
      ],
      "text/plain": [
       "              BMXBMI                  \n",
       "                mean       std    size\n",
       "RIAGENDRx                             \n",
       "Female     29.939946  7.753319  2976.0\n",
       "Male       28.778072  6.252568  2759.0"
      ]
     },
     "execution_count": 17,
     "metadata": {},
     "output_type": "execute_result"
    }
   ],
   "source": [
    "da.groupby(\"RIAGENDRx\").agg({\"BMXBMI\": [np.mean, np.std, np.size]})"
   ]
  },
  {
   "cell_type": "code",
   "execution_count": 18,
   "metadata": {},
   "outputs": [
    {
     "data": {
      "text/plain": [
       "(0.14212523289878048, 0.11903716451870151)"
      ]
     },
     "execution_count": 18,
     "metadata": {},
     "output_type": "execute_result"
    }
   ],
   "source": [
    "sem_female = 7.753319 / np.sqrt(2976)\n",
    "sem_male = 6.252568 / np.sqrt(2759)\n",
    "(sem_female, sem_male)"
   ]
  },
  {
   "cell_type": "code",
   "execution_count": 19,
   "metadata": {},
   "outputs": [
    {
     "data": {
      "text/plain": [
       "(0.798509725476467, 1.5252382745235278)"
      ]
     },
     "execution_count": 19,
     "metadata": {},
     "output_type": "execute_result"
    }
   ],
   "source": [
    "sem_diff = np.sqrt(sem_female**2 + sem_male**2)\n",
    "d = 29.939946 - 28.778072\n",
    "lcb = d - 1.96 * sem_diff\n",
    "ucb = d + 1.96 * sem_diff\n",
    "(lcb, ucb)"
   ]
  },
  {
   "cell_type": "code",
   "execution_count": 20,
   "metadata": {},
   "outputs": [
    {
     "data": {
      "text/plain": [
       "(0.7930478678957343, 1.5306992127582104)"
      ]
     },
     "execution_count": 20,
     "metadata": {},
     "output_type": "execute_result"
    }
   ],
   "source": [
    "female = da[da[\"RIAGENDR\"] == 2]\n",
    "male = da[da[\"RIAGENDR\"] == 1]\n",
    "\n",
    "\n",
    "bmg1 = smw.DescrStatsW(female[\"BMXBMI\"].dropna())   # female\n",
    "bmg2 = smw.DescrStatsW(male[\"BMXBMI\"].dropna())   # male   \n",
    "\n",
    "smw.CompareMeans(bmg1,bmg2).tconfint_diff()"
   ]
  },
  {
   "cell_type": "code",
   "execution_count": 21,
   "metadata": {},
   "outputs": [
    {
     "data": {
      "text/plain": [
       "(0.7931267392647459, 1.530620341389199)"
      ]
     },
     "execution_count": 21,
     "metadata": {},
     "output_type": "execute_result"
    }
   ],
   "source": [
    "smw.CompareMeans(bmg1,bmg2).zconfint_diff()"
   ]
  },
  {
   "cell_type": "markdown",
   "metadata": {},
   "source": [
    "## Sample size\n",
    "$\\displaystyle p\\pm z^*\\sqrt{\\frac{p(1-p)}{n}}$, when $p=1/2$, consevative Standard Error $\\displaystyle=\\frac{1}{2\\sqrt{n}}$, for 95% confidence level, $z^*=1.96$, then margin of error is $\\displaystyle\\frac{1}{\\sqrt{n}}$.\n",
    "- Margin of Error (MoE) is only dependent on \n",
    "    - confidence level (typically 95%) \n",
    "    - sample size\n",
    "\n",
    "<font color='red'>$\\displaystyle \\ n = (\\frac{z^*}{2MoE})^2$</font>\n",
    "- Estimated standard error may be too small, or inaccurate based of sample so can employ conservative approach\n",
    "- conservative approach, determine sample size needed based on a confidence level and desired margin of error\n",
    "\n",
    "Whar sample size would you need to have a 95% conservation confidence interval with a Margin of Error of only 4%?\n",
    "n = (1.96/(2*0.04))**2, n=600.25"
   ]
  },
  {
   "cell_type": "code",
   "execution_count": 22,
   "metadata": {},
   "outputs": [
    {
     "data": {
      "text/plain": [
       "600.25"
      ]
     },
     "execution_count": 22,
     "metadata": {},
     "output_type": "execute_result"
    }
   ],
   "source": [
    "n = (1.96/(2*0.04))**2\n",
    "n"
   ]
  },
  {
   "cell_type": "markdown",
   "metadata": {},
   "source": [
    "# Hypothesis Testing\n",
    "**Null Hypothesis: $H_0$**\n",
    "\n",
    "**Alternative Hypothesis: $H_a$**\n",
    "<font color='red'>\n",
    "\\begin{align} \\displaystyle\n",
    "    z\\_score = &\\frac{Best\\ Estimate - Hypothesized\\ Estimate}{Standard\\ Error\\ of\\ Estimate}\n",
    "\\end{align}</font>\n",
    "One can calculate the P_value with z_score. If P_value < 0.05, then rejecte H0.\n",
    "    \n",
    "## One Population Proportion\n",
    "- statsmodels\n",
    "```Python\n",
    "statsmodels.stats.proportions_ztest(    # output( Z-statisticd, pvalue)\n",
    "            count,                                 # 成功次数，单一数值/类数组结构列表\n",
    "            nobs,                                  # 总样本量，单一数值/类数组结构列表\n",
    "            value,                                 # H0对应的总体率/率差\n",
    "            alternative = 'two-sided'\n",
    "            prop_var = False                       # 指定方差分配比例，默认按照样本比例进行计算\n",
    "            )\n",
    "```\n",
    "- 基于卡方的多项分布检验,**检验各个类别出现的概率是否相同**\n",
    "```Python\n",
    "statsmodels.stats.proportions_chisquare(     # output(chi2_value,pvalue,(table,expected value))\n",
    "            count,           # 按列表形式给出各类别频数\n",
    "            nobs,\n",
    "            value)           # H0对应的总体率/率差\n",
    "```\n",
    "- 基于二项分布的确切检验\n",
    "```Python\n",
    "statsmodels.stats.binom_test(    # output: pvalue\n",
    "            count,\n",
    "            nobs,\n",
    "            value,               # H0对应的总体率/率差\n",
    "            alternative = 'two-sided')\n",
    "```\n",
    "\n",
    "\n",
    "\n"
   ]
  },
  {
   "cell_type": "markdown",
   "metadata": {},
   "source": [
    "<font color='blue'>**Question:**</font>\n",
    "In previous years 52% of parents believed that electronics and social media was the cause of their teenager’s lack of sleep. Do more parents today believe that their teenager’s lack of sleep is caused due to electronics and social media? \n",
    "\n",
    "**Population**: Parents with a teenager (age 13-18)  \n",
    "**Parameter of Interest**: p  \n",
    "**Null Hypothesis:** p = 0.52  \n",
    "**Alternative Hypthosis:** p > 0.52  \n",
    "\n",
    "Today, 1018 Parents, 56% believe that their teenager’s lack of sleep is caused due to electronics and social media."
   ]
  },
  {
   "cell_type": "code",
   "execution_count": 23,
   "metadata": {},
   "outputs": [],
   "source": [
    "n = 1018\n",
    "pnull = .52\n",
    "phat = .56"
   ]
  },
  {
   "cell_type": "code",
   "execution_count": 24,
   "metadata": {},
   "outputs": [
    {
     "data": {
      "text/plain": [
       "(2.5710677957591126, 0.010138547731721084)"
      ]
     },
     "execution_count": 24,
     "metadata": {},
     "output_type": "execute_result"
    }
   ],
   "source": [
    "z_score = (phat-pnull)/np.sqrt(phat*(1-phat)/n)\n",
    "p_values = ss.norm.sf(abs(z_score))*2\n",
    "(z_score,p_values)"
   ]
  },
  {
   "cell_type": "code",
   "execution_count": 25,
   "metadata": {},
   "outputs": [
    {
     "data": {
      "text/plain": [
       "(2.571067795759113, 0.010138547731721065)"
      ]
     },
     "execution_count": 25,
     "metadata": {},
     "output_type": "execute_result"
    }
   ],
   "source": [
    "sm.stats.proportions_ztest(phat * n, n, pnull)"
   ]
  },
  {
   "cell_type": "code",
   "execution_count": 26,
   "metadata": {},
   "outputs": [
    {
     "data": {
      "text/plain": [
       "(6.5256410256410335,\n",
       " 0.010633021983644915,\n",
       " (array([[570.08, 447.92]]), array([[529.36, 488.64]])))"
      ]
     },
     "execution_count": 26,
     "metadata": {},
     "output_type": "execute_result"
    }
   ],
   "source": [
    "sm.stats.proportions_chisquare(phat * n, n, pnull)"
   ]
  },
  {
   "cell_type": "code",
   "execution_count": 27,
   "metadata": {},
   "outputs": [
    {
     "data": {
      "text/plain": [
       "0.01104402063287842"
      ]
     },
     "execution_count": 27,
     "metadata": {},
     "output_type": "execute_result"
    }
   ],
   "source": [
    "sm.stats.binom_test(phat * n, n, pnull)"
   ]
  },
  {
   "cell_type": "markdown",
   "metadata": {},
   "source": [
    "- **Z=2.57** That means that our observed sample proportion is 2.55 null standard errors above our hypothesized population proportion.\n",
    "- **P_value=0.01** < $\\alpha = 0.05$\n",
    "- Reject the null hypothesis. \n",
    "- There is sufficient evidence to conclude that the population proportion of parents with a teenager who belive that electronics and social media is the cause for lack of sleep is greater than 52%."
   ]
  },
  {
   "cell_type": "markdown",
   "metadata": {},
   "source": [
    "## Difference in Population Proportions\n",
    "- scipy\n",
    "\n",
    "```Python\n",
    "scipy.stats.chi2_contingency(\n",
    "                observed             # 观察到的列联表，类二维数组结构\n",
    "                correction = True    # 是否计算Yates校正的卡方结果\n",
    "                lambda_ = None       # 换用Cressie-Read power divergence family 统计量\n",
    "                )                    # 输出： 卡方值，P值，自由度，期望频数\n",
    "```\n",
    "- statsmodels\n",
    "```Python\n",
    "class statsmodels.stats.contingency_table.Table(table,shift_zeros=True) # 如果单元格频数为0，所有单元格频数+0.5防止计算出错\n",
    "```\n",
    "    - Table 类的属性\n",
    "\n",
    "```Python\n",
    "table_orig                       # 表格原始数据 \n",
    "marginal_probabilities           # 估计的行列边际概率分布\n",
    "independec_probabilities         # 基于行列独立的H0假设的单元格概率分布\n",
    "fittedvalues                     # 期望频数\n",
    "\n",
    "resid_pearson                    # Pearson残差\n",
    "standardized_resid               # 标准化残差\n",
    "chi2_contribs                    # 每个单元格的卡方贡献值\n",
    "``` \n",
    "    - Table 类的方法\n",
    "\n",
    "```Python\n",
    "test_nominal_association()      # 无序分类行、列变量的独立性检验, 输出(卡方统计量，自由度，P值)\n",
    "test_ordinal_association([row_scores,...])      # 有序分类行/列变量的独立性检验，Cochran_Armitage趋势检验\n",
    "```"
   ]
  },
  {
   "cell_type": "markdown",
   "metadata": {},
   "source": [
    "<font color='blue'>**Question:**</font>\n",
    "247 Parents of Black Children\n",
    "36.8% of parents report that their child has had some swimming lessons.\n",
    "308 Parents of Hispanic Children\n",
    "38.9% of parents report that their child has had some swimming lessons.\n",
    "\n",
    "Is there a **significant difference** between the population proportions of parents of black children and parents of Hispanic children who report that their child has had some swimming lessons?\n",
    "\n",
    "**Populations**: All parents of black children age 6-18 and all parents of Hispanic children age 6-18  \n",
    "**Parameter of Interest**: p1 - p2, where p1 = black and p2 = hispanic  \n",
    "\n",
    "**Null Hypothesis:** p1 - p2 = 0  , **no significant difference**\n",
    "\n",
    "**Alternative Hypthosis:** p1 - p2 $\\neq$ 0  ,**has significant difference**"
   ]
  },
  {
   "cell_type": "markdown",
   "metadata": {},
   "source": [
    "<font color='red'> $\\displaystyle z\\_score = \\frac{p-p_0}{SE(p)}$    \n",
    "SE is the standard error of estimate $\\displaystyle SE = \\sqrt{p(1-p)(\\frac{1}{n_1}+\\frac{1}{n_2})} $"
   ]
  },
  {
   "cell_type": "code",
   "execution_count": 28,
   "metadata": {},
   "outputs": [
    {
     "name": "stdout",
     "output_type": "stream",
     "text": [
      "z_score: -0.4849938172663346 Pvalue: 0.6276807312529116\n"
     ]
    }
   ],
   "source": [
    "p1 = 0.37\n",
    "n1 = 247\n",
    "\n",
    "p2 = 0.39\n",
    "n2 = 308\n",
    "\n",
    "p12 = p2-p1\n",
    "sep =np.sqrt(p1*(1-p1)*(1.0/n1+1.0/n2)) \n",
    "z_score1 = (p1-p2)/sep\n",
    "p_value1 = ss.norm.sf(abs(z_score1))*2 \n",
    "\n",
    "print('z_score:',z_score1,'Pvalue:',p_value1)"
   ]
  },
  {
   "cell_type": "markdown",
   "metadata": {},
   "source": [
    "- P_value=0.63 > 0.1. \n",
    "- Formally, based on our sample and our p-value, we fail to reject the null hypothesis. \n",
    "- We conclude that there is **no significant difference** between the population proportion of parents of black and Hispanic children."
   ]
  },
  {
   "cell_type": "markdown",
   "metadata": {},
   "source": [
    "**Chi-Square Test**"
   ]
  },
  {
   "cell_type": "code",
   "execution_count": 29,
   "metadata": {},
   "outputs": [
    {
     "data": {
      "text/html": [
       "<div>\n",
       "<style scoped>\n",
       "    .dataframe tbody tr th:only-of-type {\n",
       "        vertical-align: middle;\n",
       "    }\n",
       "\n",
       "    .dataframe tbody tr th {\n",
       "        vertical-align: top;\n",
       "    }\n",
       "\n",
       "    .dataframe thead th {\n",
       "        text-align: right;\n",
       "    }\n",
       "</style>\n",
       "<table border=\"1\" class=\"dataframe\">\n",
       "  <thead>\n",
       "    <tr style=\"text-align: right;\">\n",
       "      <th></th>\n",
       "      <th>Yes</th>\n",
       "      <th>No</th>\n",
       "    </tr>\n",
       "  </thead>\n",
       "  <tbody>\n",
       "    <tr>\n",
       "      <th>0</th>\n",
       "      <td>91</td>\n",
       "      <td>156</td>\n",
       "    </tr>\n",
       "    <tr>\n",
       "      <th>1</th>\n",
       "      <td>120</td>\n",
       "      <td>188</td>\n",
       "    </tr>\n",
       "  </tbody>\n",
       "</table>\n",
       "</div>"
      ],
      "text/plain": [
       "   Yes   No\n",
       "0   91  156\n",
       "1  120  188"
      ]
     },
     "execution_count": 29,
     "metadata": {},
     "output_type": "execute_result"
    }
   ],
   "source": [
    "tb1 = pd.DataFrame([[91,156],[120,188]])\n",
    "tb1.columns = ['Yes','No']\n",
    "tb1"
   ]
  },
  {
   "cell_type": "code",
   "execution_count": 30,
   "metadata": {},
   "outputs": [
    {
     "data": {
      "text/plain": [
       "array([[ 93.9045045, 153.0954955],\n",
       "       [117.0954955, 190.9045045]])"
      ]
     },
     "execution_count": 30,
     "metadata": {},
     "output_type": "execute_result"
    }
   ],
   "source": [
    "# 看一下期望频数\n",
    "ss.contingency.expected_freq(tb1)"
   ]
  },
  {
   "cell_type": "code",
   "execution_count": 31,
   "metadata": {},
   "outputs": [
    {
     "data": {
      "text/plain": [
       "(0.26117673621545673, 0.6093128715165168, 1, array([[ 93.9045045, 153.0954955],\n",
       "        [117.0954955, 190.9045045]]))"
      ]
     },
     "execution_count": 31,
     "metadata": {},
     "output_type": "execute_result"
    }
   ],
   "source": [
    "ss.chi2_contingency(tb1,False)"
   ]
  },
  {
   "cell_type": "markdown",
   "metadata": {},
   "source": [
    "- chi2 = 0.26, Pvalue = 0.61, 不能拒绝H0，no siginificant difference,degree of freedom = 1, \n",
    "- 期望频数（expected frequency）"
   ]
  },
  {
   "cell_type": "markdown",
   "metadata": {},
   "source": [
    "**Statemodel**"
   ]
  },
  {
   "cell_type": "code",
   "execution_count": null,
   "metadata": {},
   "outputs": [],
   "source": []
  },
  {
   "cell_type": "code",
   "execution_count": null,
   "metadata": {},
   "outputs": [],
   "source": []
  },
  {
   "cell_type": "code",
   "execution_count": null,
   "metadata": {},
   "outputs": [],
   "source": []
  },
  {
   "cell_type": "markdown",
   "metadata": {},
   "source": [
    "## One Population Mean\n",
    "\n",
    "-  Scipy\n",
    "```Python\n",
    "scipy.stats.ttest_1samp(\n",
    "    a          # 类list格式的样本数据\n",
    "    popmean    # H0所对应的总体均数\n",
    "```\n",
    "- statsmodels\n",
    "\n",
    "```Python\n",
    "sm.stats.DescrStatsW(df[\"CWDistance\"]).ttest_mean(         # 进行单样本t检验\n",
    "                        value = 0                   # H0所对应的总体均值\n",
    "                        alternative = 'two-sided'/'larger'/'smaller')    # 结果输出：t值，P值，自由度    \n",
    "```"
   ]
  },
  {
   "cell_type": "markdown",
   "metadata": {},
   "source": [
    "<font color='blue'>**Question:**</font>\n",
    "\n",
    "Is the average cartwheel distance (in inches) for adults \n",
    "more than 80 inches?\n",
    "\n",
    "**Population**: All adults  \n",
    "**Parameter of Interest**: $\\mu$, population mean cartwheel distance.\n",
    "\n",
    "**Null Hypothesis:** $\\mu$ = 80\n",
    "\n",
    "**Alternative Hypthosis:** $\\mu$ > 80\n",
    "\n",
    "25 Adults\n",
    "\n",
    "$\\mu = 82.46$\n",
    "\n",
    "$\\sigma = 15.06$"
   ]
  },
  {
   "cell_type": "code",
   "execution_count": 32,
   "metadata": {},
   "outputs": [
    {
     "name": "stdout",
     "output_type": "stream",
     "text": [
      "z_score: 0.8167330677290816 Pvalue: 0.20704049479973047\n"
     ]
    }
   ],
   "source": [
    "mu = 82.46\n",
    "mu0 = 80\n",
    "sigma = 15.06\n",
    "n = 25\n",
    "z = (mu-mu0)/(sigma/np.sqrt(n))\n",
    "p = ss.norm.sf(abs(z)) \n",
    "print('z_score:',z,'Pvalue:',p)"
   ]
  },
  {
   "cell_type": "code",
   "execution_count": 33,
   "metadata": {},
   "outputs": [
    {
     "data": {
      "text/plain": [
       "(25, 82.48, 15.058552387264855)"
      ]
     },
     "execution_count": 33,
     "metadata": {},
     "output_type": "execute_result"
    }
   ],
   "source": [
    "df = pd.read_csv(\"CCSS_sample/Cartwheeldata.csv\")\n",
    "n = len(df)\n",
    "mean = df[\"CWDistance\"].mean()\n",
    "sd = df[\"CWDistance\"].std()\n",
    "(n, mean, sd)"
   ]
  },
  {
   "cell_type": "code",
   "execution_count": 34,
   "metadata": {},
   "outputs": [
    {
     "data": {
      "text/plain": [
       "(0.8234523266982029, 0.20512540845395266)"
      ]
     },
     "execution_count": 34,
     "metadata": {},
     "output_type": "execute_result"
    }
   ],
   "source": [
    "sm.stats.ztest(df[\"CWDistance\"], value = 80, alternative = \"larger\")"
   ]
  },
  {
   "cell_type": "markdown",
   "metadata": {},
   "source": [
    "## Two Population Means Difference \n",
    "- Scipy\n",
    "     - **from array**\n",
    "```Python\n",
    "scipy.stats.ttest_ind(               # 进行两样本t检验\n",
    "                    a,b                    # 类数组格式的两组数据\n",
    "                    equal_var = True       # 两组方差是否齐同，方差不齐时给出 Welch‘s t检验的结果\n",
    "                    nan_policy = propagate/raise/omit) # 对缺失值的处理,返回Nan/抛出错误/忽略Nan\n",
    "```\n",
    "    - **from statistic value**\n",
    "```Python\n",
    "scipy.stats.ttest_ind_from_stats(\n",
    "                mean1,sted1,nobs1,          # nobs: sample size\n",
    "                mean2,sted2,nobs2,\n",
    "                equal_var = True)\n",
    "```\n",
    "- Statsmodel\n",
    "    - **Statsmodel**\n",
    "```Python\n",
    "sm.stats.ztest(a, b)             # a,b are 类数组格式的两组数据\n",
    "```\n",
    "    - **CompareMeans Class**\n",
    "```Python\n",
    "class statsmodels.stats.weightstatsW.CompareMeans(d1,d2) # Both d1,d2 should be DescrStatsW formats\n",
    "```\n",
    "        - **two mean compare**\n",
    "```Python\n",
    "CompareMeans.ttest_ind(                      # output: (t-value,p-value,degrees of freedom)\n",
    "                alternative = 'two-sided'/'larger'/'smaller',\n",
    "                usevar = 'pooled'/'unequal',   # pooled: 方差齐, 方差不齐时用 unequal\n",
    "                value = 0)                     # H0假设所对应的均数差值是否为0,2,...\n",
    "```\n",
    "        - **two mean difference up and low limit**\n",
    "```Python\n",
    "CompareMeans.ttost_ind(low,upp[,usevar])            # 单侧t-test，两组样本均值差值是否为low，upp\n",
    "```\n",
    "        - **z-test**\n",
    "```Python\n",
    "CompareMeans.ztest_ind([alternative,usevar,value])          # 两样本z-test\n",
    "CompareMeans.ztost_ind(low,upp[,usevar])                    # 基于成组z-test的等效性检验\n",
    "```"
   ]
  },
  {
   "cell_type": "markdown",
   "metadata": {},
   "source": [
    "<font color='blue'>**Question:**</font>\n",
    "\n",
    "Considering adults in the NHANES data, do males have a significantly higher mean Body Mass Index than females?\n",
    "\n",
    "**Population**: Adults in the NHANES data.  \n",
    "**Parameter of Interest**: $\\mu_1 - \\mu_2$, Body Mass Index.  \n",
    "**Null Hypothesis:** $\\mu_1 = \\mu_2$  \n",
    "**Alternative Hypthosis:** $\\mu_1 \\neq \\mu_2$\n",
    "\n",
    "2976 Females \n",
    "$\\mu_1 = 29.94$  \n",
    "$\\sigma_1 = 7.75$  \n",
    "\n",
    "2759 Male Adults  \n",
    "$\\mu_2 = 28.78$  \n",
    "$\\sigma_2 = 6.25$  \n",
    "\n",
    "$\\mu_1 - \\mu_2 = 1.16$\n"
   ]
  },
  {
   "cell_type": "code",
   "execution_count": 35,
   "metadata": {},
   "outputs": [
    {
     "name": "stdout",
     "output_type": "stream",
     "text": [
      "z_score: 6.259716645914027 Pvalue: 1.9283879867592308e-10\n"
     ]
    }
   ],
   "source": [
    "n1 = 2976\n",
    "mu1 = 29.94\n",
    "sigma1 = 7.75\n",
    "\n",
    "n2 = 2759\n",
    "mu2 = 28.78\n",
    "sigma2 = 6.25\n",
    "\n",
    "zs = (mu1-mu2)/(np.sqrt(sigma1**2/n1+sigma2**2/n2))\n",
    "ps = ss.norm.sf(abs(zs)) \n",
    "print('z_score:',zs,'Pvalue:',ps)"
   ]
  },
  {
   "cell_type": "code",
   "execution_count": 36,
   "metadata": {},
   "outputs": [
    {
     "name": "stdout",
     "output_type": "stream",
     "text": [
      "z_score: 6.267188023490217 Pvalue: 1.838130807926842e-10\n"
     ]
    }
   ],
   "source": [
    "females = da[da[\"RIAGENDR\"] == 2]\n",
    "male = da[da[\"RIAGENDR\"] == 1]\n",
    "\n",
    "n1 = len(females)\n",
    "mu1 = females[\"BMXBMI\"].mean()\n",
    "sd1 = females[\"BMXBMI\"].std()\n",
    "\n",
    "n2 = len(male)\n",
    "mu2 = male[\"BMXBMI\"].mean()\n",
    "sd2 = male[\"BMXBMI\"].std()\n",
    "\n",
    "zs = (mu1-mu2)/(np.sqrt(sd1**2/n1+sd2**2/n2))\n",
    "ps = ss.norm.sf(abs(zs)) \n",
    "print('z_score:',zs,'Pvalue:',ps)"
   ]
  },
  {
   "cell_type": "code",
   "execution_count": 37,
   "metadata": {},
   "outputs": [
    {
     "data": {
      "text/plain": [
       "Ttest_indResult(statistic=6.1755933531383205, pvalue=7.050275578094527e-10)"
      ]
     },
     "execution_count": 37,
     "metadata": {},
     "output_type": "execute_result"
    }
   ],
   "source": [
    "ss.ttest_ind(females[\"BMXBMI\"].dropna(), male[\"BMXBMI\"].dropna())"
   ]
  },
  {
   "cell_type": "code",
   "execution_count": 38,
   "metadata": {},
   "outputs": [
    {
     "data": {
      "text/plain": [
       "(6.1755933531383205, 6.591544431126401e-10)"
      ]
     },
     "execution_count": 38,
     "metadata": {},
     "output_type": "execute_result"
    }
   ],
   "source": [
    "sm.stats.ztest(females[\"BMXBMI\"].dropna(), male[\"BMXBMI\"].dropna())"
   ]
  },
  {
   "cell_type": "code",
   "execution_count": 39,
   "metadata": {},
   "outputs": [
    {
     "data": {
      "text/plain": [
       "(6.175593353138339, 7.05027557809368e-10, 5660.0)"
      ]
     },
     "execution_count": 39,
     "metadata": {},
     "output_type": "execute_result"
    }
   ],
   "source": [
    "d1 = smw.DescrStatsW(females[\"BMXBMI\"].dropna())\n",
    "d2 = smw.DescrStatsW(male[\"BMXBMI\"].dropna())\n",
    "smw.CompareMeans(d1,d2).ttest_ind()"
   ]
  },
  {
   "cell_type": "markdown",
   "metadata": {},
   "source": [
    "# Dependen Population\n",
    "## Two dependent Population Means\n",
    "<font color='red'>**差值的单样本t-test**</font>\n",
    "<font color='red'>$\\displaystyle t=\\frac{\\bar{D}}{s/\\sqrt{n}}$</font>  \n",
    "- H0:两总体均值<font color='red'>**无差异**</font>，<font color='red'>**差值序列**</font>均值$\\mu_0=0$; \n",
    "- H1:两总体均值<font color='red'>**有差异**</font>，<font color='red'>**差值序列**</font>均值$\\mu_0\\neq0$; "
   ]
  },
  {
   "cell_type": "markdown",
   "metadata": {},
   "source": [
    "- Scipy\n",
    "    - 确认配对信息是否的确存在： \n",
    "```Python\n",
    "# output(相关系数，Pvalue), H0: array1 & array2 没有联系，总体相关系数为0\n",
    "scipy.stats.pearsonr(array1,array2)       \n",
    "```\n",
    "    - 配对 t-test\n",
    "```Python\n",
    "scipy.stats.ttest_rel(       # output(相关系数，Pvalue)\n",
    "                    array1,array2         # array_like\n",
    "                    nan_policy = 'propagate'/'raise'/'omit')\n",
    "```\n",
    "- Statmodel\n",
    "    - 两个界值点的单侧配对t-test \n",
    "```Python\n",
    "statsmodels.stats.ttost.paired       \n",
    "```\n",
    "    - 求出差值后用单侧t-test\n",
    "```Python\n",
    "DescrStatsW.ttest_mean()\n",
    "```"
   ]
  },
  {
   "cell_type": "code",
   "execution_count": 40,
   "metadata": {},
   "outputs": [
    {
     "data": {
      "text/html": [
       "<div>\n",
       "<style scoped>\n",
       "    .dataframe tbody tr th:only-of-type {\n",
       "        vertical-align: middle;\n",
       "    }\n",
       "\n",
       "    .dataframe tbody tr th {\n",
       "        vertical-align: top;\n",
       "    }\n",
       "\n",
       "    .dataframe thead th {\n",
       "        text-align: right;\n",
       "    }\n",
       "</style>\n",
       "<table border=\"1\" class=\"dataframe\">\n",
       "  <thead>\n",
       "    <tr style=\"text-align: right;\">\n",
       "      <th></th>\n",
       "      <th>time</th>\n",
       "      <th>id</th>\n",
       "      <th>s2</th>\n",
       "      <th>s3</th>\n",
       "      <th>Qa3</th>\n",
       "      <th>Qa4</th>\n",
       "      <th>Qa8</th>\n",
       "      <th>Qa10</th>\n",
       "      <th>Qa16</th>\n",
       "      <th>index1</th>\n",
       "      <th>index1a</th>\n",
       "      <th>index1b</th>\n",
       "      <th>Qa3n</th>\n",
       "      <th>Qa4n</th>\n",
       "      <th>Qa8n</th>\n",
       "      <th>Qa10n</th>\n",
       "      <th>Qa16n</th>\n",
       "      <th>index1n</th>\n",
       "      <th>index1an</th>\n",
       "      <th>index1bn</th>\n",
       "    </tr>\n",
       "  </thead>\n",
       "  <tbody>\n",
       "    <tr>\n",
       "      <th>0</th>\n",
       "      <td>200704</td>\n",
       "      <td>22</td>\n",
       "      <td>2</td>\n",
       "      <td>59</td>\n",
       "      <td>100</td>\n",
       "      <td>100</td>\n",
       "      <td>100</td>\n",
       "      <td>100</td>\n",
       "      <td>50</td>\n",
       "      <td>70.296024</td>\n",
       "      <td>66.026939</td>\n",
       "      <td>72.642743</td>\n",
       "      <td>50</td>\n",
       "      <td>100</td>\n",
       "      <td>100</td>\n",
       "      <td>100</td>\n",
       "      <td>100</td>\n",
       "      <td>70.296024</td>\n",
       "      <td>66.026939</td>\n",
       "      <td>72.642743</td>\n",
       "    </tr>\n",
       "    <tr>\n",
       "      <th>1</th>\n",
       "      <td>200704</td>\n",
       "      <td>40</td>\n",
       "      <td>2</td>\n",
       "      <td>28</td>\n",
       "      <td>150</td>\n",
       "      <td>150</td>\n",
       "      <td>150</td>\n",
       "      <td>150</td>\n",
       "      <td>100</td>\n",
       "      <td>109.349371</td>\n",
       "      <td>110.044898</td>\n",
       "      <td>108.964114</td>\n",
       "      <td>150</td>\n",
       "      <td>100</td>\n",
       "      <td>100</td>\n",
       "      <td>200</td>\n",
       "      <td>100</td>\n",
       "      <td>101.538702</td>\n",
       "      <td>110.044898</td>\n",
       "      <td>96.856991</td>\n",
       "    </tr>\n",
       "  </tbody>\n",
       "</table>\n",
       "</div>"
      ],
      "text/plain": [
       "     time  id  s2  s3  Qa3  Qa4  Qa8  Qa10  Qa16      index1     index1a  \\\n",
       "0  200704  22   2  59  100  100  100   100    50   70.296024   66.026939   \n",
       "1  200704  40   2  28  150  150  150   150   100  109.349371  110.044898   \n",
       "\n",
       "      index1b  Qa3n  Qa4n  Qa8n  Qa10n  Qa16n     index1n    index1an  \\\n",
       "0   72.642743    50   100   100    100    100   70.296024   66.026939   \n",
       "1  108.964114   150   100   100    200    100  101.538702  110.044898   \n",
       "\n",
       "    index1bn  \n",
       "0  72.642743  \n",
       "1  96.856991  "
      ]
     },
     "execution_count": 40,
     "metadata": {},
     "output_type": "execute_result"
    }
   ],
   "source": [
    "ccss_p = pd.read_excel('CCSS_sample/CCSS_sample.xlsx',sheet_name = 'CCSS_pair')\n",
    "ccss_p.head(2)"
   ]
  },
  {
   "cell_type": "code",
   "execution_count": 41,
   "metadata": {},
   "outputs": [
    {
     "data": {
      "text/html": [
       "<div>\n",
       "<style scoped>\n",
       "    .dataframe tbody tr th:only-of-type {\n",
       "        vertical-align: middle;\n",
       "    }\n",
       "\n",
       "    .dataframe tbody tr th {\n",
       "        vertical-align: top;\n",
       "    }\n",
       "\n",
       "    .dataframe thead th {\n",
       "        text-align: right;\n",
       "    }\n",
       "</style>\n",
       "<table border=\"1\" class=\"dataframe\">\n",
       "  <thead>\n",
       "    <tr style=\"text-align: right;\">\n",
       "      <th></th>\n",
       "      <th>time</th>\n",
       "      <th>id</th>\n",
       "      <th>s0</th>\n",
       "      <th>s2</th>\n",
       "      <th>s3</th>\n",
       "      <th>s4</th>\n",
       "      <th>s5</th>\n",
       "      <th>s7</th>\n",
       "      <th>s9</th>\n",
       "      <th>c0_1</th>\n",
       "      <th>...</th>\n",
       "      <th>Qs9</th>\n",
       "      <th>Qa3</th>\n",
       "      <th>Qa4</th>\n",
       "      <th>Qa8</th>\n",
       "      <th>Qa9</th>\n",
       "      <th>Qa10</th>\n",
       "      <th>Qa16</th>\n",
       "      <th>index1</th>\n",
       "      <th>index1a</th>\n",
       "      <th>index1b</th>\n",
       "    </tr>\n",
       "  </thead>\n",
       "  <tbody>\n",
       "    <tr>\n",
       "      <th>0</th>\n",
       "      <td>200704</td>\n",
       "      <td>1</td>\n",
       "      <td>北京</td>\n",
       "      <td>男</td>\n",
       "      <td>20</td>\n",
       "      <td>本科</td>\n",
       "      <td>公司普通职员（白领）</td>\n",
       "      <td>未婚</td>\n",
       "      <td>2000-2999元</td>\n",
       "      <td>0</td>\n",
       "      <td>...</td>\n",
       "      <td>2500.0</td>\n",
       "      <td>100</td>\n",
       "      <td>200</td>\n",
       "      <td>200</td>\n",
       "      <td>200</td>\n",
       "      <td>100</td>\n",
       "      <td>100</td>\n",
       "      <td>109.349371</td>\n",
       "      <td>88.035919</td>\n",
       "      <td>121.071238</td>\n",
       "    </tr>\n",
       "    <tr>\n",
       "      <th>1</th>\n",
       "      <td>200704</td>\n",
       "      <td>2</td>\n",
       "      <td>北京</td>\n",
       "      <td>男</td>\n",
       "      <td>24</td>\n",
       "      <td>高中/中专</td>\n",
       "      <td>公司普通职员（白领）</td>\n",
       "      <td>未婚</td>\n",
       "      <td>6000-7999元</td>\n",
       "      <td>0</td>\n",
       "      <td>...</td>\n",
       "      <td>7000.0</td>\n",
       "      <td>100</td>\n",
       "      <td>100</td>\n",
       "      <td>100</td>\n",
       "      <td>150</td>\n",
       "      <td>200</td>\n",
       "      <td>100</td>\n",
       "      <td>93.728032</td>\n",
       "      <td>88.035919</td>\n",
       "      <td>96.856991</td>\n",
       "    </tr>\n",
       "  </tbody>\n",
       "</table>\n",
       "<p>2 rows × 32 columns</p>\n",
       "</div>"
      ],
      "text/plain": [
       "     time  id  s0 s2  s3     s4          s5  s7          s9 c0_1     ...      \\\n",
       "0  200704   1  北京  男  20     本科  公司普通职员（白领）  未婚  2000-2999元    0     ...       \n",
       "1  200704   2  北京  男  24  高中/中专  公司普通职员（白领）  未婚  6000-7999元    0     ...       \n",
       "\n",
       "      Qs9  Qa3  Qa4  Qa8  Qa9 Qa10  Qa16      index1    index1a     index1b  \n",
       "0  2500.0  100  200  200  200  100   100  109.349371  88.035919  121.071238  \n",
       "1  7000.0  100  100  100  150  200   100   93.728032  88.035919   96.856991  \n",
       "\n",
       "[2 rows x 32 columns]"
      ]
     },
     "execution_count": 41,
     "metadata": {},
     "output_type": "execute_result"
    }
   ],
   "source": [
    "ccss = pd.read_excel('CCSS_sample/CCSS_sample.xlsx')\n",
    "ccss.head(2)"
   ]
  },
  {
   "cell_type": "code",
   "execution_count": 42,
   "metadata": {},
   "outputs": [
    {
     "data": {
      "text/plain": [
       "(0.2638011798615909, 0.013011623679510012)"
      ]
     },
     "execution_count": 42,
     "metadata": {},
     "output_type": "execute_result"
    }
   ],
   "source": [
    "ss.pearsonr(ccss_p.index1,ccss_p.index1n)"
   ]
  },
  {
   "cell_type": "code",
   "execution_count": 43,
   "metadata": {},
   "outputs": [
    {
     "data": {
      "text/plain": [
       "Ttest_relResult(statistic=1.1616334792419984, pvalue=0.24856144386191056)"
      ]
     },
     "execution_count": 43,
     "metadata": {},
     "output_type": "execute_result"
    }
   ],
   "source": [
    "ss.ttest_rel(ccss_p.index1,ccss_p.index1n)"
   ]
  },
  {
   "cell_type": "code",
   "execution_count": 44,
   "metadata": {},
   "outputs": [
    {
     "data": {
      "text/plain": [
       "Ttest_1sampResult(statistic=1.1616334792419984, pvalue=0.24856144386191056)"
      ]
     },
     "execution_count": 44,
     "metadata": {},
     "output_type": "execute_result"
    }
   ],
   "source": [
    "# 直接求出差值并进行单样本t-test\n",
    "ss.ttest_1samp(ccss_p.index1 - ccss_p.index1n,0)"
   ]
  },
  {
   "cell_type": "code",
   "execution_count": 45,
   "metadata": {},
   "outputs": [
    {
     "data": {
      "text/plain": [
       "(1.1616334792419987, 0.2485614438619105, 87.0)"
      ]
     },
     "execution_count": 45,
     "metadata": {},
     "output_type": "execute_result"
    }
   ],
   "source": [
    "smw.DescrStatsW(ccss_p.index1 - ccss_p.index1n).ttest_mean()"
   ]
  },
  {
   "cell_type": "markdown",
   "metadata": {},
   "source": [
    "# 单因素方差分析\n",
    "- <font color='red'>**多组的均数的比较**</font>, 检验某一个控制因素（分类变量）的差异是否会给观测变量（连续变量）带来显著影响\n",
    "- <font color='blue'>**H0: 检验组的总体均数是一样的**</font>\n",
    "- scipy\n",
    "```Python\n",
    "scipy.stats.f_oneway(a,b,c,d)        \n",
    "```\n",
    "- scikit_posthocs\n",
    "```Python\n",
    "scikit_posthocs.posthoc_conover(\n",
    "            data\n",
    "            val_col =\n",
    "            group_col =\n",
    "            p_adjust = 'bonferroni'/'sidak')\n",
    "```"
   ]
  },
  {
   "cell_type": "code",
   "execution_count": 46,
   "metadata": {},
   "outputs": [
    {
     "data": {
      "text/plain": [
       "LeveneResult(statistic=0.44332330387152036, pvalue=0.7221678627997157)"
      ]
     },
     "execution_count": 46,
     "metadata": {},
     "output_type": "execute_result"
    }
   ],
   "source": [
    "a = ccss.query(\"s0 == '北京'& time == '200704'\").index1\n",
    "b = ccss.query(\"s0 == '北京'& time == '200712'\").index1\n",
    "c = ccss.query(\"s0 == '北京'& time == '200812'\").index1\n",
    "d = ccss.query(\"s0 == '北京'& time == '200912'\").index1\n",
    "ss.levene(a,b,c,d) # default median,方差齐性检验"
   ]
  },
  {
   "cell_type": "code",
   "execution_count": 47,
   "metadata": {},
   "outputs": [
    {
     "data": {
      "text/plain": [
       "F_onewayResult(statistic=5.630155391280303, pvalue=0.0008777240313291846)"
      ]
     },
     "execution_count": 47,
     "metadata": {},
     "output_type": "execute_result"
    }
   ],
   "source": [
    "ss.f_oneway(a,b,c,d)"
   ]
  },
  {
   "cell_type": "code",
   "execution_count": 48,
   "metadata": {},
   "outputs": [],
   "source": [
    "ccss = pd.read_excel('CCSS_sample/CCSS_sample.xlsx')"
   ]
  },
  {
   "cell_type": "code",
   "execution_count": 49,
   "metadata": {},
   "outputs": [
    {
     "data": {
      "image/png": "[encoded data removed]",
      "text/plain": [
       "<Figure size 432x288 with 2 Axes>"
      ]
     },
     "metadata": {},
     "output_type": "display_data"
    }
   ],
   "source": [
    "pc = sp.posthoc_conover(ccss,val_col='index1',group_col='time',p_adjust='bonferroni')\n",
    "cmap = ['1','#fb6a4a','#08306b','#4292c6','#c6dbef']\n",
    "heatmap_args = {'cmap':cmap, 'linewidths':0.25,'linecolor':'0.5',\n",
    "                'clip_on':False,'square':True,'cbar_ax_bbox':[0.80,0.35,0.04,0.3]}\n",
    "sp.sign_plot(pc,**heatmap_args);"
   ]
  },
  {
   "cell_type": "markdown",
   "metadata": {},
   "source": [
    "# 非参数检验 \n",
    "- <font color='red'>总体的分布位置/形状进行估计或假设检验</font>\n",
    "    - 分布类型/形状的检验：检验样本所在总体是否服从已知的理论分布\n",
    "    - 分布位置检验：检验样本所在总体的分布位置（集中趋势）是否相同\n",
    "\n",
    "- Wilcoxon两样本秩和检验\n",
    "    - **H0:两总体所在的中心位置相同**，中位数可以代表中心位\n",
    "    - 考察各组秩和的大小是否明显偏离H0\n",
    "- Mann-Whitney U\n",
    "    - 基本等价于两样本秩和检验\n",
    "    - 可近似理解为基于秩次进行了两样本t检验\n",
    "- Kolmogorov-Smirnov Z\n",
    "    - 两样本K-S检验，检验效能不高\n",
    "    - 考察的是**整体分布是否相同**，而不是只针对中心位置\n",
    "- Kruskal-Wallis H检验\n",
    "    - 本质上就是**基于秩次的单因素方差分析**，可用于两组或多组"
   ]
  },
  {
   "cell_type": "markdown",
   "metadata": {},
   "source": [
    "## Independent population\n",
    "- Two populations\n",
    "```Python\n",
    "scipy.stats.median_test()           # 中位数检验，两组或多组均可以使用\n",
    "scipy.stats.ranksums(a,b)           # wilcox秩和检验，相对使用较少\n",
    "scipy.stats.mannwhitneyu(a,b,use_continuity,alternative) # Mann-Whitney U检验，使用中一般直接代替Wilcox秩和检验\n",
    "scipy.stats.ks_2samp(data1,data2)        # 两样本KS检验\n",
    "```\n",
    "- More than two populations\n",
    "```Python\n",
    "scipy.stats.kruskal(sample1,sample2,....,nan_policy='propagate')   # propagate,raise,omit\n",
    "```"
   ]
  },
  {
   "cell_type": "code",
   "execution_count": 50,
   "metadata": {},
   "outputs": [
    {
     "data": {
      "text/plain": [
       "MannwhitneyuResult(statistic=121516.5, pvalue=0.0016970638386570689)"
      ]
     },
     "execution_count": 50,
     "metadata": {},
     "output_type": "execute_result"
    }
   ],
   "source": [
    "ss.mannwhitneyu(ccss.Qa3[ccss.s7=='未婚'],ccss.Qa3[ccss.s7=='已婚'])"
   ]
  },
  {
   "cell_type": "code",
   "execution_count": 51,
   "metadata": {},
   "outputs": [
    {
     "data": {
      "text/plain": [
       "RanksumsResult(statistic=2.7604079036339764, pvalue=0.005772923211835386)"
      ]
     },
     "execution_count": 51,
     "metadata": {},
     "output_type": "execute_result"
    }
   ],
   "source": [
    "ss.ranksums(ccss.Qa3[ccss.s7=='未婚'],ccss.Qa3[ccss.s7=='已婚'])"
   ]
  },
  {
   "cell_type": "code",
   "execution_count": 52,
   "metadata": {},
   "outputs": [
    {
     "data": {
      "text/plain": [
       "(2.6726310409335143, 0.10208713262673606, 100.0, array([[158, 321],\n",
       "        [185, 469]]))"
      ]
     },
     "execution_count": 52,
     "metadata": {},
     "output_type": "execute_result"
    }
   ],
   "source": [
    "ss.median_test(ccss.Qa3[ccss.s7=='未婚'],ccss.Qa3[ccss.s7=='已婚'])"
   ]
  },
  {
   "cell_type": "code",
   "execution_count": 53,
   "metadata": {},
   "outputs": [
    {
     "data": {
      "text/plain": [
       "Ks_2sampResult(statistic=0.07164630770934052, pvalue=0.1647598251581164)"
      ]
     },
     "execution_count": 53,
     "metadata": {},
     "output_type": "execute_result"
    }
   ],
   "source": [
    "ss.ks_2samp(ccss.Qa3[ccss.s7=='未婚'],ccss.Qa3[ccss.s7=='已婚'])"
   ]
  },
  {
   "cell_type": "code",
   "execution_count": 54,
   "metadata": {},
   "outputs": [
    {
     "data": {
      "text/plain": [
       "KruskalResult(statistic=11.773756778518651, pvalue=0.008199757256201149)"
      ]
     },
     "execution_count": 54,
     "metadata": {},
     "output_type": "execute_result"
    }
   ],
   "source": [
    "ss.kruskal(ccss.query(\"s0=='北京' & time == '200704'\").Qa3,\n",
    "           ccss.query(\"s0=='北京' & time == '200712'\").Qa3,\n",
    "           ccss.query(\"s0=='北京' & time == '200812'\").Qa3,\n",
    "           ccss.query(\"s0=='北京' & time == '200912'\").Qa3)"
   ]
  },
  {
   "cell_type": "markdown",
   "metadata": {},
   "source": [
    "## Dependent population\n",
    "- Two populations\n",
    "```Python\n",
    "scipy.stats.willcoxon(a,b,zero_method='wilcox',correction=False)\n",
    "# zero_method: pratt: 检验中包括0差值， wilcox:丢弃0差值，  zsplit:将0差值对半分入两组  \n",
    "```\n",
    "- More than two populations\n",
    "```Python\n",
    "scipy.stats.friedmanchisquare(measurement1,measurement2,measurement3)\n",
    "# friedman卡方检验，至少需要提供三组数据\n",
    "```"
   ]
  },
  {
   "cell_type": "code",
   "execution_count": 55,
   "metadata": {},
   "outputs": [
    {
     "data": {
      "text/plain": [
       "WilcoxonResult(statistic=414.0, pvalue=0.02601583794073107)"
      ]
     },
     "execution_count": 55,
     "metadata": {},
     "output_type": "execute_result"
    }
   ],
   "source": [
    "ss.wilcoxon(ccss_p.Qa4,ccss_p.Qa4n)"
   ]
  },
  {
   "cell_type": "markdown",
   "metadata": {},
   "source": [
    "### Wilcoxon Signed Rank Test"
   ]
  },
  {
   "cell_type": "code",
   "execution_count": 2,
   "metadata": {},
   "outputs": [],
   "source": [
    "Twin = pd.read_excel('data/Statistic Practice Data.xlsx',sheet_name='Twin')"
   ]
  },
  {
   "cell_type": "code",
   "execution_count": 3,
   "metadata": {},
   "outputs": [
    {
     "data": {
      "text/plain": [
       "4    0\n",
       "Name: diff, dtype: int64"
      ]
     },
     "execution_count": 3,
     "metadata": {},
     "output_type": "execute_result"
    }
   ],
   "source": [
    "Twin['diff'] = Twin['Older'] - Twin['Younger']\n",
    "Twin['diff'][Twin['diff']==0]"
   ]
  },
  {
   "cell_type": "code",
   "execution_count": 12,
   "metadata": {},
   "outputs": [
    {
     "data": {
      "text/plain": [
       "WilcoxonResult(statistic=18.5, pvalue=0.35832646674888025)"
      ]
     },
     "execution_count": 12,
     "metadata": {},
     "output_type": "execute_result"
    }
   ],
   "source": [
    "ss.wilcoxon(Twin['diff'],zero_method='wilcox',correction=False)"
   ]
  },
  {
   "cell_type": "code",
   "execution_count": 14,
   "metadata": {},
   "outputs": [
    {
     "data": {
      "text/plain": [
       "WilcoxonResult(statistic=22.0, pvalue=0.32758632833257006)"
      ]
     },
     "execution_count": 14,
     "metadata": {},
     "output_type": "execute_result"
    }
   ],
   "source": [
    "ss.wilcoxon(Twin['Older'], Twin['Younger'],zero_method='zsplit',correction=False)"
   ]
  },
  {
   "cell_type": "code",
   "execution_count": 15,
   "metadata": {},
   "outputs": [
    {
     "data": {
      "text/html": [
       "<div>\n",
       "<style scoped>\n",
       "    .dataframe tbody tr th:only-of-type {\n",
       "        vertical-align: middle;\n",
       "    }\n",
       "\n",
       "    .dataframe tbody tr th {\n",
       "        vertical-align: top;\n",
       "    }\n",
       "\n",
       "    .dataframe thead th {\n",
       "        text-align: right;\n",
       "    }\n",
       "</style>\n",
       "<table border=\"1\" class=\"dataframe\">\n",
       "  <thead>\n",
       "    <tr style=\"text-align: right;\">\n",
       "      <th></th>\n",
       "      <th>site1</th>\n",
       "      <th>site2</th>\n",
       "    </tr>\n",
       "  </thead>\n",
       "  <tbody>\n",
       "    <tr>\n",
       "      <th>0</th>\n",
       "      <td>50.6</td>\n",
       "      <td>38.0</td>\n",
       "    </tr>\n",
       "    <tr>\n",
       "      <th>1</th>\n",
       "      <td>39.2</td>\n",
       "      <td>18.6</td>\n",
       "    </tr>\n",
       "    <tr>\n",
       "      <th>2</th>\n",
       "      <td>35.2</td>\n",
       "      <td>23.2</td>\n",
       "    </tr>\n",
       "    <tr>\n",
       "      <th>3</th>\n",
       "      <td>17.0</td>\n",
       "      <td>19.0</td>\n",
       "    </tr>\n",
       "    <tr>\n",
       "      <th>4</th>\n",
       "      <td>11.2</td>\n",
       "      <td>6.6</td>\n",
       "    </tr>\n",
       "  </tbody>\n",
       "</table>\n",
       "</div>"
      ],
      "text/plain": [
       "   site1  site2\n",
       "0   50.6   38.0\n",
       "1   39.2   18.6\n",
       "2   35.2   23.2\n",
       "3   17.0   19.0\n",
       "4   11.2    6.6"
      ]
     },
     "execution_count": 15,
     "metadata": {},
     "output_type": "execute_result"
    }
   ],
   "source": [
    "horse = pd.read_excel('data/Statistic Practice Data.xlsx',sheet_name='horse')\n",
    "horse.head()"
   ]
  },
  {
   "cell_type": "code",
   "execution_count": 18,
   "metadata": {},
   "outputs": [
    {
     "data": {
      "text/plain": [
       "WilcoxonResult(statistic=6.0, pvalue=0.0580240199462214)"
      ]
     },
     "execution_count": 18,
     "metadata": {},
     "output_type": "execute_result"
    }
   ],
   "source": [
    "ss.wilcoxon(horse['site1'], horse['site2'],zero_method='zsplit',correction=True)"
   ]
  },
  {
   "cell_type": "code",
   "execution_count": null,
   "metadata": {},
   "outputs": [],
   "source": []
  },
  {
   "cell_type": "code",
   "execution_count": 56,
   "metadata": {},
   "outputs": [
    {
     "data": {
      "text/plain": [
       "FriedmanchisquareResult(statistic=5.833333333333344, pvalue=0.12000654765321411)"
      ]
     },
     "execution_count": 56,
     "metadata": {},
     "output_type": "execute_result"
    }
   ],
   "source": [
    "ss.stats.friedmanchisquare(ccss.query(\"s0=='北京' & time == '200704'\").Qa4[:10],\n",
    "                              ccss.query(\"s0=='北京' & time == '200712'\").Qa4[:10],\n",
    "                              ccss.query(\"s0=='北京' & time == '200812'\").Qa4[:10],\n",
    "                              ccss.query(\"s0=='北京' & time == '200912'\").Qa4[:10])"
   ]
  }
 ],
 "metadata": {
  "kernelspec": {
   "display_name": "Python 3",
   "language": "python",
   "name": "python3"
  },
  "language_info": {
   "codemirror_mode": {
    "name": "ipython",
    "version": 3
   },
   "file_extension": ".py",
   "mimetype": "text/x-python",
   "name": "python",
   "nbconvert_exporter": "python",
   "pygments_lexer": "ipython3",
   "version": "3.6.5"
  },
  "latex_envs": {
   "LaTeX_envs_menu_present": true,
   "autoclose": false,
   "autocomplete": true,
   "bibliofile": "biblio.bib",
   "cite_by": "apalike",
   "current_citInitial": 1,
   "eqLabelWithNumbers": true,
   "eqNumInitial": 1,
   "hotkeys": {
    "equation": "Ctrl-E",
    "itemize": "Ctrl-I"
   },
   "labels_anchors": false,
   "latex_user_defs": false,
   "report_style_numbering": false,
   "user_envs_cfg": false
  },
  "toc": {
   "base_numbering": 1,
   "nav_menu": {},
   "number_sections": true,
   "sideBar": true,
   "skip_h1_title": false,
   "title_cell": "Table of Contents",
   "title_sidebar": "Contents",
   "toc_cell": false,
   "toc_position": {
    "height": "calc(100% - 180px)",
    "left": "10px",
    "top": "150px",
    "width": "288px"
   },
   "toc_section_display": true,
   "toc_window_display": true
  }
 },
 "nbformat": 4,
 "nbformat_minor": 2
}
