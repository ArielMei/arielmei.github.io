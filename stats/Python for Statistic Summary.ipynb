{
 "cells": [
  {
   "cell_type": "code",
   "execution_count": 2,
   "metadata": {},
   "outputs": [],
   "source": [
    "import pandas as pd\n",
    "import numpy as np \n",
    "\n",
    "import scipy.stats as ss\n",
    "from scipy.stats import t\n",
    "from scipy.stats import binom\n",
    "from scipy.stats import norm\n",
    "import scikit_posthocs as sp                 # sp.posthoc_conover()  用于Post Hoc Test   \n",
    "\n",
    "import statsmodels.api as sm                               # 方差分析\n",
    "import statsmodels.stats.weightstats as ssw                 # 统计类 用于 统计描述\n",
    "from statsmodels.stats import contingency_tables as tbl     # 卡方检验需要的列联表对象\n",
    "from statsmodels.stats import power as spower               # 样本量/检验效能\n",
    "from statsmodels.stats import proportion as sprop           # 二项及多项分布检验\n",
    "from statsmodels.formula.api import ols        # ols 最小二乘法\n",
    "\n",
    "import matplotlib.pyplot as plt"
   ]
  },
  {
   "cell_type": "markdown",
   "metadata": {},
   "source": [
    "# Statistical Inference \n",
    "\n",
    "- How to use data to <font color='blue'>estimate parameters</font>,such as <font color='red'>**Proportion, mean, mean difference**</font> and <font color='blue'> test theories about  parameters </font> <font color='red'>including **two population Means and a population proportion**</font> <font color='blue'>with confidence</font>.\n",
    "- Calculate method:\n",
    "    - Using formula;\n",
    "    - Using **statsmodels** module;\n",
    "\n",
    "\n",
    "## Confidence Intervals\n",
    "- **Confidence intervals** are a calculated range around a statistic that is supported mathematically with a certain level of confidence.\n",
    "    - 95% confidence level refers to our **confidence in the statistical procedure** that was used to make this interval.\n",
    "    \n",
    "<font color='red'>\n",
    "\\begin{align} Best~ Estimate &\\pm t_{\\nu/2} * SE \\nonumber\\\\\n",
    "SE =& \\sqrt{\\frac{p(1-p)}{n}} ~~~~ (Proportion)\\nonumber\\\\\n",
    "SE =& \\frac{\\sigma}{\\sqrt{n}} ~~~~~~~~~~~~~~~~~ (Mean) \\nonumber\\\\\n",
    "SE =& \\sqrt{SE_1^2+SE_2^2} ~~~~ (Two~populations~Difference)\\end{align}</font>\n",
    "For samples with more than 30 observations and a confidence level of 95%, the $t_{\\nu/2}$ is 1.96."
   ]
  },
  {
   "cell_type": "markdown",
   "metadata": {},
   "source": [
    "## Confidence intervals for Population <font color='red'>Proportion\n",
    "Question: A sample of 659 parents with a toddles was taken and asked if they used a car seat for all travel with their toddler. 559 parents reponded Yes to this question. Construct a 95% confidence interval for the population proportion of parents reporting they use a car seat for all travel with their toddler."
   ]
  },
  {
   "cell_type": "markdown",
   "metadata": {},
   "source": [
    "```Python\n",
    "statsmodels.stats.proportion_confint(     # 二项分布指标的率的可信区间的上下限\n",
    "                count                                # 成功次数\n",
    "                nobs                                 # 样本总数\n",
    "                alpha = 0.5                          \n",
    "                method = 'normal'                    # 可信区间的计算方法，正态近似法\n",
    "                        'agresti_coull'              # Agresti-Coull interval\n",
    "                        'beta'                       # clopper-pearson interval based on Beta distribution\n",
    "                        'wilson'                     # wilson score interval\n",
    "                        'jeffreys'                   # Jeffreys Bayesian interval\n",
    "                        'binom_test')                # experimental, inversion of binom_test\n",
    "``` "
   ]
  },
  {
   "cell_type": "code",
   "execution_count": 2,
   "metadata": {},
   "outputs": [
    {
     "name": "stdout",
     "output_type": "stream",
     "text": [
      "between 0.8208622940192611 and 0.8756475694101773\n"
     ]
    }
   ],
   "source": [
    "# Use formular\n",
    "t = 1.96\n",
    "p = 559/659\n",
    "n = 659\n",
    "se = np.sqrt(p*(1-p)/n)\n",
    "\n",
    "lb = p - t*se\n",
    "ub = p + t*se\n",
    "print('between',lb,'and',ub)"
   ]
  },
  {
   "cell_type": "code",
   "execution_count": 3,
   "metadata": {},
   "outputs": [
    {
     "data": {
      "text/plain": [
       "(0.8208627973654069, 0.8756470660640315)"
      ]
     },
     "execution_count": 3,
     "metadata": {},
     "output_type": "execute_result"
    }
   ],
   "source": [
    "sm.stats.proportion_confint(559, 659, alpha = 0.05)"
   ]
  },
  {
   "cell_type": "markdown",
   "metadata": {},
   "source": [
    "## Confidence interval for Population <font color='red'>Mean:\n",
    "```Python\n",
    "statsmodels.stats.DescrStatsW(df[\"CWDistance\"]).tconfint_mean(      # 计算均数的可信区间\n",
    "                        alpha = 0.05\n",
    "                        alternative = 'two-sided'） # 结果输出：可信区间的上下限                         \n",
    "```"
   ]
  },
  {
   "cell_type": "code",
   "execution_count": 4,
   "metadata": {},
   "outputs": [],
   "source": [
    "df = pd.read_csv(\"CCSS_sample/Cartwheeldata.csv\")"
   ]
  },
  {
   "cell_type": "code",
   "execution_count": 5,
   "metadata": {},
   "outputs": [
    {
     "data": {
      "text/plain": [
       "(76.26382957453707, 88.69617042546294)"
      ]
     },
     "execution_count": 5,
     "metadata": {},
     "output_type": "execute_result"
    }
   ],
   "source": [
    "mean = df[\"CWDistance\"].mean()\n",
    "sd = df[\"CWDistance\"].std()\n",
    "n = len(df)\n",
    "\n",
    "t = 2.064       # 99% confident level\n",
    "se = sd/np.sqrt(n)\n",
    "\n",
    "lcb = mean - t * se\n",
    "ucb = mean + t * se\n",
    "(lcb, ucb)"
   ]
  },
  {
   "cell_type": "code",
   "execution_count": 6,
   "metadata": {},
   "outputs": [
    {
     "data": {
      "text/plain": [
       "(76.26413507754478, 88.69586492245523)"
      ]
     },
     "execution_count": 6,
     "metadata": {},
     "output_type": "execute_result"
    }
   ],
   "source": [
    "sm.stats.DescrStatsW(df[\"CWDistance\"]).tconfint_mean(alpha = 0.05)"
   ]
  },
  {
   "cell_type": "markdown",
   "metadata": {},
   "source": [
    "## Confidence interval for Two Population <font color='red'>Proportions Difference \n",
    "\n",
    "<font color='blue'>**Question:**</font> Analyze the difference of proportion between female and male smokers \"SMQ020\". "
   ]
  },
  {
   "cell_type": "code",
   "execution_count": 7,
   "metadata": {},
   "outputs": [
    {
     "data": {
      "text/html": [
       "<div>\n",
       "<style scoped>\n",
       "    .dataframe tbody tr th:only-of-type {\n",
       "        vertical-align: middle;\n",
       "    }\n",
       "\n",
       "    .dataframe tbody tr th {\n",
       "        vertical-align: top;\n",
       "    }\n",
       "\n",
       "    .dataframe thead th {\n",
       "        text-align: right;\n",
       "    }\n",
       "</style>\n",
       "<table border=\"1\" class=\"dataframe\">\n",
       "  <thead>\n",
       "    <tr style=\"text-align: right;\">\n",
       "      <th></th>\n",
       "      <th>SMQ020x</th>\n",
       "      <th>RIAGENDRx</th>\n",
       "      <th>BMXBMI</th>\n",
       "    </tr>\n",
       "  </thead>\n",
       "  <tbody>\n",
       "    <tr>\n",
       "      <th>0</th>\n",
       "      <td>Yes</td>\n",
       "      <td>Male</td>\n",
       "      <td>27.8</td>\n",
       "    </tr>\n",
       "    <tr>\n",
       "      <th>1</th>\n",
       "      <td>Yes</td>\n",
       "      <td>Male</td>\n",
       "      <td>30.8</td>\n",
       "    </tr>\n",
       "    <tr>\n",
       "      <th>2</th>\n",
       "      <td>Yes</td>\n",
       "      <td>Male</td>\n",
       "      <td>28.8</td>\n",
       "    </tr>\n",
       "    <tr>\n",
       "      <th>3</th>\n",
       "      <td>No</td>\n",
       "      <td>Female</td>\n",
       "      <td>42.4</td>\n",
       "    </tr>\n",
       "    <tr>\n",
       "      <th>4</th>\n",
       "      <td>No</td>\n",
       "      <td>Female</td>\n",
       "      <td>20.3</td>\n",
       "    </tr>\n",
       "  </tbody>\n",
       "</table>\n",
       "</div>"
      ],
      "text/plain": [
       "  SMQ020x RIAGENDRx  BMXBMI\n",
       "0     Yes      Male    27.8\n",
       "1     Yes      Male    30.8\n",
       "2     Yes      Male    28.8\n",
       "3      No    Female    42.4\n",
       "4      No    Female    20.3"
      ]
     },
     "execution_count": 7,
     "metadata": {},
     "output_type": "execute_result"
    }
   ],
   "source": [
    "da = pd.read_csv('CCSS_sample/nhanes_2015_2016.csv')\n",
    "da[\"SMQ020x\"] = da.SMQ020.replace({1: \"Yes\", 2: \"No\", 7: np.nan, 9: np.nan})\n",
    "da[\"RIAGENDRx\"] = da.RIAGENDR.replace({1: \"Male\", 2: \"Female\"})\n",
    "dx = da[[\"SMQ020x\", \"RIAGENDRx\",\"BMXBMI\"]].dropna()\n",
    "dx.head()"
   ]
  },
  {
   "cell_type": "code",
   "execution_count": 8,
   "metadata": {},
   "outputs": [
    {
     "data": {
      "text/html": [
       "<div>\n",
       "<style scoped>\n",
       "    .dataframe tbody tr th:only-of-type {\n",
       "        vertical-align: middle;\n",
       "    }\n",
       "\n",
       "    .dataframe tbody tr th {\n",
       "        vertical-align: top;\n",
       "    }\n",
       "\n",
       "    .dataframe thead th {\n",
       "        text-align: right;\n",
       "    }\n",
       "</style>\n",
       "<table border=\"1\" class=\"dataframe\">\n",
       "  <thead>\n",
       "    <tr style=\"text-align: right;\">\n",
       "      <th>RIAGENDRx</th>\n",
       "      <th>Female</th>\n",
       "      <th>Male</th>\n",
       "    </tr>\n",
       "    <tr>\n",
       "      <th>SMQ020x</th>\n",
       "      <th></th>\n",
       "      <th></th>\n",
       "    </tr>\n",
       "  </thead>\n",
       "  <tbody>\n",
       "    <tr>\n",
       "      <th>No</th>\n",
       "      <td>2044</td>\n",
       "      <td>1322</td>\n",
       "    </tr>\n",
       "    <tr>\n",
       "      <th>Yes</th>\n",
       "      <td>896</td>\n",
       "      <td>1390</td>\n",
       "    </tr>\n",
       "  </tbody>\n",
       "</table>\n",
       "</div>"
      ],
      "text/plain": [
       "RIAGENDRx  Female  Male\n",
       "SMQ020x                \n",
       "No           2044  1322\n",
       "Yes           896  1390"
      ]
     },
     "execution_count": 8,
     "metadata": {},
     "output_type": "execute_result"
    }
   ],
   "source": [
    "pd.crosstab(dx.SMQ020x, dx.RIAGENDRx)"
   ]
  },
  {
   "cell_type": "code",
   "execution_count": 9,
   "metadata": {},
   "outputs": [
    {
     "data": {
      "text/plain": [
       "(0.18265990490786876, 0.2328900318810061)"
      ]
     },
     "execution_count": 9,
     "metadata": {},
     "output_type": "execute_result"
    }
   ],
   "source": [
    "se_female = np.sqrt(896/(896+2044) * (1 - 896/(896+2044))/(896+2044))\n",
    "se_male = np.sqrt(1390/(1390+1322) * (1 - 1390/(1390+1322))/ (1390+1322))\n",
    "se_diff = np.sqrt(se_female**2 + se_male**2)\n",
    "\n",
    "d = 1390/(1390+1322) - 896/(896+2044)\n",
    "lcb = d - 1.96 * se_diff\n",
    "ucb = d + 1.96 * se_diff\n",
    "(lcb, ucb)"
   ]
  },
  {
   "cell_type": "markdown",
   "metadata": {},
   "source": [
    "## Confidence interval for  Two Population <font color='red'>Mean Difference \n",
    "\n",
    "```Python\n",
    "# d1,d2 are DescrStatsW formats, t-test的d1&d2均数差值可信区间 / z-test的d1&d2均数差值可信区间\n",
    "statsmodels.stats.weightstatsW.CompareMeans(d1,d2).tconfint_diff([alpha,alternative,usevar])   \n",
    "statsmodels.stats.weightstatsW.CompareMeans(d1,d2).zconfint_diff([alpha,alternative,usevar])  \n",
    "```\n",
    "\n",
    "<font color='blue'>**Question:**</font>\n",
    "Analyze the difference of mean of body mass index within our female and male populations \"BMXBMI\". "
   ]
  },
  {
   "cell_type": "code",
   "execution_count": 10,
   "metadata": {},
   "outputs": [
    {
     "data": {
      "text/html": [
       "<div>\n",
       "<style scoped>\n",
       "    .dataframe tbody tr th:only-of-type {\n",
       "        vertical-align: middle;\n",
       "    }\n",
       "\n",
       "    .dataframe tbody tr th {\n",
       "        vertical-align: top;\n",
       "    }\n",
       "\n",
       "    .dataframe thead tr th {\n",
       "        text-align: left;\n",
       "    }\n",
       "\n",
       "    .dataframe thead tr:last-of-type th {\n",
       "        text-align: right;\n",
       "    }\n",
       "</style>\n",
       "<table border=\"1\" class=\"dataframe\">\n",
       "  <thead>\n",
       "    <tr>\n",
       "      <th></th>\n",
       "      <th colspan=\"3\" halign=\"left\">BMXBMI</th>\n",
       "    </tr>\n",
       "    <tr>\n",
       "      <th></th>\n",
       "      <th>mean</th>\n",
       "      <th>std</th>\n",
       "      <th>size</th>\n",
       "    </tr>\n",
       "    <tr>\n",
       "      <th>RIAGENDRx</th>\n",
       "      <th></th>\n",
       "      <th></th>\n",
       "      <th></th>\n",
       "    </tr>\n",
       "  </thead>\n",
       "  <tbody>\n",
       "    <tr>\n",
       "      <th>Female</th>\n",
       "      <td>29.939946</td>\n",
       "      <td>7.753319</td>\n",
       "      <td>2976.0</td>\n",
       "    </tr>\n",
       "    <tr>\n",
       "      <th>Male</th>\n",
       "      <td>28.778072</td>\n",
       "      <td>6.252568</td>\n",
       "      <td>2759.0</td>\n",
       "    </tr>\n",
       "  </tbody>\n",
       "</table>\n",
       "</div>"
      ],
      "text/plain": [
       "              BMXBMI                  \n",
       "                mean       std    size\n",
       "RIAGENDRx                             \n",
       "Female     29.939946  7.753319  2976.0\n",
       "Male       28.778072  6.252568  2759.0"
      ]
     },
     "execution_count": 10,
     "metadata": {},
     "output_type": "execute_result"
    }
   ],
   "source": [
    "da.groupby(\"RIAGENDRx\").agg({\"BMXBMI\": [np.mean, np.std, np.size]})"
   ]
  },
  {
   "cell_type": "code",
   "execution_count": 11,
   "metadata": {},
   "outputs": [
    {
     "data": {
      "text/plain": [
       "(0.798509725476467, 1.5252382745235278)"
      ]
     },
     "execution_count": 11,
     "metadata": {},
     "output_type": "execute_result"
    }
   ],
   "source": [
    "sem_female = 7.753319 / np.sqrt(2976)\n",
    "sem_male = 6.252568 / np.sqrt(2759)\n",
    "\n",
    "sem_diff = np.sqrt(sem_female**2 + sem_male**2)\n",
    "d = 29.939946 - 28.778072\n",
    "lcb = d - 1.96 * sem_diff\n",
    "ucb = d + 1.96 * sem_diff\n",
    "(lcb, ucb)"
   ]
  },
  {
   "cell_type": "code",
   "execution_count": 12,
   "metadata": {},
   "outputs": [
    {
     "data": {
      "text/plain": [
       "(0.7930478678957343, 1.5306992127582104)"
      ]
     },
     "execution_count": 12,
     "metadata": {},
     "output_type": "execute_result"
    }
   ],
   "source": [
    "female = da[da[\"RIAGENDR\"] == 2]\n",
    "male = da[da[\"RIAGENDR\"] == 1]\n",
    "\n",
    "bmg1 = ssw.DescrStatsW(female[\"BMXBMI\"].dropna())   # female\n",
    "bmg2 = ssw.DescrStatsW(male[\"BMXBMI\"].dropna())   # male   \n",
    "ssw.CompareMeans(bmg1,bmg2).tconfint_diff()"
   ]
  },
  {
   "cell_type": "markdown",
   "metadata": {},
   "source": [
    "# <font color='blue'>Independent</font> Hypothesis Testing \n",
    "<font color='red'>\n",
    "\\begin{align} \\displaystyle\n",
    "    z\\_score = &\\frac{Best\\ Estimate - Hypothesized\\ Estimate}{Standard\\ Error\\ of\\ Estimate}\n",
    "\\end{align}</font>\n",
    "One can calculate the P_value with z_score. If P_value < $\\alpha$, then rejecte H0."
   ]
  },
  {
   "cell_type": "markdown",
   "metadata": {},
   "source": [
    "## <font color='red'>Proportion</font> for One Population \n",
    "- statsmodels\n",
    "```Python\n",
    "statsmodels.stats.proportions_ztest(    # output( Z-statisticd, pvalue)\n",
    "            count,                                 # 成功次数，单一数值/类数组结构列表\n",
    "            nobs,                                  # 总样本量，单一数值/类数组结构列表\n",
    "            value,                                 # H0对应的总体率/率差\n",
    "            alternative = 'two-sided'\n",
    "            prop_var = False                       # 指定方差分配比例，默认按照样本比例进行计算\n",
    "            )\n",
    "```\n",
    "- 基于卡方的多项分布检验,**检验各个类别出现的概率是否相同**\n",
    "```Python\n",
    "statsmodels.stats.proportions_chisquare(     # output(chi2_value,pvalue,(table,expected value))\n",
    "            count,           # 按列表形式给出各类别频数\n",
    "            nobs,\n",
    "            value)           # H0对应的总体率/率差\n",
    "```\n",
    "- 基于二项分布的**确切检验**\n",
    "```Python\n",
    "statsmodels.stats.binom_test(    # output: pvalue\n",
    "            count,\n",
    "            nobs,\n",
    "            value,               # H0对应的总体率/率差\n",
    "            alternative = 'two-sided')\n",
    "```"
   ]
  },
  {
   "cell_type": "markdown",
   "metadata": {},
   "source": [
    "<font color='blue'>**Question:**</font>\n",
    "    - In previous years 52% of parents believed that electronics and social media was the cause of their teenager’s lack of sleep. \n",
    "    - Today, 1018 Parents, 56% believe that their teenager’s lack of sleep is caused due to electronics and social media.\n",
    "    - Do more parents today believe that their teenager’s lack of sleep is caused due to electronics and social media? \n",
    "\n",
    "**Null Hypothesis:** p <= 0.52  \n",
    "**Alternative Hypthosis:** p > 0.52  "
   ]
  },
  {
   "cell_type": "code",
   "execution_count": 64,
   "metadata": {},
   "outputs": [
    {
     "data": {
      "text/plain": [
       "(2.5710677957591126, 0.010138547731721084)"
      ]
     },
     "execution_count": 64,
     "metadata": {},
     "output_type": "execute_result"
    }
   ],
   "source": [
    "n = 1018\n",
    "p0 = .52\n",
    "p1 = .56\n",
    "\n",
    "z_score = (p1-p0)/np.sqrt(p1*(1-p1)/n)\n",
    "p_values = ss.norm.sf(abs(z_score))*2\n",
    "(z_score, p_values)"
   ]
  },
  {
   "cell_type": "code",
   "execution_count": 14,
   "metadata": {},
   "outputs": [
    {
     "data": {
      "text/plain": [
       "(2.571067795759113, 0.010138547731721065)"
      ]
     },
     "execution_count": 14,
     "metadata": {},
     "output_type": "execute_result"
    }
   ],
   "source": [
    "sm.stats.proportions_ztest(p1 * n, n, p0)"
   ]
  },
  {
   "cell_type": "code",
   "execution_count": 15,
   "metadata": {},
   "outputs": [
    {
     "data": {
      "text/plain": [
       "(6.5256410256410335,\n",
       " 0.010633021983644915,\n",
       " (array([[570.08, 447.92]]), array([[529.36, 488.64]])))"
      ]
     },
     "execution_count": 15,
     "metadata": {},
     "output_type": "execute_result"
    }
   ],
   "source": [
    "sm.stats.proportions_chisquare(p1 * n, n, p0)"
   ]
  },
  {
   "cell_type": "code",
   "execution_count": 16,
   "metadata": {},
   "outputs": [
    {
     "data": {
      "text/plain": [
       "0.01104402063287842"
      ]
     },
     "execution_count": 16,
     "metadata": {},
     "output_type": "execute_result"
    }
   ],
   "source": [
    "sm.stats.binom_test(p1 * n, n, p0)"
   ]
  },
  {
   "cell_type": "markdown",
   "metadata": {},
   "source": [
    "## <font color='red'>Proportions Difference</font> for two population\n",
    "\n",
    "<font color='blue'> $\\displaystyle z\\_score = \\frac{p-p_0}{SE(p)}$    \n",
    "SE is the standard error of estimate $\\displaystyle SE = \\sqrt{p(1-p)(\\frac{1}{n_1}+\\frac{1}{n_2})} $\n",
    "- scipy\n",
    "\n",
    "```Python\n",
    "scipy.stats.chi2_contingency(\n",
    "                observed             # 观察到的列联表，类二维数组结构\n",
    "                correction = True    # 是否计算Yates校正的卡方结果\n",
    "                lambda_ = None       # 换用Cressie-Read power divergence family 统计量\n",
    "                )                    # 输出： 卡方值，P值，自由度，期望频数\n",
    "```\n",
    "- statsmodels\n",
    "```Python\n",
    "class statsmodels.stats.contingency_table.Table(table,shift_zeros=True) # 如果单元格频数为0，所有单元格频数+0.5防止计算出错\n",
    "```\n",
    "    - Table 类的属性\n",
    "\n",
    "```Python\n",
    "table_orig                       # 表格原始数据 \n",
    "marginal_probabilities           # 估计的行列边际概率分布\n",
    "independec_probabilities         # 基于行列独立的H0假设的单元格概率分布\n",
    "fittedvalues                     # 期望频数\n",
    "\n",
    "resid_pearson                    # Pearson残差\n",
    "standardized_resid               # 标准化残差\n",
    "chi2_contribs                    # 每个单元格的卡方贡献值\n",
    "``` \n",
    "    - Table 类的方法\n",
    "\n",
    "```Python\n",
    "test_nominal_association()      # 无序分类行、列变量的独立性检验, 输出(卡方统计量，自由度，P值)\n",
    "test_ordinal_association([row_scores,...])      # 有序分类行/列变量的独立性检验，Cochran_Armitage趋势检验\n",
    "```"
   ]
  },
  {
   "cell_type": "markdown",
   "metadata": {},
   "source": [
    "<font color='blue'>**Question:**</font>\n",
    "    - 247 Parents of Black Children. 36.8% of parents report that their child has had some swimming lessons.\n",
    "    - 308 Parents of Hispanic Children. 38.9% of parents report that their child has had some swimming lessons.\n",
    "    - Is there a **significant difference** between the population proportions of parents of black children and parents of Hispanic children who report that their child has had some swimming lessons?\n",
    "    - **H0:** p1 - p2 = 0  , **no significant difference**\n",
    "    - **H1:** p1 - p2 <> 0  ,**has significant difference**"
   ]
  },
  {
   "cell_type": "code",
   "execution_count": 61,
   "metadata": {},
   "outputs": [
    {
     "name": "stdout",
     "output_type": "stream",
     "text": [
      "z_score: -0.48241377014578657 Pvalue: 0.6295120409959046\n"
     ]
    }
   ],
   "source": [
    "p1 = 0.37\n",
    "n1 = 247\n",
    "\n",
    "p2 = 0.39\n",
    "n2 = 308\n",
    "p = (p1+p2)/2.0\n",
    "\n",
    "p12 = p2-p1\n",
    "sep =np.sqrt(p*(1-p)*(1.0/n1+1.0/n2)) \n",
    "z_score1 = (p1-p2)/sep\n",
    "p_value1 = ss.norm.sf(abs(z_score1))*2 \n",
    "\n",
    "print('z_score:',z_score1,'Pvalue:',p_value1)"
   ]
  },
  {
   "cell_type": "code",
   "execution_count": 18,
   "metadata": {},
   "outputs": [
    {
     "data": {
      "text/html": [
       "<div>\n",
       "<style scoped>\n",
       "    .dataframe tbody tr th:only-of-type {\n",
       "        vertical-align: middle;\n",
       "    }\n",
       "\n",
       "    .dataframe tbody tr th {\n",
       "        vertical-align: top;\n",
       "    }\n",
       "\n",
       "    .dataframe thead th {\n",
       "        text-align: right;\n",
       "    }\n",
       "</style>\n",
       "<table border=\"1\" class=\"dataframe\">\n",
       "  <thead>\n",
       "    <tr style=\"text-align: right;\">\n",
       "      <th></th>\n",
       "      <th>Yes</th>\n",
       "      <th>No</th>\n",
       "    </tr>\n",
       "  </thead>\n",
       "  <tbody>\n",
       "    <tr>\n",
       "      <th>0</th>\n",
       "      <td>91.39</td>\n",
       "      <td>155.61</td>\n",
       "    </tr>\n",
       "    <tr>\n",
       "      <th>1</th>\n",
       "      <td>120.12</td>\n",
       "      <td>187.88</td>\n",
       "    </tr>\n",
       "  </tbody>\n",
       "</table>\n",
       "</div>"
      ],
      "text/plain": [
       "      Yes      No\n",
       "0   91.39  155.61\n",
       "1  120.12  187.88"
      ]
     },
     "execution_count": 18,
     "metadata": {},
     "output_type": "execute_result"
    }
   ],
   "source": [
    "tb1 = pd.DataFrame([[0.37*247,0.63*247],[0.39*308,0.61*308]])\n",
    "tb1.columns = ['Yes','No']\n",
    "tb1"
   ]
  },
  {
   "cell_type": "code",
   "execution_count": 10,
   "metadata": {},
   "outputs": [
    {
     "name": "stdout",
     "output_type": "stream",
     "text": [
      "      Yes      No\n",
      "0  1800.0   200.0\n",
      "1   200.0  1800.0\n",
      "      Yes      No\n",
      "0  1000.0  1000.0\n",
      "1  1000.0  1000.0\n",
      "         Yes         No\n",
      "0  25.298221 -25.298221\n",
      "1 -25.298221  25.298221\n",
      "     Yes     No\n",
      "0  640.0  640.0\n",
      "1  640.0  640.0\n",
      "(0    0.5\n",
      "1    0.5\n",
      "dtype: float64, Yes    0.5\n",
      "No     0.5\n",
      "dtype: float64)\n",
      "Statistic value is 2560.0000000000005, Freedrom Degree is 1, P_value is 0.0\n"
     ]
    }
   ],
   "source": [
    "tb2 = pd.DataFrame([[0.9*2000,0.1*2000],[0.1*2000,0.9*2000]])\n",
    "tb2.columns = ['Yes','No']\n",
    "tb2\n",
    "\n",
    "# 卡方检验\n",
    "ss.contingency.expected_freq(tb2)     # 期望频数\n",
    "ss.chi2_contingency(tb2,False) \n",
    "\n",
    "table = tbl.Table(tb2)\n",
    "table\n",
    "print(table.table_orig)                # 原始表格\n",
    "print(table.fittedvalues)              # 期望频数\n",
    "print(table.resid_pearson)             # Pearson残差\n",
    "print(table.chi2_contribs)             # 每个单元格的卡方贡献值\n",
    "print(table.marginal_probabilities)    # 估计的行列边际概率分布\n",
    "res = table.test_nominal_association()\n",
    "print(\"Statistic value is {}, Freedrom Degree is {}, P_value is {}\".format(res.statistic,res.df,res.pvalue))"
   ]
  },
  {
   "cell_type": "code",
   "execution_count": 19,
   "metadata": {},
   "outputs": [
    {
     "data": {
      "text/plain": [
       "(0.23246396496657235,\n",
       " 0.6297028238097938,\n",
       " 1,\n",
       " array([[ 94.13147748, 152.86852252],\n",
       "        [117.37852252, 190.62147748]]))"
      ]
     },
     "execution_count": 19,
     "metadata": {},
     "output_type": "execute_result"
    }
   ],
   "source": [
    "# 卡方检验\n",
    "ss.contingency.expected_freq(tb1)     # 期望频数\n",
    "ss.chi2_contingency(tb1,False)        "
   ]
  },
  {
   "cell_type": "code",
   "execution_count": 20,
   "metadata": {},
   "outputs": [
    {
     "name": "stdout",
     "output_type": "stream",
     "text": [
      "      Yes      No\n",
      "0   91.39  155.61\n",
      "1  120.12  187.88\n",
      "          Yes          No\n",
      "0   94.131477  152.868523\n",
      "1  117.378523  190.621477\n",
      "        Yes        No\n",
      "0 -0.282564  0.221731\n",
      "1  0.253041 -0.198563\n",
      "        Yes        No\n",
      "0  0.079843  0.049164\n",
      "1  0.064030  0.039427\n",
      "(0    0.445045\n",
      "1    0.554955\n",
      "dtype: float64, Yes    0.381099\n",
      "No     0.618901\n",
      "dtype: float64)\n",
      "Statistic value is 0.232463964966573, Freedrom Degree is 1, P_value is 0.6297028238097933\n"
     ]
    }
   ],
   "source": [
    "table = tbl.Table(tb1)\n",
    "table\n",
    "print(table.table_orig)                # 原始表格\n",
    "print(table.fittedvalues)              # 期望频数\n",
    "print(table.resid_pearson)             # Pearson残差\n",
    "print(table.chi2_contribs)             # 每个单元格的卡方贡献值\n",
    "print(table.marginal_probabilities)    # 估计的行列边际概率分布\n",
    "res = table.test_nominal_association()\n",
    "print(\"Statistic value is {}, Freedrom Degree is {}, P_value is {}\".format(res.statistic,res.df,res.pvalue))"
   ]
  },
  {
   "cell_type": "markdown",
   "metadata": {},
   "source": [
    "Explaination:\n",
    "**H0:** p1 - p2 = 0  , **no significant difference**\n",
    "\n",
    "P_vale < 0.05, reject H0  ----->     p1 and p2 are significant difference\n",
    "\n",
    "P_vale > 0.05, can't reject H0  ----->     No evidence for p1 and p2 are significant difference"
   ]
  },
  {
   "cell_type": "markdown",
   "metadata": {},
   "source": [
    "## <font color='red'>Mean</font> for one population\n",
    "\n",
    "-  Scipy\n",
    "```Python\n",
    "scipy.stats.ttest_1samp(   # This is a two-sided test for the null hypothesis\n",
    "    a                      # 类list格式的样本数据\n",
    "    popmean                # H0所对应的总体均数\n",
    "```\n",
    "- statsmodels\n",
    "\n",
    "```Python\n",
    "sm.stats.DescrStatsW(df[\"CWDistance\"]).ttest_mean(         # 进行单样本t检验\n",
    "                        value = 0                   # H0所对应的总体均值\n",
    "                        alternative = 'two-sided'/'larger'/'smaller')    # 结果输出：t值，P值，自由度    \n",
    "```"
   ]
  },
  {
   "cell_type": "code",
   "execution_count": 21,
   "metadata": {},
   "outputs": [
    {
     "name": "stdout",
     "output_type": "stream",
     "text": [
      "z_score: 0.8234523266982027 Pvalue: 0.20512540845395272\n"
     ]
    }
   ],
   "source": [
    "mu = df[\"CWDistance\"].mean()\n",
    "mu0 = 80\n",
    "sigma = df[\"CWDistance\"].std()\n",
    "n = len(df)\n",
    "\n",
    "z = (mu-mu0)/(sigma/np.sqrt(n))\n",
    "p = ss.norm.sf(abs(z)) \n",
    "print('z_score:',z,'Pvalue:',p)"
   ]
  },
  {
   "cell_type": "code",
   "execution_count": 22,
   "metadata": {},
   "outputs": [
    {
     "data": {
      "text/plain": [
       "(0.8234523266982029, 0.20512540845395266)"
      ]
     },
     "execution_count": 22,
     "metadata": {},
     "output_type": "execute_result"
    }
   ],
   "source": [
    "sm.stats.ztest(df[\"CWDistance\"], value = 80, alternative = \"larger\")"
   ]
  },
  {
   "cell_type": "code",
   "execution_count": 23,
   "metadata": {},
   "outputs": [
    {
     "data": {
      "text/plain": [
       "(0.8234523266982028, 0.2091793328533854, 24.0)"
      ]
     },
     "execution_count": 23,
     "metadata": {},
     "output_type": "execute_result"
    }
   ],
   "source": [
    "sm.stats.DescrStatsW(df[\"CWDistance\"]).ttest_mean(value =80, alternative = \"larger\")"
   ]
  },
  {
   "cell_type": "code",
   "execution_count": 24,
   "metadata": {},
   "outputs": [
    {
     "data": {
      "text/plain": [
       "Ttest_1sampResult(statistic=0.8234523266982029, pvalue=0.4183586657067707)"
      ]
     },
     "execution_count": 24,
     "metadata": {},
     "output_type": "execute_result"
    }
   ],
   "source": [
    "ss.stats.ttest_1samp(df[\"CWDistance\"], 80)     # 这是双侧检验"
   ]
  },
  {
   "cell_type": "markdown",
   "metadata": {},
   "source": [
    "## <font color='red'>Means Difference</font> of Two Populations \n",
    "- Scipy\n",
    "     - **from array**\n",
    "```Python\n",
    "scipy.stats.ttest_ind(               # 进行两样本t检验\n",
    "                    a,b                    # 类数组格式的两组数据\n",
    "                    equal_var = True       # 两组方差是否齐同，方差不齐时给出 Welch‘s t检验的结果\n",
    "                    nan_policy = propagate/raise/omit) # 对缺失值的处理,返回Nan/抛出错误/忽略Nan\n",
    "```\n",
    "    - **from statistic value**\n",
    "```Python\n",
    "scipy.stats.ttest_ind_from_stats(\n",
    "                mean1,sted1,nobs1,          # nobs: sample size\n",
    "                mean2,sted2,nobs2,\n",
    "                equal_var = True)\n",
    "```\n",
    "- Statsmodel\n",
    "    - **Statsmodel**\n",
    "```Python\n",
    "sm.stats.ztest(a, b)             # a,b are 类数组格式的两组数据\n",
    "```\n",
    "    - **CompareMeans Class**\n",
    "```Python\n",
    "class statsmodels.stats.weightstatsW.CompareMeans(d1,d2) # Both d1,d2 should be DescrStatsW formats\n",
    "```\n",
    "        - **two mean compare**\n",
    "```Python\n",
    "CompareMeans.ttest_ind(                      # output: (t-value,p-value,degrees of freedom)\n",
    "                alternative = 'two-sided'/'larger'/'smaller',\n",
    "                usevar = 'pooled'/'unequal',   # pooled: 方差齐, 方差不齐时用 unequal\n",
    "                value = 0)                     # H0假设所对应的均数差值是否为0,2,...\n",
    "```\n",
    "        - **two mean difference up and low limit**\n",
    "```Python\n",
    "CompareMeans.ttost_ind(low,upp[,usevar])            # 单侧t-test，两组样本均值差值是否为low，upp\n",
    "```\n",
    "        - **z-test**\n",
    "```Python\n",
    "CompareMeans.ztest_ind([alternative,usevar,value])          # 两样本z-test\n",
    "CompareMeans.ztost_ind(low,upp[,usevar])                    # 基于成组z-test的等效性检验\n",
    "```"
   ]
  },
  {
   "cell_type": "code",
   "execution_count": 25,
   "metadata": {},
   "outputs": [
    {
     "name": "stdout",
     "output_type": "stream",
     "text": [
      "z_score: 6.267188023490217 Pvalue: 1.838130807926842e-10\n"
     ]
    }
   ],
   "source": [
    "females = da[da[\"RIAGENDR\"] == 2]\n",
    "male = da[da[\"RIAGENDR\"] == 1]\n",
    "\n",
    "n1 = len(females)\n",
    "mu1 = females[\"BMXBMI\"].mean()\n",
    "sd1 = females[\"BMXBMI\"].std()\n",
    "\n",
    "n2 = len(male)\n",
    "mu2 = male[\"BMXBMI\"].mean()\n",
    "sd2 = male[\"BMXBMI\"].std()\n",
    "\n",
    "zs = (mu1-mu2)/(np.sqrt(sd1**2/n1+sd2**2/n2))\n",
    "ps = ss.norm.sf(abs(zs)) \n",
    "print('z_score:',zs,'Pvalue:',ps)"
   ]
  },
  {
   "cell_type": "code",
   "execution_count": 26,
   "metadata": {},
   "outputs": [
    {
     "data": {
      "text/plain": [
       "Ttest_indResult(statistic=6.1755933531383205, pvalue=7.050275578094527e-10)"
      ]
     },
     "execution_count": 26,
     "metadata": {},
     "output_type": "execute_result"
    }
   ],
   "source": [
    "ss.ttest_ind(females[\"BMXBMI\"].dropna(), male[\"BMXBMI\"].dropna())"
   ]
  },
  {
   "cell_type": "code",
   "execution_count": 27,
   "metadata": {},
   "outputs": [
    {
     "data": {
      "text/plain": [
       "Ttest_indResult(statistic=6.2171369177987605, pvalue=5.420337159518482e-10)"
      ]
     },
     "execution_count": 27,
     "metadata": {},
     "output_type": "execute_result"
    }
   ],
   "source": [
    "ss.ttest_ind_from_stats(\n",
    "                mu1,sd1,n1,          \n",
    "                mu2,sd2,n2,\n",
    "                equal_var = True)"
   ]
  },
  {
   "cell_type": "code",
   "execution_count": 28,
   "metadata": {},
   "outputs": [
    {
     "data": {
      "text/plain": [
       "(6.1755933531383205, 6.591544431126401e-10)"
      ]
     },
     "execution_count": 28,
     "metadata": {},
     "output_type": "execute_result"
    }
   ],
   "source": [
    "sm.stats.ztest(females[\"BMXBMI\"].dropna(), male[\"BMXBMI\"].dropna())"
   ]
  },
  {
   "cell_type": "code",
   "execution_count": 29,
   "metadata": {},
   "outputs": [
    {
     "data": {
      "text/plain": [
       "(6.175593353138339, 7.05027557809368e-10, 5660.0)"
      ]
     },
     "execution_count": 29,
     "metadata": {},
     "output_type": "execute_result"
    }
   ],
   "source": [
    "d1 = ssw.DescrStatsW(females[\"BMXBMI\"].dropna())\n",
    "d2 = ssw.DescrStatsW(male[\"BMXBMI\"].dropna())\n",
    "ssw.CompareMeans(d1,d2).ttest_ind()"
   ]
  },
  {
   "cell_type": "markdown",
   "metadata": {},
   "source": [
    "# <font color='blue'> Dependent</font> Hypothesis Testing\n",
    "## Two dependent Population Means ( 配对)\n",
    "<font color='red'>**差值的单样本t-test**</font>\n",
    "<font color='red'>$\\displaystyle t=\\frac{\\bar{D}}{s/\\sqrt{n}}$</font>  \n",
    "- H0:两总体均值<font color='red'>**无差异**</font>，<font color='red'>**差值序列**</font>均值$\\mu_0=0$; \n",
    "- H1:两总体均值<font color='red'>**有差异**</font>，<font color='red'>**差值序列**</font>均值$\\mu_0\\neq0$; \n",
    "- Scipy\n",
    "    - 确认配对信息是否的确存在： \n",
    "```Python\n",
    "# output(相关系数，Pvalue), H0: array1 & array2 没有联系，总体相关系数为0\n",
    "scipy.stats.pearsonr(array1,array2)       \n",
    "```\n",
    "    - 配对 t-test\n",
    "```Python\n",
    "scipy.stats.ttest_rel(       # output(相关系数，Pvalue)\n",
    "                    array1,array2         # array_like\n",
    "                    nan_policy = 'propagate'/'raise'/'omit')\n",
    "```\n",
    "- Statmodel\n",
    "    - 两个界值点的单侧配对t-test \n",
    "```Python\n",
    "statsmodels.stats.ttost.paired       \n",
    "```\n",
    "    - 求出差值后用单侧t-test\n",
    "```Python\n",
    "DescrStatsW.ttest_mean()\n",
    "```"
   ]
  },
  {
   "cell_type": "code",
   "execution_count": 30,
   "metadata": {},
   "outputs": [
    {
     "data": {
      "text/html": [
       "<div>\n",
       "<style scoped>\n",
       "    .dataframe tbody tr th:only-of-type {\n",
       "        vertical-align: middle;\n",
       "    }\n",
       "\n",
       "    .dataframe tbody tr th {\n",
       "        vertical-align: top;\n",
       "    }\n",
       "\n",
       "    .dataframe thead th {\n",
       "        text-align: right;\n",
       "    }\n",
       "</style>\n",
       "<table border=\"1\" class=\"dataframe\">\n",
       "  <thead>\n",
       "    <tr style=\"text-align: right;\">\n",
       "      <th></th>\n",
       "      <th>time</th>\n",
       "      <th>id</th>\n",
       "      <th>s2</th>\n",
       "      <th>s3</th>\n",
       "      <th>Qa3</th>\n",
       "      <th>Qa4</th>\n",
       "      <th>Qa8</th>\n",
       "      <th>Qa10</th>\n",
       "      <th>Qa16</th>\n",
       "      <th>index1</th>\n",
       "      <th>index1a</th>\n",
       "      <th>index1b</th>\n",
       "      <th>Qa3n</th>\n",
       "      <th>Qa4n</th>\n",
       "      <th>Qa8n</th>\n",
       "      <th>Qa10n</th>\n",
       "      <th>Qa16n</th>\n",
       "      <th>index1n</th>\n",
       "      <th>index1an</th>\n",
       "      <th>index1bn</th>\n",
       "    </tr>\n",
       "  </thead>\n",
       "  <tbody>\n",
       "    <tr>\n",
       "      <th>0</th>\n",
       "      <td>200704</td>\n",
       "      <td>22</td>\n",
       "      <td>2</td>\n",
       "      <td>59</td>\n",
       "      <td>100</td>\n",
       "      <td>100</td>\n",
       "      <td>100</td>\n",
       "      <td>100</td>\n",
       "      <td>50</td>\n",
       "      <td>70.296024</td>\n",
       "      <td>66.026939</td>\n",
       "      <td>72.642743</td>\n",
       "      <td>50</td>\n",
       "      <td>100</td>\n",
       "      <td>100</td>\n",
       "      <td>100</td>\n",
       "      <td>100</td>\n",
       "      <td>70.296024</td>\n",
       "      <td>66.026939</td>\n",
       "      <td>72.642743</td>\n",
       "    </tr>\n",
       "    <tr>\n",
       "      <th>1</th>\n",
       "      <td>200704</td>\n",
       "      <td>40</td>\n",
       "      <td>2</td>\n",
       "      <td>28</td>\n",
       "      <td>150</td>\n",
       "      <td>150</td>\n",
       "      <td>150</td>\n",
       "      <td>150</td>\n",
       "      <td>100</td>\n",
       "      <td>109.349371</td>\n",
       "      <td>110.044898</td>\n",
       "      <td>108.964114</td>\n",
       "      <td>150</td>\n",
       "      <td>100</td>\n",
       "      <td>100</td>\n",
       "      <td>200</td>\n",
       "      <td>100</td>\n",
       "      <td>101.538702</td>\n",
       "      <td>110.044898</td>\n",
       "      <td>96.856991</td>\n",
       "    </tr>\n",
       "  </tbody>\n",
       "</table>\n",
       "</div>"
      ],
      "text/plain": [
       "     time  id  s2  s3  Qa3  Qa4  Qa8  Qa10  Qa16      index1     index1a  \\\n",
       "0  200704  22   2  59  100  100  100   100    50   70.296024   66.026939   \n",
       "1  200704  40   2  28  150  150  150   150   100  109.349371  110.044898   \n",
       "\n",
       "      index1b  Qa3n  Qa4n  Qa8n  Qa10n  Qa16n     index1n    index1an  \\\n",
       "0   72.642743    50   100   100    100    100   70.296024   66.026939   \n",
       "1  108.964114   150   100   100    200    100  101.538702  110.044898   \n",
       "\n",
       "    index1bn  \n",
       "0  72.642743  \n",
       "1  96.856991  "
      ]
     },
     "execution_count": 30,
     "metadata": {},
     "output_type": "execute_result"
    }
   ],
   "source": [
    "ccss_p = pd.read_excel('CCSS_sample/CCSS_sample.xlsx',sheet_name = 'CCSS_pair')\n",
    "ccss_p.head(2)"
   ]
  },
  {
   "cell_type": "code",
   "execution_count": 31,
   "metadata": {},
   "outputs": [
    {
     "data": {
      "text/plain": [
       "Ttest_relResult(statistic=1.1616334792419984, pvalue=0.24856144386191056)"
      ]
     },
     "execution_count": 31,
     "metadata": {},
     "output_type": "execute_result"
    }
   ],
   "source": [
    "ss.ttest_rel(ccss_p.index1,ccss_p.index1n)"
   ]
  },
  {
   "cell_type": "code",
   "execution_count": 32,
   "metadata": {},
   "outputs": [
    {
     "data": {
      "text/plain": [
       "Ttest_1sampResult(statistic=1.1616334792419984, pvalue=0.24856144386191056)"
      ]
     },
     "execution_count": 32,
     "metadata": {},
     "output_type": "execute_result"
    }
   ],
   "source": [
    "# 直接求出差值并进行单样本t-test\n",
    "ss.ttest_1samp(ccss_p.index1 - ccss_p.index1n,0)"
   ]
  },
  {
   "cell_type": "code",
   "execution_count": 33,
   "metadata": {},
   "outputs": [
    {
     "data": {
      "text/plain": [
       "(1.1616334792419987, 0.2485614438619105, 87.0)"
      ]
     },
     "execution_count": 33,
     "metadata": {},
     "output_type": "execute_result"
    }
   ],
   "source": [
    "ssw.DescrStatsW(ccss_p.index1 - ccss_p.index1n).ttest_mean()"
   ]
  },
  {
   "cell_type": "markdown",
   "metadata": {},
   "source": [
    "# Analysis of variance (ANOVA) F-test\n",
    "## <font color='red'> scipy.stats.f_oneway</font>\n",
    "- <font color='red'>**多组的均数的比较**</font>, 检验某一个控制因素（分类变量）的差异是否会给观测变量（连续变量）带来显著影响\n",
    "- <font color='blue'>**H0: 检验组的总体均数是一样的**</font>\n",
    "- 统计量的含义 \n",
    "    <font color='blue'>$\\displaystyle F = \\frac{SSA/(k-1)}{SSE/(n-k)} = \\frac{MSA}{MSE}$</font>\n",
    "\\begin{align}  SST &= \\sum_{i=1}^k \\sum_{j=1}^{n_i} (x_{ij}-\\bar{x})^2~~~~~~  ~(Sum~ of~ Squares~Total)\\\\\n",
    "            SSA &= \\sum_{i=1}^k \\sum_{j=1}^{n_i} (\\bar{x_i}-\\bar{x})^2~~~~~~~ ~(Sum~ of~ Squares~Among~ groups) \\\\\n",
    "            SSE &= \\sum_{i=1}^k \\sum_{j=1}^{n_i} (x_{ij}-\\bar{x_i})^2~~~~~~~ ~(Sum~ of~ Squares~Within~ groups) \n",
    "\\end{align}\n",
    "    \n",
    "    \n",
    "- 适用条件：\n",
    "        - 独立性：个样本必须是相互独立的随机样本\n",
    "        - 正态性：样本都来自正态分布的总体\n",
    "        - 方差齐性：样本来自的总体方差相等\n",
    "- scipy\n",
    "```Python\n",
    "scipy.stats.f_oneway(a,b,c,d)        \n",
    "```"
   ]
  },
  {
   "cell_type": "code",
   "execution_count": 34,
   "metadata": {},
   "outputs": [
    {
     "data": {
      "text/plain": [
       "LeveneResult(statistic=0.44332330387152036, pvalue=0.7221678627997157)"
      ]
     },
     "execution_count": 34,
     "metadata": {},
     "output_type": "execute_result"
    }
   ],
   "source": [
    "ccss = pd.read_excel('CCSS_sample/CCSS_sample.xlsx')\n",
    "a = ccss.query(\"s0 == '北京'& time == '200704'\").index1\n",
    "b = ccss.query(\"s0 == '北京'& time == '200712'\").index1\n",
    "c = ccss.query(\"s0 == '北京'& time == '200812'\").index1\n",
    "d = ccss.query(\"s0 == '北京'& time == '200912'\").index1\n",
    "ss.levene(a,b,c,d) # default median,方差齐性检验"
   ]
  },
  {
   "cell_type": "code",
   "execution_count": 35,
   "metadata": {},
   "outputs": [
    {
     "data": {
      "text/plain": [
       "F_onewayResult(statistic=5.630155391280303, pvalue=0.0008777240313291846)"
      ]
     },
     "execution_count": 35,
     "metadata": {},
     "output_type": "execute_result"
    }
   ],
   "source": [
    "ss.f_oneway(a,b,c,d)"
   ]
  },
  {
   "cell_type": "markdown",
   "metadata": {},
   "source": [
    "## Post Hoc Test <font color='red'> scikit_posthocs.posthoc_conover</font>\n",
    "- Post Hoc Test: Multiple comparson procedure.\n",
    "\n",
    "|Comparisonwise Error Rate (CER) | Number of Comparison | Experimentwise Error Rate (EER)|\n",
    "|--------------------------|----------------------|--------------------------|\n",
    "|0.05                      |1                     |0.05|\n",
    "|0.05                      |3                     |0.14|\n",
    "|0.05                      |6                     |0.26|\n",
    "|0.05                      |10                     |0.40|\n",
    "\n",
    "- $\\displaystyle EER = 1-(1-\\alpha)^{nc}$, where nc is number of comparisons\n",
    "- With a statistically conservative multiple comparison method, such as the Tukey or Dunnett method, you control for the EER, so there's a tendency to find fewer significant differences than might otherwise be found. \n",
    "    - When you make no adjustments for multiple comparisons, you are likely to find more significant differences than might otherwise be found.\n",
    "    - If only the comparisonwise error rate is controlled, the overall risk of a Type I error across all the comparisons is increased (and therefore the risk of Type II error is decreased), so the test might find more significant differences than would otherwise be found.\n",
    "- scikit_posthocs\n",
    "```Python\n",
    "scikit_posthocs.posthoc_conover(\n",
    "            data\n",
    "            val_col =\n",
    "            group_col =\n",
    "            p_adjust = 'bonferroni'/'sidak')\n",
    "```"
   ]
  },
  {
   "cell_type": "code",
   "execution_count": 36,
   "metadata": {},
   "outputs": [
    {
     "data": {
      "image/png": "[encoded data removed]",
      "text/plain": [
       "<Figure size 432x288 with 2 Axes>"
      ]
     },
     "metadata": {},
     "output_type": "display_data"
    }
   ],
   "source": [
    "pc = sp.posthoc_conover(ccss,val_col='index1',group_col='time',p_adjust='bonferroni')\n",
    "cmap = ['1','#fb6a4a','#08306b','#4292c6','#c6dbef']\n",
    "heatmap_args = {'cmap':cmap, 'linewidths':0.25,'linecolor':'0.5',\n",
    "                'clip_on':False,'square':True,'cbar_ax_bbox':[0.80,0.35,0.04,0.3]}\n",
    "sp.sign_plot(pc,**heatmap_args);"
   ]
  },
  {
   "cell_type": "markdown",
   "metadata": {},
   "source": [
    "# 适用性考察\n",
    "## 独立性检验\n",
    "- 采用专门的方差分析模型，或者专门对方差等进行校正\n",
    "- GEEs、混合效应模型等专门的非独立数据分析模型"
   ]
  },
  {
   "cell_type": "markdown",
   "metadata": {},
   "source": [
    "## 正态性检验\n",
    "### <font color='red'> scipy.stats.shapiro"
   ]
  },
  {
   "cell_type": "markdown",
   "metadata": {},
   "source": [
    "- 假设检验方法考察正态性：<font color='blue'> **H0: 数据服从正态分布**</font>\n",
    "    - <font color='red'>**Kolmogorov-Smirnov 检验**</font>：\n",
    "        - 考察H0理论分布（可以是任何分布）下累计先对频数和实际频数间的差异\n",
    "        - 取频数差值绝对值的最大值为统计量\n",
    "        - 结论比较严格，即使只有个别案例有偏离也会拒绝H0\n",
    "```Python\n",
    "scipy.stats.kstest(a_vector_like_data,'norm')\n",
    "```\n",
    "        - Anderson-Darling test: 是KS test的改进\n",
    "```Python\n",
    "scipy.stats.anderson(a_vector_like_data,dist='norm')\n",
    "```\n",
    "    - <font color='red'>**Shapiro-Wilk 检验**</font>：\n",
    "        - 基于数据的偏度系数和峰度系数进行正态偏离程度的检验\n",
    "        - 相对KS检验而言结果更稳妥些\n",
    "```Python\n",
    "scipy.stats.shapiro(a_vector_like_data)\n",
    "```\n",
    "        - D'Agostino and Pearson's test: 基于峰度和偏度系数进行正态性检验\n",
    "```Python\n",
    "scipy.stats.normaltest(a_vector_like_data)\n",
    "```\n",
    "    - <font color='red'>**残差分析**</font>：\n",
    "        - 建模完毕后将残差存储为新变量，就可以进行图形观察甚至正态性检验"
   ]
  },
  {
   "cell_type": "code",
   "execution_count": 37,
   "metadata": {},
   "outputs": [
    {
     "data": {
      "text/plain": [
       "KstestResult(statistic=0.999128160418483, pvalue=0.0)"
      ]
     },
     "execution_count": 37,
     "metadata": {},
     "output_type": "execute_result"
    }
   ],
   "source": [
    "ss.kstest(ccss.index1,'norm')"
   ]
  },
  {
   "cell_type": "code",
   "execution_count": 38,
   "metadata": {},
   "outputs": [
    {
     "data": {
      "text/plain": [
       "time\n",
       "200704                   (1.0, 0.0)\n",
       "200712    (0.9967105263157895, 0.0)\n",
       "200812                   (1.0, 0.0)\n",
       "200912                   (1.0, 0.0)\n",
       "Name: index1, dtype: object"
      ]
     },
     "execution_count": 38,
     "metadata": {},
     "output_type": "execute_result"
    }
   ],
   "source": [
    "# 分组进行检验\n",
    "ks = lambda x: ss.kstest(x,'norm')\n",
    "ccss.groupby('time').index1.apply(ks)"
   ]
  },
  {
   "cell_type": "code",
   "execution_count": 39,
   "metadata": {},
   "outputs": [
    {
     "data": {
      "text/plain": [
       "time\n",
       "200704    (0.966885507106781, 2.2581652956432663e-06)\n",
       "200712    (0.9562033414840698, 6.699920618302713e-08)\n",
       "200812    (0.9770516753196716, 8.659828745294362e-05)\n",
       "200912    (0.9523671865463257, 4.465105973849859e-07)\n",
       "Name: index1, dtype: object"
      ]
     },
     "execution_count": 39,
     "metadata": {},
     "output_type": "execute_result"
    }
   ],
   "source": [
    "# 用无参数的分组检验\n",
    "ccss.groupby('time').index1.apply(ss.shapiro)"
   ]
  },
  {
   "cell_type": "markdown",
   "metadata": {},
   "source": [
    "### QQ plot\n",
    "- x: 标准正态分布的分位数\n",
    "- y: 样本值\n",
    "- 若为正态分布，QQ图是一条直线，斜率为标准差，截距为均值\n",
    "- QQ图是 y = kx + b\n",
    "    - k=1, b=0, y=x : 分布与给定的正态分布完全一致;\n",
    "    - k=1, b!=0, y=x+b: 样本均值与给定的正态分布不同;\n",
    "    - k!=1, b!=0, y=kx+b: 样本均值和方差都与给定的分布不同;\n",
    "    - 部分是直线，样本右边在直线下面，左边在直线上面，分布峰度大于3， 反之峰度小于3；\n",
    "    - 图形是曲线图，说明不对称；"
   ]
  },
  {
   "cell_type": "code",
   "execution_count": 40,
   "metadata": {},
   "outputs": [
    {
     "data": {
      "image/png": "[encoded data removed]",
      "text/plain": [
       "<Figure size 864x576 with 1 Axes>"
      ]
     },
     "metadata": {},
     "output_type": "display_data"
    }
   ],
   "source": [
    "import numpy.random as random\n",
    "\n",
    "data = ccss.query(\"s0 == '北京'& time == '200704'\").index1.values.flatten()\n",
    "data.sort()\n",
    "norm = random.normal(0,2,len(data))\n",
    "norm.sort()\n",
    "plt.figure(figsize=(12,8),facecolor='1.0') \n",
    "\n",
    "plt.plot(norm,data,\"o\")\n",
    "\n",
    "#generate a trend line as in http://widu.tumblr.com/post/43624347354/matplotlib-trendline\n",
    "z = np.polyfit(norm,data, 1)\n",
    "p = np.poly1d(z)\n",
    "plt.plot(norm,p(norm),\"k--\", linewidth=2)   # norm is sample value, p(norm) is reference value\n",
    "\n",
    "plt.title(\"Normal Q-Q plot\", size=28)\n",
    "plt.xlabel(\"Theoretical quantiles\", size=24)\n",
    "plt.ylabel(\"Expreimental quantiles\", size=24)\n",
    "plt.tick_params(labelsize=16)\n",
    "plt.show()"
   ]
  },
  {
   "cell_type": "markdown",
   "metadata": {},
   "source": [
    "## Homogeneity of Variance 方差齐性检验\n",
    "### <font color='red'> scipy.stats.levene"
   ]
  },
  {
   "cell_type": "markdown",
   "metadata": {},
   "source": [
    "用假设检验方法考察方差齐性：<font color='blue'>**H0: 检验组的离散度一样**</font> \n",
    "- <font color='red'>**Bartlett's 方差齐性检验**</font>：\n",
    "        - 基于数据服从正态分布的假设，对其方差齐同性进行检验\n",
    "        - 数据略微偏离正态分布时，检验结果就会出现较大偏差\n",
    "```Python\n",
    "scipy.stats.bartlett(a,b)\n",
    "```        \n",
    "- <font color='red'>**Levene 方差齐性检验**</font>：\n",
    "        - 可用于正态或者非正态分布的资料（平均水平可以使用均数或者中位数等）\n",
    "        - 在数据可能非正态的情况下，精度比Bartlett检验号\n",
    "        - 可作为标准的方差齐性检验方法\n",
    "```Python\n",
    "scipy.stats.levene(a,b,center = {'mean','median','trimmed'})\n",
    "```        \n",
    "- <font color='red'>**Fligner-Killeen 检验**</font>:\n",
    "        - 一种非参数的方差齐性检验方法，不依赖于具体分布\n",
    "```Python\n",
    "scipy.stats.fligner(a,b,center = {'mean','median','trimmed'})\n",
    "```"
   ]
  },
  {
   "cell_type": "code",
   "execution_count": 41,
   "metadata": {},
   "outputs": [
    {
     "data": {
      "text/plain": [
       "BartlettResult(statistic=11.12381848334319, pvalue=0.011074841431979916)"
      ]
     },
     "execution_count": 41,
     "metadata": {},
     "output_type": "execute_result"
    }
   ],
   "source": [
    "ss.bartlett(ccss.index1[ccss.time == 200704],\n",
    "            ccss.index1[ccss.time == 200712],\n",
    "            ccss.index1[ccss.time == 200812],\n",
    "            ccss.index1[ccss.time == 200912])"
   ]
  },
  {
   "cell_type": "code",
   "execution_count": 42,
   "metadata": {},
   "outputs": [
    {
     "data": {
      "text/plain": [
       "LeveneResult(statistic=2.2068913639343792, pvalue=0.08563270755698366)"
      ]
     },
     "execution_count": 42,
     "metadata": {},
     "output_type": "execute_result"
    }
   ],
   "source": [
    "ss.levene(ccss.index1[ccss.time == 200704],\n",
    "            ccss.index1[ccss.time == 200712],\n",
    "            ccss.index1[ccss.time == 200812],\n",
    "            ccss.index1[ccss.time == 200912])"
   ]
  },
  {
   "cell_type": "markdown",
   "metadata": {},
   "source": [
    "# 非参数检验 <font color='blue'>Nonparametric Statistical</font> \n",
    "https://machinelearningmastery.com/nonparametric-statistical-significance-tests-in-python/\n",
    "- <font color='red'>总体的分布位置/形状进行估计或假设检验</font>\n",
    "    - 分布类型/形状的检验：检验样本所在总体是否服从已知的理论分布\n",
    "    - 分布位置检验：检验样本所在总体的分布位置（集中趋势）是否相同 \n",
    "- Wilcoxon两样本秩和检验\n",
    "    - **H0:两总体所在的中心位置相同**，中位数可以代表中心位\n",
    "    - 考察各组秩和的大小是否明显偏离H0\n",
    "- Mann-Whitney U\n",
    "    - 基本等价于两样本秩和检验\n",
    "    - 可近似理解为基于秩次进行了两样本t检验\n",
    "- Kolmogorov-Smirnov Z\n",
    "    - 两样本K-S检验，检验效能不高\n",
    "    - 考察的是**整体分布是否相同**，而不是只针对中心位置\n",
    "- Kruskal-Wallis H检验\n",
    "    - 本质上就是**基于秩次的单因素方差分析**，可用于两组或多组"
   ]
  },
  {
   "cell_type": "markdown",
   "metadata": {},
   "source": [
    "## 独立样本比较的非参数方法<font color='blue'>Independent Samples</font> \n",
    "### 两样本比较 <font color='red'> Mann-Whitney U test\n",
    "如果$n_1 \\gt 10 ~or~ n_2 \\gt 20$, 则可使用正态近似法\n",
    "$$\\displaystyle U = \\frac{|T- n_1(N+1)/2| - 0.5}{\\sqrt{n_1 n_2 (N+1)/12}}$$\n",
    "当相同秩次较多时用校正公式\n",
    "$$\\displaystyle U_c = \\frac{U}{c}, ~~~~~~ with ~~~~~ c = 1-\\frac{\\sum(t_j^3-t_j)}{N^3-N}$$\n",
    "where $n_1 + n_2 = N $, T 是两组样本秩和中大的值 $T=max(T_1,T_2)$.\n",
    "\n",
    "```Python\n",
    "scipy.stats.median_test()           # 中位数检验，两组或多组均可以使用\n",
    "scipy.stats.ranksums(data1,data2)           # wilcox秩和检验，相对使用较少\n",
    "scipy.stats.mannwhitneyu(a,b,use_continuity,alternative) # Mann-Whitney U检验，实际使用中一般直接代替Wilcox秩和检验\n",
    "scipy.stats.ks_2samp(data1,data2)        # 两样本KS检验\n",
    "```\n",
    "- Results of Mann-Whitney U test siminary as Ranksum test. \n",
    "- 一般使用Mann-Whitney U test，它的适用范围更广, 速度更快."
   ]
  },
  {
   "cell_type": "markdown",
   "metadata": {},
   "source": [
    "**Example**: 比较铅作业工人和非铅作业工人的血汞含量是否相同"
   ]
  },
  {
   "cell_type": "code",
   "execution_count": 43,
   "metadata": {},
   "outputs": [
    {
     "data": {
      "text/plain": [
       "(4.743303571428572, 0.029412539508284274, 0.82, array([[6, 2],\n",
       "        [1, 8]]))"
      ]
     },
     "execution_count": 43,
     "metadata": {},
     "output_type": "execute_result"
    }
   ],
   "source": [
    "Hgworker = [0.82,0.87,0.97,1.21,1.64,2.08,2.13]\n",
    "NoHgworker = [0.24,0.24,0.29,0.33,0.44,0.58,0.63,0.72,0.87,1.01]\n",
    "ss.median_test(Hgworker,NoHgworker)      # 中位数检验并不是很合适"
   ]
  },
  {
   "cell_type": "code",
   "execution_count": 44,
   "metadata": {},
   "outputs": [
    {
     "name": "stdout",
     "output_type": "stream",
     "text": [
      "They are Different with Statistic value 2.976495222493026 and P_value 0.002915636250090396.\n"
     ]
    }
   ],
   "source": [
    "stat, p = ss.ranksums(Hgworker,NoHgworker)\n",
    "alpha = 0.05\n",
    "if p > alpha:\n",
    "    print('They are Same.')\n",
    "else:\n",
    "    print('They are Different with Statistic value {} and P_value {}.'.format(stat,p))"
   ]
  },
  {
   "cell_type": "code",
   "execution_count": 45,
   "metadata": {},
   "outputs": [
    {
     "name": "stdout",
     "output_type": "stream",
     "text": [
      "They are Different with Statistic value 4.5 and P_value 0.001687762004737896.\n"
     ]
    }
   ],
   "source": [
    "stat, p = ss.mannwhitneyu(Hgworker,NoHgworker)\n",
    "alpha = 0.05\n",
    "if p > alpha:\n",
    "    print('They are Same.')\n",
    "else:\n",
    "    print('They are Different with Statistic value {} and P_value {}.'.format(stat,p))"
   ]
  },
  {
   "cell_type": "code",
   "execution_count": 46,
   "metadata": {},
   "outputs": [
    {
     "name": "stdout",
     "output_type": "stream",
     "text": [
      "They are Different with Statistic value 0.8 and P_value 0.004000815230063095.\n"
     ]
    }
   ],
   "source": [
    "stat, p = ss.ks_2samp(Hgworker,NoHgworker)\n",
    "alpha = 0.05\n",
    "if p > alpha:\n",
    "    print('They are Same.')\n",
    "else:\n",
    "    print('They are Different with Statistic value {} and P_value {}.'.format(stat,p))"
   ]
  },
  {
   "cell_type": "markdown",
   "metadata": {},
   "source": [
    "<font color='red'>**Example**: 比较两种药片的疗效是否有差异\n",
    "结果有问题？"
   ]
  },
  {
   "cell_type": "code",
   "execution_count": 47,
   "metadata": {},
   "outputs": [
    {
     "data": {
      "text/html": [
       "<div>\n",
       "<style scoped>\n",
       "    .dataframe tbody tr th:only-of-type {\n",
       "        vertical-align: middle;\n",
       "    }\n",
       "\n",
       "    .dataframe tbody tr th {\n",
       "        vertical-align: top;\n",
       "    }\n",
       "\n",
       "    .dataframe thead th {\n",
       "        text-align: right;\n",
       "    }\n",
       "</style>\n",
       "<table border=\"1\" class=\"dataframe\">\n",
       "  <thead>\n",
       "    <tr style=\"text-align: right;\">\n",
       "      <th></th>\n",
       "      <th>medicine1</th>\n",
       "      <th>Placebo</th>\n",
       "    </tr>\n",
       "  </thead>\n",
       "  <tbody>\n",
       "    <tr>\n",
       "      <th>显效</th>\n",
       "      <td>62</td>\n",
       "      <td>35</td>\n",
       "    </tr>\n",
       "    <tr>\n",
       "      <th>有效</th>\n",
       "      <td>18</td>\n",
       "      <td>31</td>\n",
       "    </tr>\n",
       "    <tr>\n",
       "      <th>无效</th>\n",
       "      <td>5</td>\n",
       "      <td>14</td>\n",
       "    </tr>\n",
       "    <tr>\n",
       "      <th>加重</th>\n",
       "      <td>3</td>\n",
       "      <td>4</td>\n",
       "    </tr>\n",
       "  </tbody>\n",
       "</table>\n",
       "</div>"
      ],
      "text/plain": [
       "    medicine1  Placebo\n",
       "显效         62       35\n",
       "有效         18       31\n",
       "无效          5       14\n",
       "加重          3        4"
      ]
     },
     "execution_count": 47,
     "metadata": {},
     "output_type": "execute_result"
    }
   ],
   "source": [
    "Medicien = pd.read_excel('data/Statistic Practice Data.xlsx',sheet_name='Medicien')\n",
    "Medicien.head()"
   ]
  },
  {
   "cell_type": "code",
   "execution_count": 48,
   "metadata": {},
   "outputs": [
    {
     "name": "stdout",
     "output_type": "stream",
     "text": [
      "They are Same with Statistic value -0.2886751345948129 and P_value 0.7728299926844475.\n"
     ]
    }
   ],
   "source": [
    "stat, p = ss.ranksums(Medicien['medicine1'],Medicien['Placebo'])\n",
    "alpha = 0.05\n",
    "if p > alpha:\n",
    "    print('They are Same with Statistic value {} and P_value {}.'.format(stat,p))\n",
    "else:\n",
    "    print('They are Different with Statistic value {} and P_value {}.'.format(stat,p))"
   ]
  },
  {
   "cell_type": "code",
   "execution_count": 49,
   "metadata": {},
   "outputs": [
    {
     "name": "stdout",
     "output_type": "stream",
     "text": [
      "They are Same with Statistic value 7.0 and P_value 0.44261695723660077.\n"
     ]
    }
   ],
   "source": [
    "stat, p = ss.mannwhitneyu(Medicien['medicine1'],Medicien['Placebo'])\n",
    "alpha = 0.05\n",
    "if p > alpha:\n",
    "    print('They are Same with Statistic value {} and P_value {}.'.format(stat,p))\n",
    "else:\n",
    "    print('They are Different with Statistic value {} and P_value {}.'.format(stat,p))"
   ]
  },
  {
   "cell_type": "code",
   "execution_count": 50,
   "metadata": {},
   "outputs": [
    {
     "name": "stdout",
     "output_type": "stream",
     "text": [
      "They are Same with Statistic value 0.25 and P_value 0.9968756885202118.\n"
     ]
    }
   ],
   "source": [
    "stat, p = ss.ks_2samp(Medicien['medicine1'],Medicien['Placebo'])\n",
    "alpha = 0.05\n",
    "if p > alpha:\n",
    "    print('They are Same with Statistic value {} and P_value {}.'.format(stat,p))\n",
    "else:\n",
    "    print('They are Different with Statistic value {} and P_value {}.'.format(stat,p))"
   ]
  },
  {
   "cell_type": "markdown",
   "metadata": {},
   "source": [
    "### 多样本比较 <font color='red'>Kruskal-Wallis Test (H test)\n",
    "- Kruskar-Wallis Test often used to test whether independent sample groups are drawn from population possessing **equal medians**.\n",
    "- Kruskar-Wallis enjoys the same power properties relative to the one-way ANOVA F-test.\n",
    "- Method:\n",
    "$$\\displaystyle H = \\left[\\frac{12}{n(n+1)}\\sum_{i=1}^{k} \\frac{R_i^2}{n_i}\\right]-3(n+1)$$ \n",
    "    - where $R_i$ is the sum of the ranks assigned to the *ith* sample group.\n",
    "    - As the sample sizes in each group get large ($k \\gt 3 ~or~ n_i \\gt 5$), the test statistic H may be approximated by the $\\chi^2$ distribution with (k-1) degrees of freedom. \n",
    "    - 当组数 $k \\leq 3 ~and~ n_i \\leq 5$, 查H界值表确定P.\n",
    "    - 当相同秩次较多时用校正公式\n",
    "$$\\displaystyle H_c= \\frac{H}{c},~~~~~~~ c=1-\\frac{\\sum(t_j^3-t_j)}{n^3-n}$$ \n",
    "where $t_j$为第j个相同秩次的个数。\n",
    "\n",
    "\n",
    "\n",
    "```Python\n",
    "scipy.stats.kruskal(sample1,sample2,....,nan_policy='propagate')   # propagate,raise,omit\n",
    "```"
   ]
  },
  {
   "cell_type": "markdown",
   "metadata": {},
   "source": [
    "**Example**: 比较A,B,C三种方法的疗效是否相同. "
   ]
  },
  {
   "cell_type": "code",
   "execution_count": 51,
   "metadata": {},
   "outputs": [
    {
     "data": {
      "text/html": [
       "<div>\n",
       "<style scoped>\n",
       "    .dataframe tbody tr th:only-of-type {\n",
       "        vertical-align: middle;\n",
       "    }\n",
       "\n",
       "    .dataframe tbody tr th {\n",
       "        vertical-align: top;\n",
       "    }\n",
       "\n",
       "    .dataframe thead th {\n",
       "        text-align: right;\n",
       "    }\n",
       "</style>\n",
       "<table border=\"1\" class=\"dataframe\">\n",
       "  <thead>\n",
       "    <tr style=\"text-align: right;\">\n",
       "      <th></th>\n",
       "      <th>MethodA</th>\n",
       "      <th>MethodB</th>\n",
       "      <th>MethodC</th>\n",
       "    </tr>\n",
       "  </thead>\n",
       "  <tbody>\n",
       "    <tr>\n",
       "      <th>治愈</th>\n",
       "      <td>186</td>\n",
       "      <td>32</td>\n",
       "      <td>22</td>\n",
       "    </tr>\n",
       "    <tr>\n",
       "      <th>显效</th>\n",
       "      <td>72</td>\n",
       "      <td>24</td>\n",
       "      <td>14</td>\n",
       "    </tr>\n",
       "    <tr>\n",
       "      <th>好转</th>\n",
       "      <td>26</td>\n",
       "      <td>16</td>\n",
       "      <td>22</td>\n",
       "    </tr>\n",
       "    <tr>\n",
       "      <th>无效</th>\n",
       "      <td>24</td>\n",
       "      <td>20</td>\n",
       "      <td>20</td>\n",
       "    </tr>\n",
       "  </tbody>\n",
       "</table>\n",
       "</div>"
      ],
      "text/plain": [
       "    MethodA  MethodB  MethodC\n",
       "治愈      186       32       22\n",
       "显效       72       24       14\n",
       "好转       26       16       22\n",
       "无效       24       20       20"
      ]
     },
     "execution_count": 51,
     "metadata": {},
     "output_type": "execute_result"
    }
   ],
   "source": [
    "ABC = pd.read_excel('data/Statistic Practice Data.xlsx',sheet_name='ABC')\n",
    "ABC.head()"
   ]
  },
  {
   "cell_type": "code",
   "execution_count": 52,
   "metadata": {},
   "outputs": [
    {
     "name": "stdout",
     "output_type": "stream",
     "text": [
      "They are Same with Statistic value 5.859540636042407 and P_value 0.05340930389113663.\n"
     ]
    }
   ],
   "source": [
    "stat, p = ss.kruskal(ABC['MethodA'],ABC['MethodB'],ABC['MethodC'])\n",
    "alpha = 0.05\n",
    "if p > alpha:\n",
    "    print('They are Same with Statistic value {} and P_value {}.'.format(stat,p))\n",
    "else:\n",
    "    print('They are Different with Statistic value {} and P_value {}.'.format(stat,p))"
   ]
  },
  {
   "cell_type": "markdown",
   "metadata": {},
   "source": [
    "## 非独立变量比较的非参数方法<font color='blue'>Dependent Samples</font> \n",
    "### 配对样本比较 <font color='red'>Wilcoxon Signed Rank test</font>\n",
    "- A two sample t-test would have been a good choice if the test and control groups are independent and follow Normal distribution. \n",
    "- If conditions are not met, nonparametric test methods are needed. This section covers one such test, called <font color='blue'>Wilcoxon signed-rank test (equivalent to the Mann-Whiney U-test) for two samples</font>. \n",
    "- The test is preferred when:\n",
    "    - Compare the difference between two means to zero (H0: $\\mu$ of the difference = 0).\n",
    "    - The two groups of data are dependent.(**Paired data**)\n",
    "    - The type of variable could be continuous or ordinal.\n",
    "    - The data might not be normally distributed.(**Not Normlly distributiong**)\n",
    "- Wilcoxo 符号秩检验\n",
    "    - 求出各组配对差值\n",
    "    - 基于H0假定成立，差值应当围绕0上下对称分布\n",
    "    - 按照差值绝对值计算秩次，然后分正、负组分别结算秩和\n",
    "    - 考察正负秩和的大小是否明显偏离H0\n",
    "    \n",
    "<font color='red'>**H0: 两组结果相同，即差值的中位数等于0，Md=0；**</font>\n",
    "\n",
    "```Python\n",
    "scipy.stats.willcoxon(a,b,zero_method='wilcox'/'zsplit',correction=Fales/True)\n",
    "# pratt: 检验中包括0差值， wilcox: 丢弃0差值，  zsplit:将0差值对半分入两组  \n",
    "```"
   ]
  },
  {
   "cell_type": "markdown",
   "metadata": {},
   "source": [
    "#### 配对设计资料的符号秩和检验\n",
    "Example: 先后出生的孪生兄弟智力是否存在差异"
   ]
  },
  {
   "cell_type": "code",
   "execution_count": 53,
   "metadata": {},
   "outputs": [
    {
     "name": "stdout",
     "output_type": "stream",
     "text": [
      "Statistics=18.500, p=0.358\n",
      "Same distribution (fail to reject H0)\n"
     ]
    }
   ],
   "source": [
    "Twin = pd.read_excel('data/Statistic Practice Data.xlsx',sheet_name='Twins')\n",
    "stat, p = ss.wilcoxon(Twin['Older'], Twin['Younger'],zero_method='wilcox',correction=False)\n",
    "print('Statistics=%.3f, p=%.3f' % (stat, p))\n",
    "# interpretation\n",
    "alpha = 0.05\n",
    "if p > alpha:\n",
    "    print('Same distribution (fail to reject H0)')\n",
    "else:\n",
    "    print('Different distribution (reject H0)')"
   ]
  },
  {
   "cell_type": "markdown",
   "metadata": {},
   "source": [
    "#### 单样本符号秩检验\n",
    "- 比较某组样本中位数与给定值有无统计学差异\n",
    "\n",
    "**Example**: 检验工人的氟含量是否与正常人存在差异"
   ]
  },
  {
   "cell_type": "code",
   "execution_count": 54,
   "metadata": {},
   "outputs": [
    {
     "name": "stdout",
     "output_type": "stream",
     "text": [
      "They are Different with P_value 0.007645761692991623\n"
     ]
    }
   ],
   "source": [
    "worker = [2.15,2.10,2.20,2.12,2.42,2.52,2.62,2.70,3.00,3.18,3.87,5.67]\n",
    "normal = [2.15]*len(worker)\n",
    "stat, p = ss.wilcoxon(worker,normal,zero_method='wilcox',correction=False)\n",
    "alpha = 0.05\n",
    "if p > alpha:\n",
    "    print('They are Same.')\n",
    "else:\n",
    "    print('They are Different with P_value {}'.format(p))"
   ]
  },
  {
   "cell_type": "markdown",
   "metadata": {},
   "source": [
    "### 配伍样本比较 <font color='red'>Friedman Test (M test)\n",
    "- Friedman Test (M test) 双向秩方差分析\n",
    "    - 配伍因素影响很大，不能忽视\n",
    "    - 在配伍因素必须考虑的前提下，基于H0假设进行区组内编秩\n",
    "    - 按照比较组计算秩和，并比较其是否明显偏离H0 假设\n",
    "    - 这实际上是一个没什么用的方法\n",
    "        - 配伍设计的资料很难遇到不符合应用条件的情形\n",
    "        - 该检验效能非常低，与其采用秩和检验，不如进行变量变换\n",
    "- Kendall's W\n",
    "    - 主要用于计算Kendall和协系数，用于表示K个指标间的关联程度\n",
    "- Cochran's Q\n",
    "    - 是McNemar检验针对多组的推广，只适用于两分类的治疗\n",
    "    - Friedman双向秩方差分析只适用于连续变量\n",
    "```Python\n",
    "scipy.stats.friedmanchisquare(measurement1,measurement2,measurement3)\n",
    "# friedman卡方检验，至少需要提供三组数据\n",
    "```"
   ]
  },
  {
   "cell_type": "markdown",
   "metadata": {},
   "source": [
    "**Example**: 治疗前后不同周数SGPT含量的是否有变化"
   ]
  },
  {
   "cell_type": "code",
   "execution_count": 55,
   "metadata": {},
   "outputs": [
    {
     "data": {
      "text/html": [
       "<div>\n",
       "<style scoped>\n",
       "    .dataframe tbody tr th:only-of-type {\n",
       "        vertical-align: middle;\n",
       "    }\n",
       "\n",
       "    .dataframe tbody tr th {\n",
       "        vertical-align: top;\n",
       "    }\n",
       "\n",
       "    .dataframe thead th {\n",
       "        text-align: right;\n",
       "    }\n",
       "</style>\n",
       "<table border=\"1\" class=\"dataframe\">\n",
       "  <thead>\n",
       "    <tr style=\"text-align: right;\">\n",
       "      <th></th>\n",
       "      <th>ID</th>\n",
       "      <th>Before</th>\n",
       "      <th>1Week</th>\n",
       "      <th>2Week</th>\n",
       "      <th>3Week</th>\n",
       "    </tr>\n",
       "  </thead>\n",
       "  <tbody>\n",
       "    <tr>\n",
       "      <th>0</th>\n",
       "      <td>1</td>\n",
       "      <td>63</td>\n",
       "      <td>188</td>\n",
       "      <td>138</td>\n",
       "      <td>63</td>\n",
       "    </tr>\n",
       "    <tr>\n",
       "      <th>1</th>\n",
       "      <td>2</td>\n",
       "      <td>90</td>\n",
       "      <td>238</td>\n",
       "      <td>220</td>\n",
       "      <td>144</td>\n",
       "    </tr>\n",
       "    <tr>\n",
       "      <th>2</th>\n",
       "      <td>3</td>\n",
       "      <td>54</td>\n",
       "      <td>300</td>\n",
       "      <td>83</td>\n",
       "      <td>92</td>\n",
       "    </tr>\n",
       "    <tr>\n",
       "      <th>3</th>\n",
       "      <td>4</td>\n",
       "      <td>45</td>\n",
       "      <td>140</td>\n",
       "      <td>213</td>\n",
       "      <td>100</td>\n",
       "    </tr>\n",
       "    <tr>\n",
       "      <th>4</th>\n",
       "      <td>5</td>\n",
       "      <td>54</td>\n",
       "      <td>175</td>\n",
       "      <td>150</td>\n",
       "      <td>36</td>\n",
       "    </tr>\n",
       "  </tbody>\n",
       "</table>\n",
       "</div>"
      ],
      "text/plain": [
       "   ID  Before  1Week  2Week  3Week\n",
       "0   1      63    188    138     63\n",
       "1   2      90    238    220    144\n",
       "2   3      54    300     83     92\n",
       "3   4      45    140    213    100\n",
       "4   5      54    175    150     36"
      ]
     },
     "execution_count": 55,
     "metadata": {},
     "output_type": "execute_result"
    }
   ],
   "source": [
    "SGPT = pd.read_excel('data/Statistic Practice Data.xlsx',sheet_name='SGPT')\n",
    "SGPT.head()"
   ]
  },
  {
   "cell_type": "code",
   "execution_count": 56,
   "metadata": {},
   "outputs": [
    {
     "name": "stdout",
     "output_type": "stream",
     "text": [
      "They are Different with P_value 0.0005993630793139178\n"
     ]
    }
   ],
   "source": [
    "stat, p = ss.friedmanchisquare(SGPT['Before'],SGPT['1Week'],SGPT['2Week'],SGPT['3Week'])\n",
    "alpha = 0.05\n",
    "if p > alpha:\n",
    "    print('They are Same.')\n",
    "else:\n",
    "    print('They are Different with P_value {}'.format(p))"
   ]
  },
  {
   "cell_type": "markdown",
   "metadata": {},
   "source": [
    "# 样本量估计 <font color='red'>(spower.TTestPower)</font>\n",
    "## 样本量估计的基本原理\n",
    "<font color='red'>$$\\displaystyle \\delta = \\left[ Z_{1-\\alpha/2} + Z_{1-\\beta}   \\right]*S.E.$$</font>\n",
    "where S.E. is the standard error.\n",
    "- Effect size=$\\delta/\\sigma$, $\\sigma$ is standard deveriation. 即希望能够检验出的相对差异.\n",
    "- 实际使用中需要加上10%～20%的例数，以补充可能的损失"
   ]
  },
  {
   "cell_type": "markdown",
   "metadata": {},
   "source": [
    "## 单样本/配对样本t-test\n",
    "- 单样本/配对样本 \n",
    "$\\displaystyle N=[\\frac{(Z_{1-\\alpha/2} + Z_{1-\\beta})\\sigma}{\\delta}]^2$,  $\\displaystyle Z_{1-\\beta} = \\delta\\frac{\\sqrt{N}}{\\sigma}-Z_{1-\\alpha/2}$\n",
    "\n",
    "- TTestPower 类\n",
    "```Python\n",
    "class statsmodels.stats.powers.TTestPower()\n",
    "```\n",
    "- TTestPower 类的方法\n",
    "    - **计算检验效能**\n",
    "```Python\n",
    "power(                          # 计算相应检验效能，输出：检验效能值\n",
    "    effect_size                 # 标准化（差值/标准差）之后希望检出的差距，必须为正值\n",
    "    nobs                        # 设定的样本量\n",
    "    alpha                       # alpha水准\n",
    "    df = None                   # 自由度\n",
    "    alternative = 'two-sided'/'larger'/'smaller')\n",
    "```\n",
    "    - **计算缺失参数, 样本量**\n",
    "```Python\n",
    "solve_power(                    # 基于检验效能反推任何一个参数，输出：缺失的相应参数\n",
    "    effect_size                 # 标准化（差值/标准差）之后希望检出的差距，必须为正值\n",
    "    nobs                        # 设定的样本量\n",
    "    alpha                       # alpha水准\n",
    "    power = None                   \n",
    "    alternative = 'two-sided'/'larger'/'smaller')\n",
    "```\n",
    "    - **绘制样本量与检验效能的曲线图**\n",
    "```Python\n",
    "plot_power([dep_var,nobs,effect_size,..])          \n",
    "```\n",
    "- 研究新药降低高血脂患者的胆固醇的效果，研究者规定试验组的血清胆固醇平均降低$\\delta=$0.5mmol/L以上，才有进一步研究的价值。引用文献中胆固醇的标准差为$\\sigma=$0.8mmol/L，规定单侧$\\alpha=0.05$, power=0.90, 要求估计样本量。"
   ]
  },
  {
   "cell_type": "code",
   "execution_count": 5,
   "metadata": {},
   "outputs": [
    {
     "data": {
      "text/plain": [
       "23.34488303343584"
      ]
     },
     "execution_count": 5,
     "metadata": {},
     "output_type": "execute_result"
    }
   ],
   "source": [
    "sp1 = spower.TTestPower()\n",
    "# 计算样本量\n",
    "sp1.solve_power(effect_size=0.5/0.8,nobs=None,alpha=0.05,\n",
    "               power=0.9,alternative='larger')            "
   ]
  },
  {
   "cell_type": "code",
   "execution_count": 6,
   "metadata": {},
   "outputs": [
    {
     "data": {
      "text/plain": [
       "0.9074198379719143"
      ]
     },
     "execution_count": 6,
     "metadata": {},
     "output_type": "execute_result"
    }
   ],
   "source": [
    "# 计算检验效能,power=0.9\n",
    "sp1.power(effect_size=0.5/0.8, nobs=24, alpha=0.05,alternative='larger')"
   ]
  },
  {
   "cell_type": "code",
   "execution_count": 11,
   "metadata": {},
   "outputs": [
    {
     "data": {
      "image/png": "[encoded data removed]",
      "text/plain": [
       "<Figure size 432x288 with 1 Axes>"
      ]
     },
     "metadata": {},
     "output_type": "display_data"
    }
   ],
   "source": [
    "# parameters for power analysis\n",
    "effect_sizes = np.array([0.2, 0.5, 0.8])\n",
    "sample_sizes = np.array(range(5, 100))\n",
    "sp1.plot_power(dep_var='nobs', nobs=sample_sizes, effect_size=effect_sizes);"
   ]
  },
  {
   "cell_type": "markdown",
   "metadata": {},
   "source": [
    "## 成组两样本\n",
    "$\\displaystyle N=[\\frac{(Z_{1-\\alpha/2} + Z_{1-\\beta})\\sigma}{\\delta}]^2 (\\frac{1}{Q_1}+\\frac{1}{Q_2})$, \n",
    "where $n_1 = NQ_1$ and $n_2 = NQ_2$ with the assumpation $\\sigma_1=\\sigma_2=\\sigma$.\n",
    "\n",
    "- TTestPower 类的方法\n",
    "    - **计算检验效能**\n",
    "```Python\n",
    "power(                          # 计算相应检验效能，输出：检验效能值\n",
    "    effect_size                 # 标准化（差值/标准差）之后希望检出的差距，必须为正值\n",
    "    nobs1                        # 设定的样本量\n",
    "    alpha                       # alpha水准\n",
    "    ratio =1                    # 两组样本量之比，组2=组1*ratio  \n",
    "    df = None                   # 自由度\n",
    "    alternative = 'two-sided'/'larger'/'smaller')\n",
    "```\n",
    "    - **计算缺失参数, 样本量**\n",
    "```Python\n",
    "solve_power(                    # 基于检验效能反推任何一个参数，输出：缺失的相应参数\n",
    "    effect_size                 # 标准化（差值/标准差）之后希望检出的差距，必须为正值\n",
    "    nobs1                        # 设定的样本量\n",
    "    alpha                       # alpha水准\n",
    "    power = None                   \n",
    "    ratio = 1\n",
    "    alternative = 'two-sided'/'larger'/'smaller')\n",
    "```\n",
    "- 研究新药降低高血脂患者的胆固醇的效果，研究者规定试验组与对照组相比的，血清胆固醇平均降低0.5mmol/L以上，才有进一步研究的价值。引用文献中胆固醇的标准差为0.8mmol/L，规定单侧$\\alpha=0.05$,power=0.90,要求估计样本量。"
   ]
  },
  {
   "cell_type": "code",
   "execution_count": 12,
   "metadata": {},
   "outputs": [
    {
     "data": {
      "text/plain": [
       "44.53997146070881"
      ]
     },
     "execution_count": 12,
     "metadata": {},
     "output_type": "execute_result"
    }
   ],
   "source": [
    "sp2 = spower.TTestIndPower()\n",
    "# 计算样本量, N1=N2\n",
    "sp2.solve_power(effect_size=0.5/0.8,nobs1=None,alpha=0.05,\n",
    "               power=0.9, ratio = 1.0, alternative='larger')"
   ]
  },
  {
   "cell_type": "code",
   "execution_count": 13,
   "metadata": {},
   "outputs": [
    {
     "data": {
      "text/plain": [
       "33.34598279030115"
      ]
     },
     "execution_count": 13,
     "metadata": {},
     "output_type": "execute_result"
    }
   ],
   "source": [
    "# 计算样本量，N2=2*N1\n",
    "sp2.solve_power(effect_size=0.5/0.8,nobs1=None,alpha=0.05,\n",
    "               power=0.9, ratio = 2.0, alternative='larger')"
   ]
  },
  {
   "cell_type": "code",
   "execution_count": 15,
   "metadata": {},
   "outputs": [
    {
     "data": {
      "text/plain": [
       "0.6288840135160791"
      ]
     },
     "execution_count": 15,
     "metadata": {},
     "output_type": "execute_result"
    }
   ],
   "source": [
    "# 计算 effect_size\n",
    "sp2.solve_power(effect_size=None, nobs1= 44,alpha=0.05,\n",
    "               power=0.9, ratio = 1.0, alternative='larger')"
   ]
  },
  {
   "cell_type": "code",
   "execution_count": 17,
   "metadata": {},
   "outputs": [
    {
     "data": {
      "text/plain": [
       "0.8967899865606673"
      ]
     },
     "execution_count": 17,
     "metadata": {},
     "output_type": "execute_result"
    }
   ],
   "source": [
    "# 计算 Power\n",
    "sp2.solve_power(effect_size=0.5/0.8, nobs1= 44,alpha=0.05,\n",
    "               power=None, ratio = 1.0, alternative='larger')"
   ]
  },
  {
   "cell_type": "markdown",
   "metadata": {},
   "source": [
    "## 多组均值比较的样本量计算 (单因素方差分析)\n",
    "- 实用：根据最重要的两样本组数据的特征进行样本总量外推\n",
    "- 严格：基于组间变异进行计算\n",
    "    - 难点在于计算effect size\n",
    "    \n",
    "$\\displaystyle f=\\sqrt{\\frac{\\sum^k_{i=1}p_i(\\mu_i-\\mu)^2}{\\sigma^2}}$\n",
    "where $p_i=n_i/N$,$n_i$ is the number of observations in group i,\n",
    "N is total number of observations,\n",
    "$\\mu_i$ is the mean of group i,\n",
    "$\\mu$ is grand mean,\n",
    "$\\sigma^2$ is error variance within groups.\n",
    "    - Cohen建议将 f=0.1，0.25，0.4分别作为小、中、大的效应值进行估计\n",
    "\n",
    "- FTestAnovaPower 类\n",
    "```Python\n",
    "class statsmodels.stats.powers.FTestAnovaPower()\n",
    "```\n",
    "- FTestAnovaPower 类的方法\n",
    "```Python\n",
    "solve_power(                    # 基于检验效能反推任何一个参数，输出：缺失的相应参数\n",
    "    effect_size                 # 各组加权综合计算出的效应值 f，必须为正值\n",
    "    nobs                       \n",
    "    alpha                       # alpha水准\n",
    "    power = None                   \n",
    "    k_groups = 2）               # 用于比较的样本组数  \n",
    "```"
   ]
  },
  {
   "cell_type": "code",
   "execution_count": 20,
   "metadata": {},
   "outputs": [
    {
     "data": {
      "text/plain": [
       "1268.3933013043206"
      ]
     },
     "execution_count": 20,
     "metadata": {},
     "output_type": "execute_result"
    }
   ],
   "source": [
    "sp3 = spower.FTestAnovaPower()\n",
    "sp3.solve_power(effect_size=0.1,nobs=None,alpha=0.05,\n",
    "               power=0.9, k_groups = 3)"
   ]
  },
  {
   "cell_type": "code",
   "execution_count": 21,
   "metadata": {},
   "outputs": [
    {
     "data": {
      "text/plain": [
       "205.49086168426783"
      ]
     },
     "execution_count": 21,
     "metadata": {},
     "output_type": "execute_result"
    }
   ],
   "source": [
    "sp3 = spower.FTestAnovaPower()\n",
    "sp3.solve_power(effect_size=0.25,nobs=None,alpha=0.05,\n",
    "               power=0.9, k_groups = 3)"
   ]
  },
  {
   "cell_type": "code",
   "execution_count": 22,
   "metadata": {},
   "outputs": [
    {
     "data": {
      "text/plain": [
       "82.16474744262409"
      ]
     },
     "execution_count": 22,
     "metadata": {},
     "output_type": "execute_result"
    }
   ],
   "source": [
    "sp3 = spower.FTestAnovaPower()\n",
    "sp3.solve_power(effect_size=0.4,nobs=None,alpha=0.05,\n",
    "               power=0.9, k_groups = 3)"
   ]
  },
  {
   "cell_type": "markdown",
   "metadata": {},
   "source": [
    "## 单样本/配对率的比较\n",
    "$\\displaystyle N=[\\frac{(Z_{1-\\alpha/2} + Z_{1-\\beta})}{\\delta}]^2 \\pi(1-\\pi)$\n",
    "\n",
    "$\\displaystyle Effect~Size = \\frac{\\delta}{\\sigma} = \\frac{\\delta}{\\sqrt{\\pi(1-\\pi)}}$\n",
    "\n",
    "$\\displaystyle Effect~Size = 2(\\sin^{-1}{\\sqrt{\\pi_1}}-\\sin^{-1}{\\sqrt{\\pi_2}})$\n",
    "\n",
    "- 常规条件下，某动物模型出现阳性结局的概率为0.4，某研究人员考虑采用另一种方法进行试验，使用60个动物进行该研究，预期的成功率为0.5，请估计该检验的效能是否充足"
   ]
  },
  {
   "cell_type": "code",
   "execution_count": 36,
   "metadata": {},
   "outputs": [
    {
     "data": {
      "text/plain": [
       "0.3316786460038084"
      ]
     },
     "execution_count": 36,
     "metadata": {},
     "output_type": "execute_result"
    }
   ],
   "source": [
    "h = 0.1/(0.5*(1-0.5))**0.5\n",
    "sp1.solve_power(effect_size = h, nobs = 60, alpha = 0.05, power = None)"
   ]
  },
  {
   "cell_type": "code",
   "execution_count": 37,
   "metadata": {},
   "outputs": [
    {
     "data": {
      "text/plain": [
       "0.3354309335796794"
      ]
     },
     "execution_count": 37,
     "metadata": {},
     "output_type": "execute_result"
    }
   ],
   "source": [
    "h = 2*(np.arcsin(np.sqrt(0.4))-np.arcsin(np.sqrt(0.5)))\n",
    "sp1.solve_power(effect_size = h, nobs = 60, alpha = 0.05, power = None)"
   ]
  },
  {
   "cell_type": "markdown",
   "metadata": {},
   "source": [
    "检验效能只有0.33. 当检验效能 $1-\\beta < 0.75$ 时，认为结论不可靠，样本量过小，应增加样本量重新研究。"
   ]
  },
  {
   "cell_type": "markdown",
   "metadata": {},
   "source": [
    "## 两样本率的比较\n",
    "$\\displaystyle \\delta=(Z_{1-\\alpha/2} + Z_{1-\\beta}) \\left[ \\frac {\\pi_1(1-\\pi_1)}{n_1} + \\frac {\\pi_2(1-\\pi_2)}{n_2} \\right]^{1/2}$\n",
    "\n",
    "- Assumption $\\pi_1 = \\pi_2$ and $n_1 = n_2$\n",
    "\n",
    "$\\displaystyle \\delta^2=(Z_{1-\\alpha/2} + Z_{1-\\beta})^2 \\left[ \\frac {4\\pi(1-\\pi)}{N} \\right]$\n",
    "\n",
    "- Assumption $n_1 = n_2 = N$\n",
    "\n",
    "$\\displaystyle \\delta^2=(Z_{1-\\alpha/2} + Z_{1-\\beta})^2 \\left[ \\frac {\\pi_1(1-\\pi_1) + \\pi_2(1-\\pi_2)}{N} \\right]$\n",
    "\n",
    "$\\displaystyle N =\\left[\\frac{(Z_{1-\\alpha/2} + Z_{1-\\beta})}{\\delta}\\right]^2 \\left[\\pi_1(1-\\pi_1) + \\pi_2(1-\\pi_2) \\right]$\n",
    "\n",
    "- 某动物模型出现阳性结局的概率为0.15，现考虑采用改进的新方法进行比较，预期新方法阳性概率为0.3，请估计该实验所需的动物样本量"
   ]
  },
  {
   "cell_type": "code",
   "execution_count": 66,
   "metadata": {},
   "outputs": [
    {
     "name": "stdout",
     "output_type": "stream",
     "text": [
      "1.959963984540054 -0.8416212335729143\n"
     ]
    },
    {
     "data": {
      "text/plain": [
       "117.73319601523633"
      ]
     },
     "execution_count": 66,
     "metadata": {},
     "output_type": "execute_result"
    }
   ],
   "source": [
    "Za = ss.norm.ppf(1-0.025)\n",
    "Zb = ss.norm.ppf(1-0.8)\n",
    "print(Za,Zb)\n",
    "N = ((abs(Za)+abs(Zb))/(0.3-0.15))**2 * (0.15*(1-0.15) + 0.3*(1-0.3))\n",
    "N"
   ]
  },
  {
   "cell_type": "code",
   "execution_count": 68,
   "metadata": {},
   "outputs": [
    {
     "name": "stdout",
     "output_type": "stream",
     "text": [
      "-1.9599639845400545 -0.8416212335729143\n"
     ]
    },
    {
     "data": {
      "text/plain": [
       "117.73319601523637"
      ]
     },
     "execution_count": 68,
     "metadata": {},
     "output_type": "execute_result"
    }
   ],
   "source": [
    "Za = ss.norm.ppf(0.025)\n",
    "Zb = ss.norm.ppf(1-0.8)\n",
    "print(Za,Zb)\n",
    "N = ((Za+Zb)/(0.3-0.15))**2 * (0.15*(1-0.15) + 0.3*(1-0.3))\n",
    "N"
   ]
  },
  {
   "cell_type": "code",
   "execution_count": 69,
   "metadata": {},
   "outputs": [
    {
     "data": {
      "text/plain": [
       "0.3638806505432649"
      ]
     },
     "execution_count": 69,
     "metadata": {},
     "output_type": "execute_result"
    }
   ],
   "source": [
    "p1 = 0.3; p2 = 0.15\n",
    "h = 2*(np.arcsin(np.sqrt(p1))-np.arcsin(np.sqrt(p2)))\n",
    "h"
   ]
  },
  {
   "cell_type": "code",
   "execution_count": 70,
   "metadata": {},
   "outputs": [
    {
     "data": {
      "text/plain": [
       "94.06942058074941"
      ]
     },
     "execution_count": 70,
     "metadata": {},
     "output_type": "execute_result"
    }
   ],
   "source": [
    "# 使用两样本t检验框架\n",
    "sp2.solve_power(effect_size = h, nobs1 = None, alpha = 0.05, power = 0.8, \n",
    "                alternative = 'larger')"
   ]
  },
  {
   "cell_type": "code",
   "execution_count": 71,
   "metadata": {},
   "outputs": [
    {
     "data": {
      "text/plain": [
       "0.3260436054049059"
      ]
     },
     "execution_count": 71,
     "metadata": {},
     "output_type": "execute_result"
    }
   ],
   "source": [
    "sp2.solve_power(effect_size = None, nobs1 = 117, alpha = 0.05, power = 0.8, \n",
    "                alternative = 'larger')"
   ]
  },
  {
   "cell_type": "markdown",
   "metadata": {},
   "source": [
    "## 配对设计率比较\n",
    "$\\displaystyle \\pi_1 = \\frac{b}{a+b},~~~~\\pi_2 = \\frac{c}{a+c},~~~~\\pi = \\frac{\\pi_1 + \\pi_2}{2}$\n",
    "\n",
    "$\\displaystyle N = \\left[\\frac{Z_{1-\\alpha} \\sqrt{2\\pi} + Z_{1-\\beta} \\sqrt{2\\pi_1\\pi_2/\\pi}}{\\pi_1-\\pi_2}\\right]^2$"
   ]
  },
  {
   "cell_type": "code",
   "execution_count": null,
   "metadata": {},
   "outputs": [],
   "source": []
  },
  {
   "cell_type": "code",
   "execution_count": null,
   "metadata": {},
   "outputs": [],
   "source": []
  },
  {
   "cell_type": "code",
   "execution_count": null,
   "metadata": {},
   "outputs": [],
   "source": []
  },
  {
   "cell_type": "markdown",
   "metadata": {},
   "source": [
    "# Prediction\n",
    "## Linear regression analysis\n",
    "Samples $(x_1,y_1),(x_2,y_2)...(x_n,y_n),$ \n",
    "$$\\displaystyle \\bar{y} = \\frac{1}{n}\\sum_i^n y_i, ~~~~~~~\\bar{x} = \\frac{1}{n}\\sum_i^n x_i$$\n",
    "$$\\displaystyle S_{xx}=\\sum(x_i-\\bar{x})^2$$\n",
    "$$\\displaystyle S_{yy}=\\sum(y_i-\\bar{y})^2$$\n",
    "$$S_{xy}=\\sum(x_i-\\bar{x})(y_i-\\bar{y})$$\n",
    "$$\\displaystyle \\widehat{b}=\\frac{S_{xy}}{S_{xx}},~~~~~~ \\widehat{a}= \\bar{y} - \\widehat{b}\\bar{x}$$\n",
    "在误差为正态分布的假定下，最小二乘估计等价于极大拟然估计.\n",
    "\n",
    "Linear regression equation\n",
    "        $$\\displaystyle \\widehat{y_i} = \\widehat{a}+\\widehat{b} x_i +\\varepsilon_i = \\bar{y}+\\widehat{b}(x-\\bar{x})$$ \n",
    "where $\\varepsilon_i \\sim N(0,\\sigma^2)$.\n",
    "- **Properties of $a,b$**\n",
    "    - $\\displaystyle \\widehat{a} \\sim N(a,\\frac{\\sum x_i^2}{n S_{xx}}\\sigma^2$) and $\\displaystyle \\widehat{b} \\sim N(b,\\frac{\\sigma^2}{S_{xx}}$), $\\widehat{a},\\widehat{b}$ are unbiase estimate of $a,b$无偏估计。\n",
    "    - 残差平方和：$\\displaystyle Q = \\sum{(y_i-\\widehat{y}_i)^2}$, $Q=S_{yy} -\\widehat{b}S_{xy}$\n",
    "    - $\\displaystyle \\widehat{\\sigma} ^2 = \\frac{Q}{n-2}$ is unbiase estimate of $\\sigma^2$\n",
    "    - $\\displaystyle \\frac{Q}{\\sigma^2}\\sim \\chi^2(n-2)$\n",
    "    \n",
    "- **线性假设的显著性检验**\n",
    "$H0: \\widehat{b} =0$\n",
    "    - t test:\n",
    "$(1-\\alpha)$ 水平的拒绝域 $\\displaystyle|t|=\\frac{|\\widehat{b}|}{\\widehat{\\sigma}}\\sqrt{S_{xx}} \\geq t_{\\alpha/2}(n-2)$\n",
    "\n",
    "    - F test:\n",
    "$(1-\\alpha)$ 水平的拒绝域为\n",
    "$\\displaystyle F=\\frac{(n-2)\\sum{(\\widehat y_i -\\bar{y})^2}}{\\sum({\\widehat{y_i}-y_i})^2} \\gt F_\\alpha (1,n-2)$\n",
    "\n",
    "    - Correlation coefficent test:\n",
    "$$\\displaystyle r=\\frac{\\sum{(x_i-\\bar{x})(y_i-\\bar{y})}}{\\sqrt{\\sum{(x_i-\\bar{x})^2(y_i-\\bar{y})^2}}}=\\frac{S_{xy}}{\\sqrt{S_{xx}S_{yy}}}$$\n",
    "\n",
    "    - Coefficent of determination: $$\\displaystyle R^2 = r^2 = \\frac{S_{xy}^2}{S_{xx}S_{yy}}$$\n",
    "\n",
    "- **回归系数的置信区间**\n",
    "    - b 的$(1-\\alpha)$置信区间:\n",
    "$\\displaystyle \\widehat{b}\\pm t_{\\alpha/2}(n-2)\\frac{\\widehat{\\sigma}}{\\sqrt{S_{xx}}}$"
   ]
  },
  {
   "cell_type": "markdown",
   "metadata": {},
   "source": [
    "### Confidence Interval & Prediction Interval\n",
    "- Confidence interval:\n",
    "    - $\\widehat{y_i} = \\widehat{a}+\\widehat{b} x_i$ 的$(1-\\alpha)$置信区间:\n",
    "$\\displaystyle \\widehat{y_i} \\pm t_{\\alpha/2}(n-2) \\widehat{\\sigma}\\sqrt{\\frac{1}{n}+\\frac{(x_i-\\bar{x})^2}{S_{xx}}}$\n",
    "    - A 95% confidence interval for the mean states that you're 95% confident your interval contains the population mean of Y for a particular X. \n",
    "    - Confidence intervals become wider as you move away from the mean of the independent variable. This reflects the fact that your estimates become more variable as you move away from the means of X and Y.\n",
    "\n",
    "- Prediction Interval:\n",
    "    - 对因变量$y$的新观测值$y_0$进行点预测(区间预测): $\\widehat{y_i} = \\widehat{a}+\\widehat{b} x_i +\\varepsilon_i$ 的$(1-\\alpha)$置信区间:\n",
    "$\\displaystyle \\widehat{y_i} \\pm t_{\\alpha/2}(n-2) \\widehat{\\sigma}\\sqrt{1+\\frac{1}{n}+\\frac{(x_i-\\bar{x})^2}{S_{xx}}}$\n",
    "    - Making a prediction for a future single observation.\n",
    "    - A 95% prediction interval is one that you are 95% confident contains a new observation if you were to actually sample another observation. \n",
    "    - Prediction intervals are wider than confidence intervals, because single observations have more variability than means."
   ]
  },
  {
   "cell_type": "markdown",
   "metadata": {},
   "source": [
    "- **Standardizing $(x_i,y_i)$ coordinates for Linear Regression**:\n",
    "$$\\displaystyle \\bar{x}=\\bar{y}=0,~~~~ S_{xx} = S_{yy} = 1$$\n",
    "$$\\displaystyle \\widehat{a} = 0,~~~~ \\widehat{b} = r= S_{xy} $$\n",
    "\n",
    "- According to **Gaussians Algebra**:\n",
    "$$\\displaystyle \\phi(0,\\sigma_y^2) = \\phi(0,\\beta^2\\sigma_x^2) + \\phi(0,\\sigma^2_{\\varepsilon})$$ and $\\sigma_y^2 = \\sigma_x^2 = 1$, then\n",
    "$$\\displaystyle 1 = \\beta^2 + \\sigma^2_{\\varepsilon} = R^2 + \\sigma^2_{\\varepsilon}$$\n"
   ]
  },
  {
   "cell_type": "markdown",
   "metadata": {},
   "source": [
    "** Assumptions in Linear Regression**\n",
    "- The mean of y is linearly related to the value of x.\n",
    "- The error terms are normally distributed with a mean of 0.\n",
    "- The error terms have equal variances.\n",
    "- The error terms are independent at each value of the predictor variable."
   ]
  },
  {
   "cell_type": "code",
   "execution_count": 57,
   "metadata": {},
   "outputs": [
    {
     "name": "stdout",
     "output_type": "stream",
     "text": [
      "The linear regression equation is y=91.83467741935485*x + 35.48286290322581\n",
      "Estimate of sigma2 is 3.6926033266128897\n",
      "Correlation coefficient is 0.3273671773259241\n",
      "pm is 1.7684757843577488, yhat is 40.992943548387096\n",
      "The 95% confidence interval of x=0.06 is [39.22446776402935,42.76141933274484]\n"
     ]
    }
   ],
   "source": [
    "X = [0.03, 0.04, 0.05, 0.07, 0.09, 0.10, 0.12, 0.15, 0.17, 0.20]\n",
    "Y = [40.5, 39.5, 41.0, 41.5, 43.0, 42.0, 45.0, 47.0, 53.0, 56.0]\n",
    "Xbar = Ybar = 0.0\n",
    "n = len(X)\n",
    "for i in range(n):\n",
    "    Xbar += X[i]\n",
    "    Ybar += Y[i]\n",
    "Xbar = Xbar/n\n",
    "Ybar = Ybar/n\n",
    "Sxx = Syy = Sxy = 0.0\n",
    "for i in range(n):\n",
    "    Sxx += (X[i]-Xbar)**2\n",
    "    Syy += (Y[i]-Ybar)**2\n",
    "    Sxy += (X[i]-Xbar)*(Y[i]-Ybar)\n",
    "b = Sxy/Sxx\n",
    "a = Ybar-b*Xbar\n",
    "print('The linear regression equation is y={}*x + {}'.format(b,a))\n",
    "\n",
    "# $\\sigma^2$无偏估计\n",
    "sigma2 = ((Syy-b*Sxy)/(n-2))\n",
    "print(\"Estimate of sigma2 is {}\".format(sigma2))\n",
    "\n",
    "# Correlation coefficient\n",
    "R2 = Sxy/Sxx/Syy\n",
    "print(\"Correlation coefficient is {}\".format(R2))\n",
    "\n",
    "# For x = 0.06, 95% confidence interval for predict y_hat \n",
    "t_alpha = ss.t.ppf(1.0 - 0.025, n-2)           # t(P,df)\n",
    "\n",
    "pm = t_alpha*sigma2**0.5*(1/n+(0.06-Xbar)**2/Sxx)**0.5\n",
    "print('pm is {}, yhat is {}'.format(pm,b*0.06+a))\n",
    "yUp = b*0.06+a + pm\n",
    "yLow = b*0.06+a - pm\n",
    "print(\"The 95% confidence interval of x=0.06 is [{},{}]\".format(yLow,yUp))"
   ]
  },
  {
   "cell_type": "code",
   "execution_count": 58,
   "metadata": {},
   "outputs": [
    {
     "name": "stdout",
     "output_type": "stream",
     "text": [
      "91.83467741935485 35.48286290322581 0.9458829185643172 3.5142213109032764e-05 11.139093897468324\n"
     ]
    }
   ],
   "source": [
    "xx = [0.03, 0.04, 0.05, 0.07, 0.09, 0.10, 0.12, 0.15, 0.17, 0.20]\n",
    "yy = [40.5, 39.5, 41.0, 41.5, 43.0, 42.0, 45.0, 47.0, 53.0, 56.0]\n",
    "slope,intercept,r_value,p_value,std_err = ss.linregress(xx,yy)\n",
    "print(slope,intercept,r_value,p_value,std_err )"
   ]
  },
  {
   "cell_type": "markdown",
   "metadata": {},
   "source": []
  },
  {
   "cell_type": "code",
   "execution_count": null,
   "metadata": {},
   "outputs": [],
   "source": []
  },
  {
   "cell_type": "code",
   "execution_count": null,
   "metadata": {},
   "outputs": [],
   "source": []
  }
 ],
 "metadata": {
  "kernelspec": {
   "display_name": "Python 3",
   "language": "python",
   "name": "python3"
  },
  "language_info": {
   "codemirror_mode": {
    "name": "ipython",
    "version": 3
   },
   "file_extension": ".py",
   "mimetype": "text/x-python",
   "name": "python",
   "nbconvert_exporter": "python",
   "pygments_lexer": "ipython3",
   "version": "3.6.5"
  },
  "latex_envs": {
   "LaTeX_envs_menu_present": true,
   "autoclose": false,
   "autocomplete": true,
   "bibliofile": "biblio.bib",
   "cite_by": "apalike",
   "current_citInitial": 1,
   "eqLabelWithNumbers": true,
   "eqNumInitial": 1,
   "hotkeys": {
    "equation": "Ctrl-E",
    "itemize": "Ctrl-I"
   },
   "labels_anchors": false,
   "latex_user_defs": false,
   "report_style_numbering": false,
   "user_envs_cfg": false
  },
  "toc": {
   "base_numbering": 1,
   "nav_menu": {},
   "number_sections": true,
   "sideBar": true,
   "skip_h1_title": false,
   "title_cell": "Table of Contents",
   "title_sidebar": "Contents",
   "toc_cell": false,
   "toc_position": {
    "height": "calc(100% - 180px)",
    "left": "10px",
    "top": "150px",
    "width": "401px"
   },
   "toc_section_display": true,
   "toc_window_display": true
  }
 },
 "nbformat": 4,
 "nbformat_minor": 2
}
