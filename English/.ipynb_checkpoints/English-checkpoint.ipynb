{
 "cells": [
  {
   "cell_type": "code",
   "execution_count": 1,
   "metadata": {},
   "outputs": [],
   "source": [
    "import time"
   ]
  },
  {
   "cell_type": "markdown",
   "metadata": {},
   "source": [
    "# Email\n"
   ]
  },
  {
   "cell_type": "markdown",
   "metadata": {},
   "source": [
    "## <font color='red'> Ask for collaboration</font>\n",
    "```Text\n",
    "Dear Marketing Group/Sales Team/Professor Leo/CEO/Director,\n",
    "\n",
    "I hope you're having a wonderful day.\n",
    "\n",
    "My name is XYZ and I'm the (marketing manager) of XXX company.\n",
    "(I came across your information from a mutual friend, XXX.)\n",
    "(It was really great to meet you at AAA on Sunday.)\n",
    "\n",
    "I'm writing to propose a collaboration opportunity between XXX and YYY. \n",
    ".....\n",
    "I have attached the company brochure for more information.\n",
    "I believe that XXX and YYY company share the same value and mission and will become long-term partners.\n",
    "\n",
    "I'd like to set up a brief meeting with you for further discussion if you're interested.\n",
    "I will be available from 10am to 5pm any day for the rest of the week.\n",
    "Please let me know your availabilities.\n",
    "\n",
    "Thank you for your time.\n",
    "Have a beautiful day.\n",
    "\n",
    "Sincerely/Best regards/Regards\n",
    "XYZ\n",
    "\n",
    "```\n"
   ]
  },
  {
   "cell_type": "code",
   "execution_count": 2,
   "metadata": {},
   "outputs": [],
   "source": [
    "start = time.time()"
   ]
  },
  {
   "cell_type": "code",
   "execution_count": null,
   "metadata": {},
   "outputs": [],
   "source": []
  },
  {
   "cell_type": "code",
   "execution_count": 5,
   "metadata": {},
   "outputs": [
    {
     "name": "stdout",
     "output_type": "stream",
     "text": [
      "272.89760994911194\n"
     ]
    }
   ],
   "source": [
    "end = time.time()\n",
    "print(end - start)"
   ]
  },
  {
   "cell_type": "markdown",
   "metadata": {},
   "source": [
    "## <font color='red'>Reply collaboration asking\n",
    "```Text\n",
    "Hi XYZ,\n",
    "\n",
    "Thank you for your email.\n",
    "I'm very interested in the collaboration.\n",
    "\n",
    "I will be available at 3pm est tomorrow. \n",
    "You can reach me at 111-222-333 or email me back if you need to reschedule.\n",
    "\n",
    "Have a wonderful day!\n",
    "\n",
    "Best regards,\n",
    "ZXY\n",
    "```"
   ]
  },
  {
   "cell_type": "code",
   "execution_count": null,
   "metadata": {},
   "outputs": [],
   "source": []
  },
  {
   "cell_type": "markdown",
   "metadata": {},
   "source": [
    "## <font color='red'>Ask for domcuments\n",
    "```Text\n",
    "Hi XXX,\n",
    "    \n",
    "I'm drafting the new project we talked about today's meeting. \n",
    "I'm wondering if you could send me the sales summary in the fiscal year 2015 to 2016.\n",
    "\n",
    "My deadline is EOB this Friday, so I would really appreciate it if you could send it to me by the end of the day tomorrow.\n",
    "\n",
    "Thank you very much for your help.\n",
    "\n",
    "Have a wonderful day!\n",
    "\n",
    "Best regards,\n",
    "YYY\n",
    "```\n"
   ]
  },
  {
   "cell_type": "code",
   "execution_count": null,
   "metadata": {},
   "outputs": [],
   "source": []
  },
  {
   "cell_type": "markdown",
   "metadata": {},
   "source": [
    "## <font color=\"red\">Reply registering\n",
    "### Tuition inform\n",
    "```Text\n",
    "Hi XXXX,\n",
    "\n",
    "Thanks for registering XXX for Red Apple Summer Camp.\n",
    "Your camp time are ['July 8-12'] (8:00AM-1:00PM) $170.\n",
    "Regarding the morning camp, you don’t need to choose afternoon activities. \n",
    "It will be (Chinese cultural class and field trip) in the morning.\n",
    "\n",
    "Registration Fee is $35. Your payment is $170+35=$205.\n",
    "Please make your check payable to Red Apple, deliver or mail the check to \n",
    "Morrisville. 133D Keybridge Dr., Morrisville NC 27560,\n",
    "to complete your registration.\n",
    "Please let me know if you have any questions.\n",
    "\n",
    "Best,\n",
    "Red Apple School\n",
    "\n",
    "Note: Do not reply to this message, it is being sent by an automated system that cannot receive replies.\n",
    "```"
   ]
  },
  {
   "cell_type": "code",
   "execution_count": null,
   "metadata": {},
   "outputs": [],
   "source": []
  },
  {
   "cell_type": "markdown",
   "metadata": {},
   "source": [
    "### Weekly inform\n",
    "```Text\n",
    "Dear family,\n",
    "\n",
    "Welcome to Red Apple Summer Camp Registration.\n",
    "We are looking forward to seeing you next week.\n",
    "Please see below for the detailed activity schedule.\n",
    "\n",
    "Feel free to let me know if you have any question.\n",
    "Thank you!\n",
    "\n",
    "Best regards,\n",
    "Red Apple\n",
    "```"
   ]
  },
  {
   "cell_type": "code",
   "execution_count": null,
   "metadata": {},
   "outputs": [],
   "source": []
  },
  {
   "cell_type": "markdown",
   "metadata": {},
   "source": [
    "## <font color=\"red\">Refuse application</font>\n",
    "```Text\n",
    "Dear Hua Mei,\n",
    "\n",
    "We really appreciate your interest in the Data Entry Specialist position here at TechSmith and you taking the time to complete an application. \n",
    "\n",
    "We took our time reviewing your resume and application, and we believe you do have some great experience and skills, however, we are moving forward with some other candidates that are more aligned with our needs.\n",
    "\n",
    "We’d love for you to see if there are other opportunities for you here at TechSmith. Please go back out on our website, www.techsmith.com/careers and see if there is anything else that you’re interested in and that you’re qualified for. \n",
    "If not, sign up for our notifications on our career site. This will notify you the next time a job in your area of interest comes available. \n",
    "Also, connect with us on social media (Linkedin | Facebook | Twitter | Instagram) and stay in tune with our upcoming events and updates. \n",
    "\n",
    "We hope that we get the opportunity to see your application again in the future. \n",
    "\n",
    "We wish you the absolute best of luck!\n",
    "\n",
    "Sincerely,\n",
    "\n",
    "The TechSmith Corporation Recruiting Team\n",
    "```"
   ]
  },
  {
   "cell_type": "code",
   "execution_count": null,
   "metadata": {},
   "outputs": [],
   "source": []
  },
  {
   "cell_type": "markdown",
   "metadata": {},
   "source": [
    "## <font color=\"red\"> Recommendation Merchandise</font>\n",
    "```Text\n",
    "Dear XXX,\n",
    "\n",
    "My name is James Brown, and I am the general manager at Goods and Services, LLC.\n",
    "\n",
    "I am delighted to inform you that we are now offering a 30% discount in our entire inventory.\n",
    "\n",
    "Our company is glad to hear about your interest in our catalog.\n",
    "We will send updated versions of our catalogs each month.\n",
    "The first section should be espically interesting to you since it has parts you were looking for.\n",
    "This is our most complete and updated version, so do not hesitate to contact us if you need new merchandise.\n",
    "\n",
    "I hope you find our catalogs appropriate for your business.\n",
    "(I appreciate your interest in our company.)\n",
    "\n",
    "Best regards,\n",
    "James Brown\n",
    "```"
   ]
  },
  {
   "cell_type": "code",
   "execution_count": null,
   "metadata": {},
   "outputs": [],
   "source": []
  },
  {
   "cell_type": "markdown",
   "metadata": {},
   "source": [
    "## <font color=\"red\"> Job application\n",
    "```Text\n",
    "Dear HR,\n",
    "\n",
    "I hope you're having a wonderful day!\n",
    "\n",
    "My name is Hua Mei and I am writting to apply the accounting job.\n",
    "\n",
    "I will be a great fit for this position because \n",
    "I am skilled in various word-processing sofeware and accounting software.\n",
    "I also have great communication skills. \n",
    "My resume includes more details of my skills and education.\n",
    "\n",
    "Best regards,\n",
    "Hua Mei\n",
    "```\n",
    "\n"
   ]
  },
  {
   "cell_type": "code",
   "execution_count": null,
   "metadata": {},
   "outputs": [],
   "source": []
  },
  {
   "cell_type": "markdown",
   "metadata": {},
   "source": [
    "### Templat 1\n",
    "```Text\n",
    "Subject: Name of Applicant – Name of Position, Job Reference Number\n",
    "\n",
    "Dear Mr./Ms. Last Name,\n",
    "\n",
    "I came across a very exciting position on your job portal that I believe fits me perfectly. \n",
    "I am interested in applying for the position of Development Engineer (Job Reference Number A123) \n",
    "at Sony Electronics. \n",
    "After reading the job description and requirements and matching it with my own experiences, \n",
    "I know that I would be a valuable asset to your organization.\n",
    "\n",
    "I recently graduated with a Bachelor of Science degree in Electrical Engineering from the University of Texas. \n",
    "I now want to apply my skills in a multinational company like Sony. \n",
    "As a development engineer, I can implement engineering concepts to design innovative \n",
    "and ingenious products for consumers.\n",
    "```"
   ]
  },
  {
   "cell_type": "markdown",
   "metadata": {},
   "source": [
    "<font color=\"blue\">\n",
    "```\n",
    "I have attached a cover letter, resume, and certificates \n",
    "/(and recommendation letters) for your consideration. \n",
    "Please take a moment to go through them to get a better picture of who I am \n",
    "/(idea of my credentials and experiences.).\n",
    "\n",
    "I would love to talk to you in more detail regarding this amazing opportunity at your company. \n",
    "It would give me great pleasure to hear back from you regarding my application.\n",
    "\n",
    "Sincerely,\n",
    "Hua Mei\n",
    "\n",
    "2335 Club Meridian Dr Apt A05, Okemos, MI, 48864\n",
    "517-505-4421\n",
    "ariel.mei4421@gmail.com\n",
    "```\n",
    "</font>"
   ]
  },
  {
   "cell_type": "markdown",
   "metadata": {},
   "source": [
    "### Templat 2\n",
    "```Text\n",
    "Dear Mr./Ms. Last Name,\n",
    "\n",
    "I have 4 years of experience as a Software Developer at my previous company. I came across an interesting position of Software Tester (Job Reference Number 9467) on your website. Company XYZ is renowned for testing all kinds of software and applications before they are released. As I know how they were programmed, I would be able to quickly detect all bugs and errors that need to be rectified. My skillset and expertise makes me a valuable asset to your organization.\n",
    "\n",
    "After graduating with a degree in Computer Science, I worked at Company ABC as a software developer for 4 years. I designed and programmed engineering software that students use in academia. I now want to challenge myself in a new environment and your company offers just that.\n",
    "\n",
    "...\n",
    "```"
   ]
  },
  {
   "cell_type": "code",
   "execution_count": null,
   "metadata": {},
   "outputs": [],
   "source": []
  },
  {
   "cell_type": "markdown",
   "metadata": {},
   "source": [
    "### Templat 3\n",
    "```Text\n",
    "Dear Mr./Ms. Last Name,\n",
    "\n",
    "My friend Sandra Cooper, who is a Chemical Engineer at your company, recommended me to apply to this company for the position of Junior Chemical Engineer (Job Reference Number N364). I have a deep interest in chemistry and I want to take Bio Corp to next level with my diligence and resilience in the lab. Since I studied alongside Sandra in school, she knows my potential very well so when you hire when, you will be getting a great professional who can deliver results.\n",
    "\n",
    "I recently graduated with a Bachelor of Science degree in Chemical Engineering from the University of Sydney. I now want to apply my skills in a world-renowned chemical engineering firm like Bio Corp. I enjoy conducting tests in a laboratory and I am very familiar with the chemicals you are working with.\n",
    "...\n",
    "```"
   ]
  },
  {
   "cell_type": "code",
   "execution_count": null,
   "metadata": {},
   "outputs": [],
   "source": []
  },
  {
   "cell_type": "markdown",
   "metadata": {},
   "source": [
    "### Templat 4\n",
    "```Text\n",
    "Dear Mr./Ms. Last Name,\n",
    "\n",
    "I have 8 years of experience as a marketing consultant and now I am looking for a new challenge. Your company specializes in digital marketing, something that I have been learning every week for the past several years and have applied a lot this past year. I want to apply for the position of SMM Specialist (Job Reference Code KM52) at your company because I know a lot about social networks. You will be getting a great professional who can deliver exception results if you hire me.\n",
    "\n",
    "I have worked with some the biggest Fortune 500 organizations, helping them design their ad campaigns when they were launching new products and services. I now want to apply my skills in an online world. I know that online marketing is the future and I can take your company to a higher level with my expertise and contacts.\n",
    "\n",
    "...\n",
    "```"
   ]
  },
  {
   "cell_type": "code",
   "execution_count": null,
   "metadata": {},
   "outputs": [],
   "source": []
  },
  {
   "cell_type": "markdown",
   "metadata": {},
   "source": [
    "### Templat 5\n",
    "```Text\n",
    "Dear Mr./Ms. Last Name,\n",
    "\n",
    "We spoke yesterday at the IT job fair in downtown San Francisco. We had an engaging conversation regarding your company’s activities and I described how my goals align with those of your company. You even handed me your business card at the end of our conversation. I did some further research on your company and the positions available. The one that stood out to me is the one you actually suggested me to apply to – robotics programmer.\n",
    "\n",
    "As a quick reminder, I recently graduated with a Bachelor of Science degree in Mechatronics Engineering from the University of Cambridge. I now want to apply my skills in electronics and mechanics at a robotics company. As a robotics programmer, I can implement engineering concepts to design innovative and ingenious robots and electrical machines.\n",
    "...\n",
    "```"
   ]
  },
  {
   "cell_type": "code",
   "execution_count": null,
   "metadata": {},
   "outputs": [],
   "source": []
  },
  {
   "cell_type": "markdown",
   "metadata": {},
   "source": [
    "### Templat 6\n",
    "```Text\n",
    "Dear Mr./Ms. Last Name,\n",
    "\n",
    "I reached out to you on LinkedIn a few days ago and we had a brief conversation about job opportunities at your company. You said that I could send you a speculative application and your company will interview me and find an appropriate department for me to work in. I am interested in working at Nintendo as a games developer. I firmly believe that I can make a significant impact in your company in whatever role you deem would fit me.\n",
    "\n",
    " I recently graduated with a degree in Computer Engineering from the Princeton University. I minored in games development and I now want to apply my skills in one of the largest games developer on the planet. As a games developer, I can create innovative and fun designs for your video games.\n",
    " ...\n",
    "```"
   ]
  },
  {
   "cell_type": "code",
   "execution_count": null,
   "metadata": {},
   "outputs": [],
   "source": []
  },
  {
   "cell_type": "markdown",
   "metadata": {},
   "source": [
    "### Templat 7\n",
    "```Text\n",
    "Dear Mr./Ms. Last Name,\n",
    "\n",
    "I am currently in my final year at the University of British Columbia and I want to intern at your financial institution. I major in finance and I want to establish a career in banking. After reading about your company, I am very interested to work at Citibank, one of the largest investment banks in the world. I want to learn from the best in the industry and give back to the organization.\n",
    "\n",
    "I am studying BBA – majoring in finance and with a minor in management. I now want to apply my skills in a multinational bank like Citibank. I can implement the financial concepts I learned in school.\n",
    "...\n",
    "```"
   ]
  },
  {
   "cell_type": "code",
   "execution_count": null,
   "metadata": {},
   "outputs": [],
   "source": []
  }
 ],
 "metadata": {
  "kernelspec": {
   "display_name": "Python 3",
   "language": "python",
   "name": "python3"
  },
  "language_info": {
   "codemirror_mode": {
    "name": "ipython",
    "version": 3
   },
   "file_extension": ".py",
   "mimetype": "text/x-python",
   "name": "python",
   "nbconvert_exporter": "python",
   "pygments_lexer": "ipython3",
   "version": "3.6.5"
  },
  "latex_envs": {
   "LaTeX_envs_menu_present": true,
   "autoclose": false,
   "autocomplete": true,
   "bibliofile": "biblio.bib",
   "cite_by": "apalike",
   "current_citInitial": 1,
   "eqLabelWithNumbers": true,
   "eqNumInitial": 1,
   "hotkeys": {
    "equation": "Ctrl-E",
    "itemize": "Ctrl-I"
   },
   "labels_anchors": false,
   "latex_user_defs": false,
   "report_style_numbering": false,
   "user_envs_cfg": false
  },
  "toc": {
   "base_numbering": 1,
   "nav_menu": {},
   "number_sections": true,
   "sideBar": true,
   "skip_h1_title": false,
   "title_cell": "Table of Contents",
   "title_sidebar": "Contents",
   "toc_cell": false,
   "toc_position": {},
   "toc_section_display": true,
   "toc_window_display": true
  }
 },
 "nbformat": 4,
 "nbformat_minor": 2
}
